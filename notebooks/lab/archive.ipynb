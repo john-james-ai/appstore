{
 "cells": [
  {
   "attachments": {},
   "cell_type": "markdown",
   "metadata": {},
   "source": [
    "# Archive\n",
    "ENVIRONMENT MUST BE PROD. CHANGE IT"
   ]
  },
  {
   "cell_type": "code",
   "execution_count": 1,
   "metadata": {},
   "outputs": [],
   "source": [
    "from appstore.container import AppstoreContainer\n",
    "from appstore.infrastructure.io.local import IOService"
   ]
  },
  {
   "cell_type": "code",
   "execution_count": 2,
   "metadata": {},
   "outputs": [],
   "source": [
    "container = AppstoreContainer()\n",
    "container.init_resources()\n",
    "container.wire(packages=[\"appstore.data.acquisition\"])"
   ]
  },
  {
   "cell_type": "markdown",
   "metadata": {},
   "source": [
    "## AppData"
   ]
  },
  {
   "cell_type": "raw",
   "metadata": {},
   "source": [
    "repo = container.data.appdata_repo()\n",
    "filepath = repo.archive()\n",
    "df = IOService.read(filepath)\n",
    "df.info()"
   ]
  },
  {
   "cell_type": "markdown",
   "metadata": {},
   "source": [
    "## Rating"
   ]
  },
  {
   "cell_type": "raw",
   "metadata": {},
   "source": [
    "repo = container.data.rating_repo()\n",
    "filepath = repo.archive()\n",
    "df = IOService.read(filepath)\n",
    "df.info()"
   ]
  },
  {
   "cell_type": "markdown",
   "metadata": {},
   "source": [
    "## Reviews"
   ]
  },
  {
   "cell_type": "code",
   "execution_count": 3,
   "metadata": {},
   "outputs": [
    {
     "ename": "AttributeError",
     "evalue": "'NoneType' object has no attribute 'read'",
     "output_type": "error",
     "traceback": [
      "\u001b[0;31m---------------------------------------------------------------------------\u001b[0m",
      "\u001b[0;31mAttributeError\u001b[0m                            Traceback (most recent call last)",
      "Cell \u001b[0;32mIn[3], line 3\u001b[0m\n\u001b[1;32m      1\u001b[0m repo \u001b[39m=\u001b[39m container\u001b[39m.\u001b[39mdata\u001b[39m.\u001b[39mreview_repo()\n\u001b[1;32m      2\u001b[0m filepath \u001b[39m=\u001b[39m repo\u001b[39m.\u001b[39marchive(by_category\u001b[39m=\u001b[39m\u001b[39mTrue\u001b[39;00m)\n\u001b[0;32m----> 3\u001b[0m df \u001b[39m=\u001b[39m IOService\u001b[39m.\u001b[39;49mread(filepath)\n\u001b[1;32m      4\u001b[0m df\u001b[39m.\u001b[39minfo()\n",
      "File \u001b[0;32m~/projects/appstore/appstore/infrastructure/io/local.py:303\u001b[0m, in \u001b[0;36mIOService.read\u001b[0;34m(cls, filepath, **kwargs)\u001b[0m\n\u001b[1;32m    300\u001b[0m \u001b[39m@classmethod\u001b[39m\n\u001b[1;32m    301\u001b[0m \u001b[39mdef\u001b[39;00m \u001b[39mread\u001b[39m(\u001b[39mcls\u001b[39m, filepath: \u001b[39mstr\u001b[39m, \u001b[39m*\u001b[39m\u001b[39m*\u001b[39mkwargs) \u001b[39m-\u001b[39m\u001b[39m>\u001b[39m Any:\n\u001b[1;32m    302\u001b[0m     io \u001b[39m=\u001b[39m \u001b[39mcls\u001b[39m\u001b[39m.\u001b[39m_get_io(filepath)\n\u001b[0;32m--> 303\u001b[0m     \u001b[39mreturn\u001b[39;00m io\u001b[39m.\u001b[39;49mread(filepath, \u001b[39m*\u001b[39m\u001b[39m*\u001b[39mkwargs)\n",
      "\u001b[0;31mAttributeError\u001b[0m: 'NoneType' object has no attribute 'read'"
     ]
    }
   ],
   "source": [
    "repo = container.data.review_repo()\n",
    "filepath = repo.archive(by_category=True)\n",
    "df = IOService.read(filepath)\n",
    "df.info()"
   ]
  }
 ],
 "metadata": {
  "kernelspec": {
   "display_name": "appstore",
   "language": "python",
   "name": "python3"
  },
  "language_info": {
   "codemirror_mode": {
    "name": "ipython",
    "version": 3
   },
   "file_extension": ".py",
   "mimetype": "text/x-python",
   "name": "python",
   "nbconvert_exporter": "python",
   "pygments_lexer": "ipython3",
   "version": "3.10.12"
  },
  "orig_nbformat": 4
 },
 "nbformat": 4,
 "nbformat_minor": 2
}
