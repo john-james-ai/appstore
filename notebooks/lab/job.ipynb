{
 "cells": [
  {
   "cell_type": "markdown",
   "metadata": {},
   "source": [
    "# Job Lab"
   ]
  },
  {
   "cell_type": "code",
   "execution_count": 1,
   "metadata": {},
   "outputs": [
    {
     "ename": "ImportError",
     "evalue": "cannot import name 'Result' from partially initialized module 'appstore.data.acquisition.base' (most likely due to a circular import) (/home/john/projects/appstore/appstore/data/acquisition/base.py)",
     "output_type": "error",
     "traceback": [
      "\u001b[0;31m---------------------------------------------------------------------------\u001b[0m",
      "\u001b[0;31mImportError\u001b[0m                               Traceback (most recent call last)",
      "Cell \u001b[0;32mIn[1], line 2\u001b[0m\n\u001b[1;32m      1\u001b[0m \u001b[39mfrom\u001b[39;00m \u001b[39mdatetime\u001b[39;00m \u001b[39mimport\u001b[39;00m datetime\n\u001b[0;32m----> 2\u001b[0m \u001b[39mfrom\u001b[39;00m \u001b[39mappstore\u001b[39;00m\u001b[39m.\u001b[39;00m\u001b[39mcontainer\u001b[39;00m \u001b[39mimport\u001b[39;00m AppstoreContainer\n\u001b[1;32m      3\u001b[0m \u001b[39mfrom\u001b[39;00m \u001b[39mappstore\u001b[39;00m\u001b[39m.\u001b[39;00m\u001b[39minfrastructure\u001b[39;00m\u001b[39m.\u001b[39;00m\u001b[39mio\u001b[39;00m\u001b[39m.\u001b[39;00m\u001b[39mlocal\u001b[39;00m \u001b[39mimport\u001b[39;00m IOService\n",
      "File \u001b[0;32m~/projects/appstore/appstore/container.py:29\u001b[0m\n\u001b[1;32m     27\u001b[0m \u001b[39mfrom\u001b[39;00m \u001b[39mappstore\u001b[39;00m\u001b[39m.\u001b[39;00m\u001b[39minfrastructure\u001b[39;00m\u001b[39m.\u001b[39;00m\u001b[39mweb\u001b[39;00m\u001b[39m.\u001b[39;00m\u001b[39mthrottle\u001b[39;00m \u001b[39mimport\u001b[39;00m LatencyThrottle, AThrottle\n\u001b[1;32m     28\u001b[0m \u001b[39mfrom\u001b[39;00m \u001b[39mappstore\u001b[39;00m\u001b[39m.\u001b[39;00m\u001b[39minfrastructure\u001b[39;00m\u001b[39m.\u001b[39;00m\u001b[39mdatabase\u001b[39;00m\u001b[39m.\u001b[39;00m\u001b[39mmysql\u001b[39;00m \u001b[39mimport\u001b[39;00m MySQLDatabase\n\u001b[0;32m---> 29\u001b[0m \u001b[39mfrom\u001b[39;00m \u001b[39mappstore\u001b[39;00m\u001b[39m.\u001b[39;00m\u001b[39mdata\u001b[39;00m\u001b[39m.\u001b[39;00m\u001b[39mstorage\u001b[39;00m\u001b[39m.\u001b[39;00m\u001b[39mproject\u001b[39;00m \u001b[39mimport\u001b[39;00m AppDataProjectRepo\n\u001b[1;32m     30\u001b[0m \u001b[39mfrom\u001b[39;00m \u001b[39mappstore\u001b[39;00m\u001b[39m.\u001b[39;00m\u001b[39mdata\u001b[39;00m\u001b[39m.\u001b[39;00m\u001b[39mstorage\u001b[39;00m\u001b[39m.\u001b[39;00m\u001b[39mappdata\u001b[39;00m \u001b[39mimport\u001b[39;00m AppDataRepo\n\u001b[1;32m     31\u001b[0m \u001b[39mfrom\u001b[39;00m \u001b[39mappstore\u001b[39;00m\u001b[39m.\u001b[39;00m\u001b[39mdata\u001b[39;00m\u001b[39m.\u001b[39;00m\u001b[39mstorage\u001b[39;00m\u001b[39m.\u001b[39;00m\u001b[39mreview\u001b[39;00m \u001b[39mimport\u001b[39;00m ReviewRepo\n",
      "File \u001b[0;32m~/projects/appstore/appstore/data/storage/project.py:26\u001b[0m\n\u001b[1;32m     22\u001b[0m \u001b[39mfrom\u001b[39;00m \u001b[39mtyping\u001b[39;00m \u001b[39mimport\u001b[39;00m Union\n\u001b[1;32m     24\u001b[0m \u001b[39mimport\u001b[39;00m \u001b[39mpandas\u001b[39;00m \u001b[39mas\u001b[39;00m \u001b[39mpd\u001b[39;00m\n\u001b[0;32m---> 26\u001b[0m \u001b[39mfrom\u001b[39;00m \u001b[39mappstore\u001b[39;00m\u001b[39m.\u001b[39;00m\u001b[39mdata\u001b[39;00m\u001b[39m.\u001b[39;00m\u001b[39macquisition\u001b[39;00m\u001b[39m.\u001b[39;00m\u001b[39mappdata\u001b[39;00m\u001b[39m.\u001b[39;00m\u001b[39mproject\u001b[39;00m \u001b[39mimport\u001b[39;00m AppDataProject\n\u001b[1;32m     27\u001b[0m \u001b[39mfrom\u001b[39;00m \u001b[39mappstore\u001b[39;00m\u001b[39m.\u001b[39;00m\u001b[39mdata\u001b[39;00m\u001b[39m.\u001b[39;00m\u001b[39mstorage\u001b[39;00m\u001b[39m.\u001b[39;00m\u001b[39mbase\u001b[39;00m \u001b[39mimport\u001b[39;00m Repo\n\u001b[1;32m     28\u001b[0m \u001b[39mfrom\u001b[39;00m \u001b[39mappstore\u001b[39;00m\u001b[39m.\u001b[39;00m\u001b[39minfrastructure\u001b[39;00m\u001b[39m.\u001b[39;00m\u001b[39mdatabase\u001b[39;00m\u001b[39m.\u001b[39;00m\u001b[39mbase\u001b[39;00m \u001b[39mimport\u001b[39;00m Database\n",
      "File \u001b[0;32m~/projects/appstore/appstore/data/acquisition/appdata/project.py:25\u001b[0m\n\u001b[1;32m     22\u001b[0m \u001b[39mfrom\u001b[39;00m \u001b[39mdatetime\u001b[39;00m \u001b[39mimport\u001b[39;00m datetime\n\u001b[1;32m     24\u001b[0m \u001b[39mimport\u001b[39;00m \u001b[39mpandas\u001b[39;00m \u001b[39mas\u001b[39;00m \u001b[39mpd\u001b[39;00m\n\u001b[0;32m---> 25\u001b[0m \u001b[39mfrom\u001b[39;00m \u001b[39mappstore\u001b[39;00m\u001b[39m.\u001b[39;00m\u001b[39mdata\u001b[39;00m\u001b[39m.\u001b[39;00m\u001b[39macquisition\u001b[39;00m\u001b[39m.\u001b[39;00m\u001b[39mbase\u001b[39;00m \u001b[39mimport\u001b[39;00m Project\n\u001b[1;32m     27\u001b[0m \u001b[39m# ------------------------------------------------------------------------------------------------ #\u001b[39;00m\n\u001b[1;32m     28\u001b[0m \n\u001b[1;32m     29\u001b[0m \u001b[39m# ------------------------------------------------------------------------------------------------ #\u001b[39;00m\n\u001b[1;32m     30\u001b[0m counter \u001b[39m=\u001b[39m itertools\u001b[39m.\u001b[39mcount()\n",
      "File \u001b[0;32m~/projects/appstore/appstore/data/acquisition/base.py:28\u001b[0m\n\u001b[1;32m     24\u001b[0m \u001b[39mfrom\u001b[39;00m \u001b[39mtyping\u001b[39;00m \u001b[39mimport\u001b[39;00m Any\n\u001b[1;32m     26\u001b[0m \u001b[39mimport\u001b[39;00m \u001b[39mpandas\u001b[39;00m \u001b[39mas\u001b[39;00m \u001b[39mpd\u001b[39;00m\n\u001b[0;32m---> 28\u001b[0m \u001b[39mfrom\u001b[39;00m \u001b[39m.\u001b[39;00m\u001b[39mjob\u001b[39;00m \u001b[39mimport\u001b[39;00m Job\n\u001b[1;32m     29\u001b[0m \u001b[39mfrom\u001b[39;00m \u001b[39mappstore\u001b[39;00m\u001b[39m.\u001b[39;00m\u001b[39mbase\u001b[39;00m \u001b[39mimport\u001b[39;00m DTO\n\u001b[1;32m     31\u001b[0m \u001b[39m# ------------------------------------------------------------------------------------------------ #\u001b[39;00m\n\u001b[1;32m     32\u001b[0m \n\u001b[1;32m     33\u001b[0m \n\u001b[1;32m     34\u001b[0m \u001b[39m# ------------------------------------------------------------------------------------------------ #\u001b[39;00m\n",
      "File \u001b[0;32m~/projects/appstore/appstore/data/acquisition/job.py:29\u001b[0m\n\u001b[1;32m     26\u001b[0m \u001b[39mimport\u001b[39;00m \u001b[39mpandas\u001b[39;00m \u001b[39mas\u001b[39;00m \u001b[39mpd\u001b[39;00m\n\u001b[1;32m     28\u001b[0m \u001b[39mfrom\u001b[39;00m \u001b[39mappstore\u001b[39;00m\u001b[39m.\u001b[39;00m\u001b[39mbase\u001b[39;00m \u001b[39mimport\u001b[39;00m DTO\n\u001b[0;32m---> 29\u001b[0m \u001b[39mfrom\u001b[39;00m \u001b[39m.\u001b[39;00m\u001b[39mbase\u001b[39;00m \u001b[39mimport\u001b[39;00m Result\n\u001b[1;32m     32\u001b[0m \u001b[39m# ------------------------------------------------------------------------------------------------ #\u001b[39;00m\n\u001b[1;32m     33\u001b[0m \u001b[39m@dataclass\u001b[39m\n\u001b[1;32m     34\u001b[0m \u001b[39mclass\u001b[39;00m \u001b[39mJob\u001b[39;00m(DTO):\n",
      "\u001b[0;31mImportError\u001b[0m: cannot import name 'Result' from partially initialized module 'appstore.data.acquisition.base' (most likely due to a circular import) (/home/john/projects/appstore/appstore/data/acquisition/base.py)"
     ]
    }
   ],
   "source": [
    "from datetime import datetime\n",
    "from appstore.container import AppstoreContainer\n",
    "from appstore.infrastructure.io.local import IOService"
   ]
  },
  {
   "cell_type": "code",
   "execution_count": null,
   "metadata": {},
   "outputs": [],
   "source": [
    "container = AppstoreContainer()\n",
    "container.init_resources()\n",
    "container.wire(packages=[\"appstore.data.acquisition\"])"
   ]
  },
  {
   "cell_type": "code",
   "execution_count": null,
   "metadata": {},
   "outputs": [],
   "source": [
    "FP = \"notes/appstore.xlsx\"\n",
    "started = \"07/15/2023 04:20:20\"\n",
    "ended = \"07/29/2023 04:20:20\"\n",
    "epoch = \"01/01/1970 00:00:10\"\n",
    "FPRATINGS = \"tests/data/job/rating.csv\"\n",
    "FPREVIEWS = \"tests/data/job/review.csv\""
   ]
  },
  {
   "cell_type": "code",
   "execution_count": null,
   "metadata": {},
   "outputs": [],
   "source": [
    "df = IOService.read(FP, sheet_name=\"status\")\n",
    "completed = df['status'] == 'completed'\n",
    "df.loc[completed, \"started\"] = datetime.strptime(started, \"%m/%d/%Y %H:%M:%S\")\n",
    "df.loc[completed, \"updated\"] = datetime.strptime(ended, \"%m/%d/%Y %H:%M:%S\")\n",
    "df.loc[completed, \"ended\"] = datetime.strptime(ended, \"%m/%d/%Y %H:%M:%S\")\n",
    "df.loc[completed, \"runs\"] = 1\n",
    "df.loc[completed, \"elapsed\"] = 9999\n",
    "\n",
    "notcompleted = df['status'] != \"completed\"\n",
    "df.loc[notcompleted, \"started\"] = datetime.strptime(epoch, \"%m/%d/%Y %H:%M:%S\")\n",
    "df.loc[notcompleted, \"updated\"] = datetime.strptime(epoch, \"%m/%d/%Y %H:%M:%S\")\n",
    "df.loc[notcompleted, \"ended\"] = datetime.strptime(epoch, \"%m/%d/%Y %H:%M:%S\")\n",
    "df.loc[notcompleted, \"runs\"] = 0\n",
    "df.loc[notcompleted, \"elapsed\"] = 0"
   ]
  },
  {
   "cell_type": "markdown",
   "metadata": {},
   "source": [
    "## Rating Job Repo"
   ]
  },
  {
   "cell_type": "code",
   "execution_count": null,
   "metadata": {},
   "outputs": [],
   "source": [
    "rating = df[df['controller'] == \"RatingController\"]\n",
    "repo = container.data.rating_job_repo()\n",
    "repo.reset()\n",
    "repo.add(data=rating)\n",
    "df = repo.getall()"
   ]
  },
  {
   "cell_type": "code",
   "execution_count": null,
   "metadata": {},
   "outputs": [],
   "source": [
    "repo = container.data.job_repo()\n",
    "repo.reset()\n",
    "repo.add(data=df)\n",
    "df = repo.getall()\n",
    "IOService.write(filepath=FPRATINGS, data=df)\n",
    "df"
   ]
  },
  {
   "cell_type": "markdown",
   "metadata": {},
   "source": [
    "## Review Job Repo"
   ]
  },
  {
   "cell_type": "code",
   "execution_count": null,
   "metadata": {},
   "outputs": [],
   "source": [
    "review = df[df['controller'] == \"ReviewController\"]\n",
    "repo = container.data.review_job_repo()\n",
    "repo.reset()\n",
    "repo.add(data=review)\n",
    "df = repo.getall()\n",
    "IOService.write(filepath=FPREVIEWS, data=df)\n",
    "df"
   ]
  }
 ],
 "metadata": {
  "kernelspec": {
   "display_name": "appstore",
   "language": "python",
   "name": "python3"
  },
  "language_info": {
   "codemirror_mode": {
    "name": "ipython",
    "version": 3
   },
   "file_extension": ".py",
   "mimetype": "text/x-python",
   "name": "python",
   "nbconvert_exporter": "python",
   "pygments_lexer": "ipython3",
   "version": "3.10.12"
  },
  "orig_nbformat": 4
 },
 "nbformat": 4,
 "nbformat_minor": 2
}
