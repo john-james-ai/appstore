{
 "cells": [
  {
   "cell_type": "markdown",
   "metadata": {},
   "source": [
    "# Job Lab"
   ]
  },
  {
   "cell_type": "code",
   "execution_count": 1,
   "metadata": {},
   "outputs": [],
   "source": [
    "from datetime import datetime\n",
    "from appstore.container import AppstoreContainer\n",
    "from appstore.infrastructure.io.local import IOService"
   ]
  },
  {
   "cell_type": "code",
   "execution_count": 2,
   "metadata": {},
   "outputs": [],
   "source": [
    "container = AppstoreContainer()\n",
    "container.init_resources()\n",
    "container.wire(packages=[\"appstore.data.acquisition\"])"
   ]
  },
  {
   "cell_type": "code",
   "execution_count": 3,
   "metadata": {},
   "outputs": [],
   "source": [
    "FP = \"notes/jobs.xlsx\"\n",
    "started = \"07/15/2023 04:20:20\"\n",
    "ended = \"07/29/2023 04:20:20\"\n",
    "epoch = \"01/01/1970 00:00:10\"\n",
    "FPRATINGS = \"tests/data/job/rating.csv\"\n",
    "FPREVIEWS = \"tests/data/job/review.csv\""
   ]
  },
  {
   "cell_type": "markdown",
   "metadata": {},
   "source": [
    "## Ratings"
   ]
  },
  {
   "cell_type": "code",
   "execution_count": 4,
   "metadata": {},
   "outputs": [
    {
     "ename": "SyntaxError",
     "evalue": "incomplete input (4096460405.py, line 7)",
     "output_type": "error",
     "traceback": [
      "\u001b[0;36m  Cell \u001b[0;32mIn[4], line 7\u001b[0;36m\u001b[0m\n\u001b[0;31m    \u001b[0m\n\u001b[0m    ^\u001b[0m\n\u001b[0;31mSyntaxError\u001b[0m\u001b[0;31m:\u001b[0m incomplete input\n"
     ]
    }
   ],
   "source": [
    "df = IOService.read(FP, sheet_name=\"rating\")\n",
    "completed = df['complete'] is True\n",
    "df.loc[completed, \"completed\"] = datetime.strptime(started, \"%m/%d/%Y %H:%M:%S\")\n",
    "notcompleted = df['complete'] is False\n",
    "df.loc[notcompleted, \"completed\"] = datetime.strptime(epoch, \"%m/%d/%Y %H:%M:%S\")\n",
    "try:\n",
    "    \n"
   ]
  },
  {
   "cell_type": "code",
   "execution_count": null,
   "metadata": {},
   "outputs": [],
   "source": [
    "repo = container.data.rating_job_repo()\n",
    "repo.reset()\n",
    "repo.add(data=df)\n",
    "df = repo.getall()\n",
    "IOService.write(filepath=FPRATINGS, data=df)"
   ]
  },
  {
   "cell_type": "markdown",
   "metadata": {},
   "source": [
    "## Reviews"
   ]
  },
  {
   "cell_type": "code",
   "execution_count": null,
   "metadata": {},
   "outputs": [],
   "source": [
    "df = IOService.read(FP, sheet_name=\"review\")\n",
    "completed = df['status'] == 'completed'\n",
    "df.loc[completed, \"started\"] = datetime.strptime(started, \"%m/%d/%Y %H:%M:%S\")\n",
    "df.loc[completed, \"updated\"] = datetime.strptime(ended, \"%m/%d/%Y %H:%M:%S\")\n",
    "df.loc[completed, \"ended\"] = datetime.strptime(ended, \"%m/%d/%Y %H:%M:%S\")\n",
    "\n",
    "notcompleted = df['status'] != \"completed\"\n",
    "df.loc[notcompleted, \"started\"] = datetime.strptime(epoch, \"%m/%d/%Y %H:%M:%S\")\n",
    "df.loc[notcompleted, \"updated\"] = datetime.strptime(epoch, \"%m/%d/%Y %H:%M:%S\")\n",
    "df.loc[notcompleted, \"ended\"] = datetime.strptime(epoch, \"%m/%d/%Y %H:%M:%S\")\n"
   ]
  },
  {
   "cell_type": "code",
   "execution_count": null,
   "metadata": {},
   "outputs": [],
   "source": [
    "repo = container.data.review_job_repo()\n",
    "repo.reset()\n",
    "repo.add(data=df)\n",
    "df = repo.getall()\n",
    "IOService.write(filepath=FPREVIEWS, data=df)\n",
    "df"
   ]
  }
 ],
 "metadata": {
  "kernelspec": {
   "display_name": "appstore",
   "language": "python",
   "name": "python3"
  },
  "language_info": {
   "codemirror_mode": {
    "name": "ipython",
    "version": 3
   },
   "file_extension": ".py",
   "mimetype": "text/x-python",
   "name": "python",
   "nbconvert_exporter": "python",
   "pygments_lexer": "ipython3",
   "version": "3.10.12"
  },
  "orig_nbformat": 4
 },
 "nbformat": 4,
 "nbformat_minor": 2
}
