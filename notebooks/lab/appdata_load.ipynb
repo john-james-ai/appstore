{
 "cells": [
  {
   "attachments": {},
   "cell_type": "markdown",
   "metadata": {},
   "source": [
    "# App Data\n",
    "ENVIRONMENT MUST BE TEST. CHANGE IT"
   ]
  },
  {
   "cell_type": "code",
   "execution_count": 1,
   "metadata": {},
   "outputs": [],
   "source": [
    "import os\n",
    "import pandas as pd\n",
    "from appstore.container import AppstoreContainer\n",
    "from appstore.infrastructure.io.local import IOService"
   ]
  },
  {
   "cell_type": "code",
   "execution_count": 2,
   "metadata": {},
   "outputs": [],
   "source": [
    "container = AppstoreContainer()\n",
    "container.init_resources()\n",
    "container.wire(packages=[\"appstore.data.acquisition\"])"
   ]
  },
  {
   "cell_type": "code",
   "execution_count": 3,
   "metadata": {},
   "outputs": [],
   "source": [
    "TF = \"data/archive/appdata/appdata_07-29-2023_17-16-45.pkl\"\n",
    "df = IOService.read(TF, index=False)"
   ]
  },
  {
   "cell_type": "code",
   "execution_count": 4,
   "metadata": {},
   "outputs": [
    {
     "name": "stderr",
     "output_type": "stream",
     "text": [
      "[08/02/2023 08:31:28 AM] [DEBUG] [AppDataRepo] [replace] : Replaced appdata repository data with 475132 rows.\n"
     ]
    },
    {
     "name": "stdout",
     "output_type": "stream",
     "text": [
      "<class 'pandas.core.frame.DataFrame'>\n",
      "RangeIndex: 475132 entries, 0 to 475131\n",
      "Data columns (total 11 columns):\n",
      " #   Column        Non-Null Count   Dtype         \n",
      "---  ------        --------------   -----         \n",
      " 0   id            475132 non-null  string        \n",
      " 1   name          475132 non-null  string        \n",
      " 2   description   475132 non-null  string        \n",
      " 3   category_id   475132 non-null  category      \n",
      " 4   category      475132 non-null  category      \n",
      " 5   price         475132 non-null  float64       \n",
      " 6   developer_id  475132 non-null  string        \n",
      " 7   developer     475132 non-null  string        \n",
      " 8   rating        475132 non-null  float64       \n",
      " 9   ratings       475132 non-null  int64         \n",
      " 10  released      440837 non-null  datetime64[ns]\n",
      "dtypes: category(2), datetime64[ns](1), float64(2), int64(1), string(5)\n",
      "memory usage: 33.5 MB\n"
     ]
    }
   ],
   "source": [
    "repo = container.data.appdata_repo()\n",
    "repo.replace(data=df)\n",
    "df2 = repo.getall()\n",
    "df2.info()"
   ]
  }
 ],
 "metadata": {
  "kernelspec": {
   "display_name": "appstore",
   "language": "python",
   "name": "python3"
  },
  "language_info": {
   "codemirror_mode": {
    "name": "ipython",
    "version": 3
   },
   "file_extension": ".py",
   "mimetype": "text/x-python",
   "name": "python",
   "nbconvert_exporter": "python",
   "pygments_lexer": "ipython3",
   "version": "3.10.12"
  },
  "orig_nbformat": 4
 },
 "nbformat": 4,
 "nbformat_minor": 2
}
