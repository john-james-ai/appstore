{
 "cells": [
  {
   "attachments": {},
   "cell_type": "markdown",
   "metadata": {},
   "source": [
    "# App Data\n",
    "ENVIRONMENT MUST BE TEST. CHANGE IT"
   ]
  },
  {
   "cell_type": "code",
   "execution_count": 1,
   "metadata": {},
   "outputs": [],
   "source": [
    "import os\n",
    "import pandas as pd\n",
    "from appstore.container import AppstoreContainer\n",
    "from appstore.infrastructure.io.local import IOService"
   ]
  },
  {
   "cell_type": "code",
   "execution_count": 2,
   "metadata": {},
   "outputs": [],
   "source": [
    "container = AppstoreContainer()\n",
    "container.init_resources()\n",
    "container.wire(packages=[\"appstore.data.acquisition\"])"
   ]
  },
  {
   "cell_type": "code",
   "execution_count": 3,
   "metadata": {},
   "outputs": [],
   "source": [
    "TF = \"tests/data/appdata/rating/appdata.pkl\"\n",
    "df = IOService.read(TF, index=False)"
   ]
  },
  {
   "cell_type": "code",
   "execution_count": 4,
   "metadata": {},
   "outputs": [
    {
     "name": "stderr",
     "output_type": "stream",
     "text": [
      "[05/07/2023 10:30:16 AM] [DEBUG] [AppDataRepo] [replace] : Replace appdata repository data with 60 rows.\n"
     ]
    },
    {
     "name": "stdout",
     "output_type": "stream",
     "text": [
      "<class 'pandas.core.frame.DataFrame'>\n",
      "RangeIndex: 60 entries, 0 to 59\n",
      "Data columns (total 12 columns):\n",
      " #   Column        Non-Null Count  Dtype  \n",
      "---  ------        --------------  -----  \n",
      " 0   id            60 non-null     int64  \n",
      " 1   name          60 non-null     object \n",
      " 2   description   60 non-null     object \n",
      " 3   category_id   60 non-null     int64  \n",
      " 4   category      60 non-null     object \n",
      " 5   price         60 non-null     float64\n",
      " 6   developer_id  60 non-null     int64  \n",
      " 7   developer     60 non-null     object \n",
      " 8   rating        60 non-null     float64\n",
      " 9   ratings       60 non-null     int64  \n",
      " 10  released      60 non-null     object \n",
      " 11  source        60 non-null     object \n",
      "dtypes: float64(2), int64(4), object(6)\n",
      "memory usage: 5.8+ KB\n"
     ]
    }
   ],
   "source": [
    "repo = container.data.appdata_repo()\n",
    "repo.replace(data=df)\n",
    "df2 = repo.getall()\n",
    "df2.info()"
   ]
  }
 ],
 "metadata": {
  "kernelspec": {
   "display_name": "appstore",
   "language": "python",
   "name": "python3"
  },
  "language_info": {
   "codemirror_mode": {
    "name": "ipython",
    "version": 3
   },
   "file_extension": ".py",
   "mimetype": "text/x-python",
   "name": "python",
   "nbconvert_exporter": "python",
   "pygments_lexer": "ipython3",
   "version": "3.10.11"
  },
  "orig_nbformat": 4
 },
 "nbformat": 4,
 "nbformat_minor": 2
}
