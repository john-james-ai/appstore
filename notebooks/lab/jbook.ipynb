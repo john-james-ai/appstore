{
 "cells": [
  {
   "cell_type": "code",
   "execution_count": 1,
   "metadata": {},
   "outputs": [],
   "source": [
    "import jupytext\n",
    "import os\n",
    "from glob import glob\n"
   ]
  },
  {
   "cell_type": "code",
   "execution_count": 4,
   "metadata": {},
   "outputs": [],
   "source": [
    "nb = jupytext.read(\"notebooks/02_eda/02_rating.ipynb\")\n",
    "jupytext.write(nb,\"jbook/3_data/3_eda_stage_2.md\", fmt=\"md:myst\")"
   ]
  },
  {
   "cell_type": "code",
   "execution_count": 20,
   "metadata": {},
   "outputs": [
    {
     "data": {
      "text/plain": [
       "'/home/john/projects/appstore'"
      ]
     },
     "execution_count": 20,
     "metadata": {},
     "output_type": "execute_result"
    },
    {
     "data": {
      "text/plain": [
       "['jbook/content/99_references.md',\n",
       " 'jbook/content/forward.md',\n",
       " 'jbook/content/2_background/1_voc.md',\n",
       " 'jbook/content/3_data/2_appdata.md',\n",
       " 'jbook/content/3_data/3_appstats.md',\n",
       " 'jbook/content/3_data/1_intro.md',\n",
       " 'jbook/content/3_data/4_reviews.md',\n",
       " 'jbook/content/3_data/5_summary.md',\n",
       " 'jbook/content/4_eda/2_appdata.md',\n",
       " 'jbook/content/4_eda/3_appstats.md',\n",
       " 'jbook/content/4_eda/1_intro.md',\n",
       " 'jbook/content/4_eda/4_reviews.md',\n",
       " 'jbook/content/4_eda/5_summary.md',\n",
       " 'jbook/content/1_intro/1_intro.md']"
      ]
     },
     "execution_count": 20,
     "metadata": {},
     "output_type": "execute_result"
    },
    {
     "data": {
      "text/plain": [
       "['notebooks/content/99_references.ipynb',\n",
       " 'notebooks/content/forward.ipynb',\n",
       " 'notebooks/content/2_background/1_voc.ipynb',\n",
       " 'notebooks/content/3_data/2_appdata.ipynb',\n",
       " 'notebooks/content/3_data/3_appstats.ipynb',\n",
       " 'notebooks/content/3_data/1_intro.ipynb',\n",
       " 'notebooks/content/3_data/4_reviews.ipynb',\n",
       " 'notebooks/content/3_data/5_summary.ipynb',\n",
       " 'notebooks/content/4_eda/2_appdata.ipynb',\n",
       " 'notebooks/content/4_eda/3_appstats.ipynb',\n",
       " 'notebooks/content/4_eda/1_intro.ipynb',\n",
       " 'notebooks/content/4_eda/4_reviews.ipynb',\n",
       " 'notebooks/content/4_eda/5_summary.ipynb',\n",
       " 'notebooks/content/1_intro/1_intro.ipynb']"
      ]
     },
     "execution_count": 20,
     "metadata": {},
     "output_type": "execute_result"
    }
   ],
   "source": [
    "source = \"jbook\"\n",
    "destination = \"notebooks\"\n",
    "pattern = source + \"/content/**/*.md\"\n",
    "rootdir = os.getcwd()\n",
    "rootdir\n",
    "sources = glob(pathname=pattern, recursive=True)\n",
    "sources\n",
    "dests = [fp.replace('.md','.ipynb') for fp in sources]\n",
    "dests = [dest.replace(source,destination) for dest in dests]\n",
    "dests\n"
   ]
  }
 ],
 "metadata": {
  "kernelspec": {
   "display_name": "appstore",
   "language": "python",
   "name": "python3"
  },
  "language_info": {
   "codemirror_mode": {
    "name": "ipython",
    "version": 3
   },
   "file_extension": ".py",
   "mimetype": "text/x-python",
   "name": "python",
   "nbconvert_exporter": "python",
   "pygments_lexer": "ipython3",
   "version": "3.10.12"
  },
  "orig_nbformat": 4
 },
 "nbformat": 4,
 "nbformat_minor": 2
}
