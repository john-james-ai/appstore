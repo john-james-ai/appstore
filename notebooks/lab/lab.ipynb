{
 "cells": [
  {
   "cell_type": "code",
   "execution_count": 2,
   "metadata": {},
   "outputs": [
    {
     "data": {
      "text/plain": [
       "7"
      ]
     },
     "execution_count": 2,
     "metadata": {},
     "output_type": "execute_result"
    }
   ],
   "source": [
    "import pandas as pd\n",
    "DTYPES = pd.DataFrame.from_dict(\n",
    "    data={\n",
    "        \"Column\": [\n",
    "            \"id\",\n",
    "            \"name\",\n",
    "            \"description\",\n",
    "            \"category_id\",\n",
    "            \"category\",\n",
    "            \"price\",\n",
    "            \"developer_id\",\n",
    "            \"developer\",\n",
    "            \"rating\",\n",
    "            \"ratings\",\n",
    "            \"released\",\n",
    "        ],\n",
    "        \"Data Type\": [\n",
    "            \"Nominal\",\n",
    "            \"Nominal\",\n",
    "            \"Nominal\",\n",
    "            \"Nominal\",\n",
    "            \"Nominal\",\n",
    "            \"Continuous\",\n",
    "            \"Nominal\",\n",
    "            \"Nominal\",\n",
    "            \"Ordinal\",\n",
    "            \"Discrete\",\n",
    "            \"Continuous\",\n",
    "        ],\n",
    "    },\n",
    "    orient=\"columns\",\n",
    ")\n",
    "list(DTYPES[\"Data Type\"]).count(\"Nominal\")"
   ]
  }
 ],
 "metadata": {
  "kernelspec": {
   "display_name": "appstore",
   "language": "python",
   "name": "python3"
  },
  "language_info": {
   "codemirror_mode": {
    "name": "ipython",
    "version": 3
   },
   "file_extension": ".py",
   "mimetype": "text/x-python",
   "name": "python",
   "nbconvert_exporter": "python",
   "pygments_lexer": "ipython3",
   "version": "3.10.11"
  },
  "orig_nbformat": 4
 },
 "nbformat": 4,
 "nbformat_minor": 2
}
