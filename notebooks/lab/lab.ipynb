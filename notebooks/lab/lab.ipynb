{
 "cells": [
  {
   "cell_type": "code",
   "execution_count": 1,
   "metadata": {},
   "outputs": [],
   "source": [
    "from appstore.container import AppstoreContainer"
   ]
  },
  {
   "cell_type": "code",
   "execution_count": 2,
   "metadata": {},
   "outputs": [
    {
     "ename": "IndentationError",
     "evalue": "unexpected indent (scraper.py, line 159)",
     "output_type": "error",
     "traceback": [
      "Traceback \u001b[0;36m(most recent call last)\u001b[0m:\n",
      "\u001b[0m  File \u001b[1;32m~/anaconda3/envs/appstore/lib/python3.10/site-packages/IPython/core/interactiveshell.py:3505\u001b[0m in \u001b[1;35mrun_code\u001b[0m\n    exec(code_obj, self.user_global_ns, self.user_ns)\u001b[0m\n",
      "\u001b[0m  Cell \u001b[1;32mIn[2], line 3\u001b[0m\n    container.wire(packages=[\"appstore.data.acquisition\"])\u001b[0m\n",
      "\u001b[0m  File \u001b[1;32msrc/dependency_injector/containers.pyx:317\u001b[0m in \u001b[1;35mdependency_injector.containers.DynamicContainer.wire\u001b[0m\n",
      "\u001b[0m  File \u001b[1;32m~/anaconda3/envs/appstore/lib/python3.10/site-packages/dependency_injector/wiring.py:398\u001b[0m in \u001b[1;35mwire\u001b[0m\n    modules.extend(_fetch_modules(package))\u001b[0m\n",
      "\u001b[0m  File \u001b[1;32m~/anaconda3/envs/appstore/lib/python3.10/site-packages/dependency_injector/wiring.py:653\u001b[0m in \u001b[1;35m_fetch_modules\u001b[0m\n    module = importlib.import_module(module_info.name)\u001b[0m\n",
      "\u001b[0m  File \u001b[1;32m~/anaconda3/envs/appstore/lib/python3.10/importlib/__init__.py:126\u001b[0m in \u001b[1;35mimport_module\u001b[0m\n    return _bootstrap._gcd_import(name[level:], package, level)\u001b[0m\n",
      "\u001b[0m  File \u001b[1;32m<frozen importlib._bootstrap>:1050\u001b[0m in \u001b[1;35m_gcd_import\u001b[0m\n",
      "\u001b[0m  File \u001b[1;32m<frozen importlib._bootstrap>:1027\u001b[0m in \u001b[1;35m_find_and_load\u001b[0m\n",
      "\u001b[0m  File \u001b[1;32m<frozen importlib._bootstrap>:1006\u001b[0m in \u001b[1;35m_find_and_load_unlocked\u001b[0m\n",
      "\u001b[0m  File \u001b[1;32m<frozen importlib._bootstrap>:688\u001b[0m in \u001b[1;35m_load_unlocked\u001b[0m\n",
      "\u001b[0m  File \u001b[1;32m<frozen importlib._bootstrap_external>:883\u001b[0m in \u001b[1;35mexec_module\u001b[0m\n",
      "\u001b[0m  File \u001b[1;32m<frozen importlib._bootstrap>:241\u001b[0m in \u001b[1;35m_call_with_frames_removed\u001b[0m\n",
      "\u001b[0;36m  File \u001b[0;32m~/projects/appstore/appstore/data/acquisition/rating/controller.py:29\u001b[0;36m\n\u001b[0;31m    from appstore.data.acquisition.rating.scraper import RatingScraper\u001b[0;36m\n",
      "\u001b[0;36m  File \u001b[0;32m~/projects/appstore/appstore/data/acquisition/rating/scraper.py:159\u001b[0;36m\u001b[0m\n\u001b[0;31m    response = RatingResponse.create(batch=batch, response=response)\u001b[0m\n\u001b[0m    ^\u001b[0m\n\u001b[0;31mIndentationError\u001b[0m\u001b[0;31m:\u001b[0m unexpected indent\n"
     ]
    }
   ],
   "source": [
    "container = AppstoreContainer()\n",
    "container.init_resources()\n",
    "container.wire(packages=[\"appstore.data.acquisition\"])"
   ]
  },
  {
   "cell_type": "code",
   "execution_count": null,
   "metadata": {},
   "outputs": [],
   "source": [
    "repo = container.data.job_repo()\n",
    "df = repo.getall()\n",
    "df.sample(1)\n",
    "assert df['completed'][0] == True\n",
    "df.to_dict()"
   ]
  },
  {
   "cell_type": "code",
   "execution_count": 3,
   "metadata": {},
   "outputs": [
    {
     "data": {
      "text/plain": [
       "([{'adamId': 284882215,\n",
       "   'clickToRateUrl': 'https://userpub.itunes.apple.com/WebObjects/MZUserPublishing.woa/wa/userRateContent?displayable-kind=11&id=284882215',\n",
       "   'writeUserReviewUrl': 'https://userpub.itunes.apple.com/WebObjects/MZUserPublishing.woa/wa/writeUserReview?cc=us&displayable-kind=11&id=284882215',\n",
       "   'totalNumberOfReviews': 1104780,\n",
       "   'userReviewsRowUrl': 'https://itunes.apple.com/WebObjects/MZStore.woa/wa/userReviewsRow',\n",
       "   'userReviewsSortOptions': [{'sortId': 1, 'name': 'Most Helpful'},\n",
       "    {'sortId': 2, 'name': 'Most Favorable'},\n",
       "    {'sortId': 3, 'name': 'Most Critical'},\n",
       "    {'sortId': 4, 'name': 'Most Recent'}],\n",
       "   'kindId': 11,\n",
       "   'kindExtId': 'iosSoftware',\n",
       "   'kindName': 'software',\n",
       "   'saveUserReviewUrl': 'https://userpub.itunes.apple.com/WebObjects/MZUserPublishing.woa/wa/saveUserReview?displayable-kind=11',\n",
       "   'ariaLabelForRatings': '2 and a half stars',\n",
       "   'ratingCount': 1508778,\n",
       "   'ratingCountList': [906681, 83202, 79461, 91108, 348326],\n",
       "   'ratingAverage': 3.1},\n",
       "  {'adamId': 234882215,\n",
       "   'clickToRateUrl': 'https://userpub.itunes.apple.com/WebObjects/MZUserPublishing.woa/wa/userRateContent?displayable-kind=11&id=284882215',\n",
       "   'writeUserReviewUrl': 'https://userpub.itunes.apple.com/WebObjects/MZUserPublishing.woa/wa/writeUserReview?cc=us&displayable-kind=11&id=284882215',\n",
       "   'totalNumberOfReviews': 1104780,\n",
       "   'userReviewsRowUrl': 'https://itunes.apple.com/WebObjects/MZStore.woa/wa/userReviewsRow',\n",
       "   'userReviewsSortOptions': [{'sortId': 1, 'name': 'Most Helpful'},\n",
       "    {'sortId': 2, 'name': 'Most Favorable'},\n",
       "    {'sortId': 3, 'name': 'Most Critical'},\n",
       "    {'sortId': 4, 'name': 'Most Recent'}],\n",
       "   'kindId': 11,\n",
       "   'kindExtId': 'iosSoftware',\n",
       "   'kindName': 'software',\n",
       "   'saveUserReviewUrl': 'https://userpub.itunes.apple.com/WebObjects/MZUserPublishing.woa/wa/saveUserReview?displayable-kind=11',\n",
       "   'ariaLabelForRatings': '2 and a half stars',\n",
       "   'ratingCount': 1508778,\n",
       "   'ratingCountList': [906681, 83202, 79461, 91108, 348326],\n",
       "   'ratingAverage': 2.5},\n",
       "  {'adamId': 2848822987,\n",
       "   'clickToRateUrl': 'https://userpub.itunes.apple.com/WebObjects/MZUserPublishing.woa/wa/userRateContent?displayable-kind=11&id=284882215',\n",
       "   'writeUserReviewUrl': 'https://userpub.itunes.apple.com/WebObjects/MZUserPublishing.woa/wa/writeUserReview?cc=us&displayable-kind=11&id=284882215',\n",
       "   'totalNumberOfReviews': 1104780,\n",
       "   'userReviewsRowUrl': 'https://itunes.apple.com/WebObjects/MZStore.woa/wa/userReviewsRow',\n",
       "   'userReviewsSortOptions': [{'sortId': 1, 'name': 'Most Helpful'},\n",
       "    {'sortId': 2, 'name': 'Most Favorable'},\n",
       "    {'sortId': 3, 'name': 'Most Critical'},\n",
       "    {'sortId': 4, 'name': 'Most Recent'}],\n",
       "   'kindId': 11,\n",
       "   'kindExtId': 'iosSoftware',\n",
       "   'kindName': 'software',\n",
       "   'saveUserReviewUrl': 'https://userpub.itunes.apple.com/WebObjects/MZUserPublishing.woa/wa/saveUserReview?displayable-kind=11',\n",
       "   'ariaLabelForRatings': '2 and a half stars',\n",
       "   'ratingCount': 1254789,\n",
       "   'ratingCountList': [906681, 83202, 79461, 91108, 348326],\n",
       "   'ratingAverage': 4.2},\n",
       "  {'adamId': 87654321,\n",
       "   'clickToRateUrl': 'https://userpub.itunes.apple.com/WebObjects/MZUserPublishing.woa/wa/userRateContent?displayable-kind=11&id=284882215',\n",
       "   'writeUserReviewUrl': 'https://userpub.itunes.apple.com/WebObjects/MZUserPublishing.woa/wa/writeUserReview?cc=us&displayable-kind=11&id=284882215',\n",
       "   'totalNumberOfReviews': 1104780,\n",
       "   'userReviewsRowUrl': 'https://itunes.apple.com/WebObjects/MZStore.woa/wa/userReviewsRow',\n",
       "   'userReviewsSortOptions': [{'sortId': 1, 'name': 'Most Helpful'},\n",
       "    {'sortId': 2, 'name': 'Most Favorable'},\n",
       "    {'sortId': 3, 'name': 'Most Critical'},\n",
       "    {'sortId': 4, 'name': 'Most Recent'}],\n",
       "   'kindId': 11,\n",
       "   'kindExtId': 'iosSoftware',\n",
       "   'kindName': 'software',\n",
       "   'saveUserReviewUrl': 'https://userpub.itunes.apple.com/WebObjects/MZUserPublishing.woa/wa/saveUserReview?displayable-kind=11',\n",
       "   'ariaLabelForRatings': '2 and a half stars',\n",
       "   'xxx': 1254789,\n",
       "   'ratingCountList': [906681, 83202, 79461, 91108, 348326],\n",
       "   'ratingAverage': 4.2}],)"
      ]
     },
     "execution_count": 3,
     "metadata": {},
     "output_type": "execute_result"
    }
   ],
   "source": [
    "from tests.data.rating.response import responses\n"
   ]
  },
  {
   "cell_type": "code",
   "execution_count": 10,
   "metadata": {},
   "outputs": [
    {
     "data": {
      "text/plain": [
       "True"
      ]
     },
     "execution_count": 10,
     "metadata": {},
     "output_type": "execute_result"
    }
   ],
   "source": [
    "keys = [\"adamId\",\"ratingAverage\",\"totalNumberOfReviews\", \"ratingCount\", \"ratingCountList\"]\n",
    "sum([1 for key in responses[0] for key in keys]) == len(keys) * len(responses[0])"
   ]
  }
 ],
 "metadata": {
  "kernelspec": {
   "display_name": "appstore",
   "language": "python",
   "name": "python3"
  },
  "language_info": {
   "codemirror_mode": {
    "name": "ipython",
    "version": 3
   },
   "file_extension": ".py",
   "mimetype": "text/x-python",
   "name": "python",
   "nbconvert_exporter": "python",
   "pygments_lexer": "ipython3",
   "version": "3.10.12"
  },
  "orig_nbformat": 4
 },
 "nbformat": 4,
 "nbformat_minor": 2
}
