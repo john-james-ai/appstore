{
 "cells": [
  {
   "attachments": {},
   "cell_type": "markdown",
   "metadata": {},
   "source": [
    "# App Data\n",
    "ENVIRONMENT MUST BE PROD. CHANGE IT"
   ]
  },
  {
   "cell_type": "code",
   "execution_count": 1,
   "metadata": {},
   "outputs": [
    {
     "ename": "ModuleNotFoundError",
     "evalue": "No module named 'requests'",
     "output_type": "error",
     "traceback": [
      "\u001b[0;31m---------------------------------------------------------------------------\u001b[0m",
      "\u001b[0;31mModuleNotFoundError\u001b[0m                       Traceback (most recent call last)",
      "Cell \u001b[0;32mIn[1], line 2\u001b[0m\n\u001b[1;32m      1\u001b[0m \u001b[39mimport\u001b[39;00m \u001b[39mos\u001b[39;00m\n\u001b[0;32m----> 2\u001b[0m \u001b[39mfrom\u001b[39;00m \u001b[39mappstore\u001b[39;00m\u001b[39m.\u001b[39;00m\u001b[39mcontainer\u001b[39;00m \u001b[39mimport\u001b[39;00m AppstoreContainer\n\u001b[1;32m      3\u001b[0m \u001b[39mfrom\u001b[39;00m \u001b[39mappstore\u001b[39;00m\u001b[39m.\u001b[39;00m\u001b[39minfrastructure\u001b[39;00m\u001b[39m.\u001b[39;00m\u001b[39mio\u001b[39;00m\u001b[39m.\u001b[39;00m\u001b[39mlocal\u001b[39;00m \u001b[39mimport\u001b[39;00m IOService\n",
      "File \u001b[0;32m~/projects/appstore/appstore/container.py:26\u001b[0m\n\u001b[1;32m     23\u001b[0m \u001b[39mfrom\u001b[39;00m \u001b[39murllib3\u001b[39;00m\u001b[39m.\u001b[39;00m\u001b[39mutil\u001b[39;00m \u001b[39mimport\u001b[39;00m Retry\n\u001b[1;32m     25\u001b[0m \u001b[39mfrom\u001b[39;00m \u001b[39mappstore\u001b[39;00m\u001b[39m.\u001b[39;00m\u001b[39minfrastructure\u001b[39;00m\u001b[39m.\u001b[39;00m\u001b[39mio\u001b[39;00m\u001b[39m.\u001b[39;00m\u001b[39mlocal\u001b[39;00m \u001b[39mimport\u001b[39;00m IOService\n\u001b[0;32m---> 26\u001b[0m \u001b[39mfrom\u001b[39;00m \u001b[39mappstore\u001b[39;00m\u001b[39m.\u001b[39;00m\u001b[39minfrastructure\u001b[39;00m\u001b[39m.\u001b[39;00m\u001b[39mweb\u001b[39;00m\u001b[39m.\u001b[39;00m\u001b[39madapter\u001b[39;00m \u001b[39mimport\u001b[39;00m TimeoutHTTPAdapter\n\u001b[1;32m     27\u001b[0m \u001b[39mfrom\u001b[39;00m \u001b[39mappstore\u001b[39;00m\u001b[39m.\u001b[39;00m\u001b[39minfrastructure\u001b[39;00m\u001b[39m.\u001b[39;00m\u001b[39mweb\u001b[39;00m\u001b[39m.\u001b[39;00m\u001b[39mthrottle\u001b[39;00m \u001b[39mimport\u001b[39;00m LatencyThrottle, AThrottle\n\u001b[1;32m     28\u001b[0m \u001b[39mfrom\u001b[39;00m \u001b[39mappstore\u001b[39;00m\u001b[39m.\u001b[39;00m\u001b[39minfrastructure\u001b[39;00m\u001b[39m.\u001b[39;00m\u001b[39mdal\u001b[39;00m\u001b[39m.\u001b[39;00m\u001b[39mmysql\u001b[39;00m \u001b[39mimport\u001b[39;00m MySQLDatabase\n",
      "File \u001b[0;32m~/projects/appstore/appstore/infrastructure/web/adapter.py:19\u001b[0m\n\u001b[1;32m      1\u001b[0m \u001b[39m#!/usr/bin/env python3\u001b[39;00m\n\u001b[1;32m      2\u001b[0m \u001b[39m# -*- coding:utf-8 -*-\u001b[39;00m\n\u001b[1;32m      3\u001b[0m \u001b[39m# ================================================================================================ #\u001b[39;00m\n\u001b[0;32m   (...)\u001b[0m\n\u001b[1;32m     17\u001b[0m \u001b[39m# Copyright  : (c) 2023 John James                                                                 #\u001b[39;00m\n\u001b[1;32m     18\u001b[0m \u001b[39m# ================================================================================================ #\u001b[39;00m\n\u001b[0;32m---> 19\u001b[0m \u001b[39mfrom\u001b[39;00m \u001b[39mrequests\u001b[39;00m\u001b[39m.\u001b[39;00m\u001b[39madapters\u001b[39;00m \u001b[39mimport\u001b[39;00m HTTPAdapter\n\u001b[1;32m     22\u001b[0m \u001b[39m# ------------------------------------------------------------------------------------------------ #\u001b[39;00m\n\u001b[1;32m     23\u001b[0m \u001b[39mclass\u001b[39;00m \u001b[39mTimeoutHTTPAdapter\u001b[39;00m(HTTPAdapter):\n",
      "\u001b[0;31mModuleNotFoundError\u001b[0m: No module named 'requests'"
     ]
    }
   ],
   "source": [
    "import os\n",
    "from appstore.container import AppstoreContainer\n",
    "from appstore.infrastructure.io.local import IOService"
   ]
  },
  {
   "cell_type": "code",
   "execution_count": null,
   "metadata": {},
   "outputs": [],
   "source": [
    "container = AppstoreContainer()\n",
    "container.init_resources()\n",
    "container.wire(packages=[\"appstore.data.acquisition\"])"
   ]
  },
  {
   "cell_type": "code",
   "execution_count": null,
   "metadata": {},
   "outputs": [],
   "source": [
    "repo = container.data.appdata_repo()\n",
    "repo.export()\n",
    "repo = container.data.rating_repo()\n",
    "repo.export()\n",
    "repo = container.data.review_repo()\n",
    "repo.export()"
   ]
  }
 ],
 "metadata": {
  "kernelspec": {
   "display_name": "appstore",
   "language": "python",
   "name": "python3"
  },
  "language_info": {
   "codemirror_mode": {
    "name": "ipython",
    "version": 3
   },
   "file_extension": ".py",
   "mimetype": "text/x-python",
   "name": "python",
   "nbconvert_exporter": "python",
   "pygments_lexer": "ipython3",
   "version": "3.10.11"
  },
  "orig_nbformat": 4
 },
 "nbformat": 4,
 "nbformat_minor": 2
}
