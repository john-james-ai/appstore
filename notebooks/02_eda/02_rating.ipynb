{
 "cells": [
  {
   "attachments": {},
   "cell_type": "markdown",
   "metadata": {},
   "source": [
    "# AppStore Rating Exploratory Data Analysis\n",
    "\n",
    "\n",
    "| #  | Variable    | Description                      | Data Type   |\n",
    "|----|-------------|----------------------------------|-------------|\n",
    "| 1  | id          | App Identifier                   | Nominal     |\n",
    "| 2  | name        | App Name                         | Nominal     |\n",
    "| 3  | category_id | Four Digit Category Id           | Categorical |\n",
    "| 4  | category    | Category Name                    | Categorical |\n",
    "| 5  | rating      | Average Customer Rating          | Interval    |\n",
    "| 6  | reviews     | Total Number Of Customer Reviews | Discrete    |\n",
    "| 7  | ratings     | Rating Count                     | Discrete    |\n",
    "| 8  | onestar     | One Star Rating Count            | Discrete    |\n",
    "| 9  | twostar     | Two Star Rating Count            | Discrete    |\n",
    "| 10 | threestar   | Three Star Rating Count          | Discrete    |\n",
    "| 11 | fourstar    | Four Star Rating Count           | Discrete    |\n",
    "| 12 | fivestar    | Five Star Rating Count           | Discrete    |\n"
   ]
  },
  {
   "cell_type": "code",
   "execution_count": 1,
   "metadata": {},
   "outputs": [
    {
     "ename": "ModuleNotFoundError",
     "evalue": "No module named 'appstore.infrastructure.web.response'",
     "output_type": "error",
     "traceback": [
      "\u001b[0;31m---------------------------------------------------------------------------\u001b[0m",
      "\u001b[0;31mModuleNotFoundError\u001b[0m                       Traceback (most recent call last)",
      "Cell \u001b[0;32mIn[1], line 7\u001b[0m\n\u001b[1;32m      4\u001b[0m \u001b[39mimport\u001b[39;00m \u001b[39mpandas\u001b[39;00m \u001b[39mas\u001b[39;00m \u001b[39mpd\u001b[39;00m\n\u001b[1;32m      5\u001b[0m \u001b[39mfrom\u001b[39;00m \u001b[39mIPython\u001b[39;00m\u001b[39m.\u001b[39;00m\u001b[39mdisplay\u001b[39;00m \u001b[39mimport\u001b[39;00m HTML, display_html\n\u001b[0;32m----> 7\u001b[0m \u001b[39mfrom\u001b[39;00m \u001b[39mappstore\u001b[39;00m\u001b[39m.\u001b[39;00m\u001b[39mdata\u001b[39;00m\u001b[39m.\u001b[39;00m\u001b[39manalysis\u001b[39;00m\u001b[39m.\u001b[39;00m\u001b[39mrating\u001b[39;00m \u001b[39mimport\u001b[39;00m RatingDataset\n\u001b[1;32m      8\u001b[0m \u001b[39mfrom\u001b[39;00m \u001b[39mappstore\u001b[39;00m\u001b[39m.\u001b[39;00m\u001b[39mcontainer\u001b[39;00m \u001b[39mimport\u001b[39;00m AppstoreContainer\n\u001b[1;32m     10\u001b[0m container \u001b[39m=\u001b[39m AppstoreContainer()\n",
      "File \u001b[0;32m~/projects/appstore/appstore/data/analysis/rating.py:24\u001b[0m\n\u001b[1;32m     22\u001b[0m \u001b[39mfrom\u001b[39;00m \u001b[39mappstore\u001b[39;00m\u001b[39m.\u001b[39;00m\u001b[39mdata\u001b[39;00m\u001b[39m.\u001b[39;00m\u001b[39mstorage\u001b[39;00m\u001b[39m.\u001b[39;00m\u001b[39mbase\u001b[39;00m \u001b[39mimport\u001b[39;00m Repo\n\u001b[1;32m     23\u001b[0m \u001b[39mfrom\u001b[39;00m \u001b[39mappstore\u001b[39;00m\u001b[39m.\u001b[39;00m\u001b[39mdata\u001b[39;00m\u001b[39m.\u001b[39;00m\u001b[39manalysis\u001b[39;00m\u001b[39m.\u001b[39;00m\u001b[39mbase\u001b[39;00m \u001b[39mimport\u001b[39;00m Dataset\n\u001b[0;32m---> 24\u001b[0m \u001b[39mfrom\u001b[39;00m \u001b[39mappstore\u001b[39;00m\u001b[39m.\u001b[39;00m\u001b[39mcontainer\u001b[39;00m \u001b[39mimport\u001b[39;00m AppstoreContainer\n\u001b[1;32m     26\u001b[0m \u001b[39m# ------------------------------------------------------------------------------------------------ #\u001b[39;00m\n\u001b[1;32m     27\u001b[0m DTYPES \u001b[39m=\u001b[39m [\n\u001b[1;32m     28\u001b[0m     \u001b[39m\"\u001b[39m\u001b[39mNominal\u001b[39m\u001b[39m\"\u001b[39m,\n\u001b[1;32m     29\u001b[0m     \u001b[39m\"\u001b[39m\u001b[39mNominal\u001b[39m\u001b[39m\"\u001b[39m,\n\u001b[0;32m   (...)\u001b[0m\n\u001b[1;32m     40\u001b[0m     \u001b[39m\"\u001b[39m\u001b[39mDiscrete\u001b[39m\u001b[39m\"\u001b[39m,\n\u001b[1;32m     41\u001b[0m ]\n",
      "File \u001b[0;32m~/projects/appstore/appstore/container.py:40\u001b[0m\n\u001b[1;32m     38\u001b[0m \u001b[39mfrom\u001b[39;00m \u001b[39mappstore\u001b[39;00m\u001b[39m.\u001b[39;00m\u001b[39minfrastructure\u001b[39;00m\u001b[39m.\u001b[39;00m\u001b[39mweb\u001b[39;00m\u001b[39m.\u001b[39;00m\u001b[39mheaders\u001b[39;00m \u001b[39mimport\u001b[39;00m BrowserHeader, AppleStoreFrontHeader\n\u001b[1;32m     39\u001b[0m \u001b[39mfrom\u001b[39;00m \u001b[39mappstore\u001b[39;00m\u001b[39m.\u001b[39;00m\u001b[39minfrastructure\u001b[39;00m\u001b[39m.\u001b[39;00m\u001b[39mweb\u001b[39;00m\u001b[39m.\u001b[39;00m\u001b[39msession\u001b[39;00m \u001b[39mimport\u001b[39;00m SessionHandler\n\u001b[0;32m---> 40\u001b[0m \u001b[39mfrom\u001b[39;00m \u001b[39mappstore\u001b[39;00m\u001b[39m.\u001b[39;00m\u001b[39minfrastructure\u001b[39;00m\u001b[39m.\u001b[39;00m\u001b[39mweb\u001b[39;00m\u001b[39m.\u001b[39;00m\u001b[39masession\u001b[39;00m \u001b[39mimport\u001b[39;00m ASessionHandler\n\u001b[1;32m     43\u001b[0m \u001b[39m# ------------------------------------------------------------------------------------------------ #\u001b[39;00m\n\u001b[1;32m     44\u001b[0m \u001b[39m#                                        LOGGING                                                   #\u001b[39;00m\n\u001b[1;32m     45\u001b[0m \u001b[39m# ------------------------------------------------------------------------------------------------ #\u001b[39;00m\n\u001b[1;32m     46\u001b[0m \u001b[39mclass\u001b[39;00m \u001b[39mLoggingContainer\u001b[39;00m(containers\u001b[39m.\u001b[39mDeclarativeContainer):\n",
      "File \u001b[0;32m~/projects/appstore/appstore/infrastructure/web/asession.py:33\u001b[0m\n\u001b[1;32m     31\u001b[0m \u001b[39mfrom\u001b[39;00m \u001b[39mappstore\u001b[39;00m\u001b[39m.\u001b[39;00m\u001b[39minfrastructure\u001b[39;00m\u001b[39m.\u001b[39;00m\u001b[39mweb\u001b[39;00m\u001b[39m.\u001b[39;00m\u001b[39mheaders\u001b[39;00m \u001b[39mimport\u001b[39;00m BrowserHeader\n\u001b[1;32m     32\u001b[0m \u001b[39mfrom\u001b[39;00m \u001b[39mappstore\u001b[39;00m\u001b[39m.\u001b[39;00m\u001b[39minfrastructure\u001b[39;00m\u001b[39m.\u001b[39;00m\u001b[39mweb\u001b[39;00m\u001b[39m.\u001b[39;00m\u001b[39mthrottle\u001b[39;00m \u001b[39mimport\u001b[39;00m AThrottle\n\u001b[0;32m---> 33\u001b[0m \u001b[39mfrom\u001b[39;00m \u001b[39mappstore\u001b[39;00m\u001b[39m.\u001b[39;00m\u001b[39minfrastructure\u001b[39;00m\u001b[39m.\u001b[39;00m\u001b[39mweb\u001b[39;00m\u001b[39m.\u001b[39;00m\u001b[39mresponse\u001b[39;00m \u001b[39mimport\u001b[39;00m Response\n\u001b[1;32m     34\u001b[0m \u001b[39mfrom\u001b[39;00m \u001b[39mappstore\u001b[39;00m\u001b[39m.\u001b[39;00m\u001b[39minfrastructure\u001b[39;00m\u001b[39m.\u001b[39;00m\u001b[39mweb\u001b[39;00m\u001b[39m.\u001b[39;00m\u001b[39mutils\u001b[39;00m \u001b[39mimport\u001b[39;00m getsize\n\u001b[1;32m     36\u001b[0m load_dotenv()\n",
      "\u001b[0;31mModuleNotFoundError\u001b[0m: No module named 'appstore.infrastructure.web.response'"
     ]
    }
   ],
   "source": [
    "import os\n",
    "\n",
    "import numpy as np\n",
    "import pandas as pd\n",
    "from IPython.display import HTML, display_html\n",
    "\n",
    "from appstore.data.analysis.rating import RatingDataset\n",
    "from appstore.container import AppstoreContainer\n",
    "\n",
    "container = AppstoreContainer()\n",
    "container.init_resources()\n",
    "container.wire(packages=[\"appstore.data.analysis\"])\n",
    "dataset = RatingDataset()\n",
    "formatting = {\"thousands\":\",\", \"precision\":2}"
   ]
  },
  {
   "attachments": {},
   "cell_type": "markdown",
   "metadata": {},
   "source": [
    "### Structural Analysis\n",
    "The structure and characteristics of the Rating dataset are as follows:"
   ]
  },
  {
   "cell_type": "code",
   "execution_count": null,
   "metadata": {},
   "outputs": [],
   "source": [
    "df1 = dataset.structure\n",
    "df2 = dataset.dtypes\n",
    "\n",
    "df1_style = df1.style.set_table_attributes(\"style='display:inline; margin-right:220px;'\").set_caption(\"Dataset Structure\").format(thousands=\",\")\n",
    "df2_style = df2.style.set_table_attributes(\"style='display:inline; margin-right:120px'\").set_caption(\"Dataset Data Types\").format(thousands=\",\")\n",
    "\n",
    "display_html(df1_style._repr_html_() + df2_style._repr_html_(), raw=True)"
   ]
  },
  {
   "attachments": {},
   "cell_type": "markdown",
   "metadata": {},
   "source": [
    "### Data Quality Analysis\n",
    "Data type, cardinality, validity, duplication, and size data are summarized at the variable level. "
   ]
  },
  {
   "cell_type": "code",
   "execution_count": null,
   "metadata": {},
   "outputs": [],
   "source": [
    "dataset.quality.style.format(**formatting)\n"
   ]
  },
  {
   "attachments": {},
   "cell_type": "markdown",
   "metadata": {},
   "source": [
    "## Content Analysis"
   ]
  },
  {
   "cell_type": "code",
   "execution_count": null,
   "metadata": {},
   "outputs": [],
   "source": [
    "dataset.summary.style.format(**formatting)"
   ]
  },
  {
   "cell_type": "code",
   "execution_count": null,
   "metadata": {},
   "outputs": [],
   "source": []
  }
 ],
 "metadata": {
  "kernelspec": {
   "display_name": "appstore",
   "language": "python",
   "name": "python3"
  },
  "language_info": {
   "codemirror_mode": {
    "name": "ipython",
    "version": 3
   },
   "file_extension": ".py",
   "mimetype": "text/x-python",
   "name": "python",
   "nbconvert_exporter": "python",
   "pygments_lexer": "ipython3",
   "version": "3.10.12"
  },
  "orig_nbformat": 4
 },
 "nbformat": 4,
 "nbformat_minor": 2
}
