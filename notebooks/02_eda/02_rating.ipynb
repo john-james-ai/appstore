{
 "cells": [
  {
   "attachments": {},
   "cell_type": "markdown",
   "metadata": {},
   "source": [
    "# AppStore Rating Exploratory Data Analysis\n",
    "\n",
    "\n",
    "| #  | Variable    | Description                      | Data Type   |\n",
    "|----|-------------|----------------------------------|-------------|\n",
    "| 1  | id          | App Identifier                   | Nominal     |\n",
    "| 2  | name        | App Name                         | Nominal     |\n",
    "| 3  | category_id | Four Digit Category Id           | Categorical |\n",
    "| 4  | category    | Category Name                    | Categorical |\n",
    "| 5  | rating      | Average Customer Rating          | Interval    |\n",
    "| 6  | reviews     | Total Number Of Customer Reviews | Discrete    |\n",
    "| 7  | ratings     | Rating Count                     | Discrete    |\n",
    "| 8  | onestar     | One Star Rating Count            | Discrete    |\n",
    "| 9  | twostar     | Two Star Rating Count            | Discrete    |\n",
    "| 10 | threestar   | Three Star Rating Count          | Discrete    |\n",
    "| 11 | fourstar    | Four Star Rating Count           | Discrete    |\n",
    "| 12 | fivestar    | Five Star Rating Count           | Discrete    |\n"
   ]
  },
  {
   "cell_type": "code",
   "execution_count": 1,
   "metadata": {},
   "outputs": [],
   "source": [
    "import os\n",
    "\n",
    "import numpy as np\n",
    "import pandas as pd\n",
    "from IPython.display import HTML, display_html\n",
    "\n",
    "from appstore.data.analysis.rating import RatingDataset\n",
    "from appstore.container import AppstoreContainer\n",
    "\n",
    "container = AppstoreContainer()\n",
    "container.init_resources()\n",
    "container.wire(packages=[\"appstore.data.analysis\"])\n",
    "dataset = RatingDataset()\n",
    "formatting = {\"thousands\":\",\", \"precision\":2}"
   ]
  },
  {
   "attachments": {},
   "cell_type": "markdown",
   "metadata": {},
   "source": [
    "### Structural Analysis\n",
    "The structure and characteristics of the Rating dataset are as follows:"
   ]
  },
  {
   "cell_type": "code",
   "execution_count": 2,
   "metadata": {},
   "outputs": [
    {
     "data": {
      "text/html": [
       "<style type=\"text/css\">\n",
       "</style>\n",
       "<table id=\"T_88dca\" style='display:inline; margin-right:220px;'>\n",
       "  <caption>Dataset Structure</caption>\n",
       "  <thead>\n",
       "    <tr>\n",
       "      <th class=\"blank level0\" >&nbsp;</th>\n",
       "      <th id=\"T_88dca_level0_col0\" class=\"col_heading level0 col0\" >Characteristic</th>\n",
       "      <th id=\"T_88dca_level0_col1\" class=\"col_heading level0 col1\" >Total</th>\n",
       "    </tr>\n",
       "  </thead>\n",
       "  <tbody>\n",
       "    <tr>\n",
       "      <th id=\"T_88dca_level0_row0\" class=\"row_heading level0 row0\" >0</th>\n",
       "      <td id=\"T_88dca_row0_col0\" class=\"data row0 col0\" >Number of Observations</td>\n",
       "      <td id=\"T_88dca_row0_col1\" class=\"data row0 col1\" >7,154</td>\n",
       "    </tr>\n",
       "    <tr>\n",
       "      <th id=\"T_88dca_level0_row1\" class=\"row_heading level0 row1\" >1</th>\n",
       "      <td id=\"T_88dca_row1_col0\" class=\"data row1 col0\" >Number of Variables</td>\n",
       "      <td id=\"T_88dca_row1_col1\" class=\"data row1 col1\" >12</td>\n",
       "    </tr>\n",
       "    <tr>\n",
       "      <th id=\"T_88dca_level0_row2\" class=\"row_heading level0 row2\" >2</th>\n",
       "      <td id=\"T_88dca_row2_col0\" class=\"data row2 col0\" >Number of Cells</td>\n",
       "      <td id=\"T_88dca_row2_col1\" class=\"data row2 col1\" >85,848</td>\n",
       "    </tr>\n",
       "    <tr>\n",
       "      <th id=\"T_88dca_level0_row3\" class=\"row_heading level0 row3\" >3</th>\n",
       "      <td id=\"T_88dca_row3_col0\" class=\"data row3 col0\" >Size (Bytes)</td>\n",
       "      <td id=\"T_88dca_row3_col1\" class=\"data row3 col1\" >1,606,028</td>\n",
       "    </tr>\n",
       "  </tbody>\n",
       "</table>\n",
       "<style type=\"text/css\">\n",
       "</style>\n",
       "<table id=\"T_e0842\" style='display:inline; margin-right:120px'>\n",
       "  <caption>Dataset Data Types</caption>\n",
       "  <thead>\n",
       "    <tr>\n",
       "      <th class=\"blank level0\" >&nbsp;</th>\n",
       "      <th id=\"T_e0842_level0_col0\" class=\"col_heading level0 col0\" >Data Type</th>\n",
       "      <th id=\"T_e0842_level0_col1\" class=\"col_heading level0 col1\" >Number of Features</th>\n",
       "    </tr>\n",
       "  </thead>\n",
       "  <tbody>\n",
       "    <tr>\n",
       "      <th id=\"T_e0842_level0_row0\" class=\"row_heading level0 row0\" >0</th>\n",
       "      <td id=\"T_e0842_row0_col0\" class=\"data row0 col0\" >Number of Nominal Data Types</td>\n",
       "      <td id=\"T_e0842_row0_col1\" class=\"data row0 col1\" >2</td>\n",
       "    </tr>\n",
       "    <tr>\n",
       "      <th id=\"T_e0842_level0_row1\" class=\"row_heading level0 row1\" >1</th>\n",
       "      <td id=\"T_e0842_row1_col0\" class=\"data row1 col0\" >Number of Categorical Data Types</td>\n",
       "      <td id=\"T_e0842_row1_col1\" class=\"data row1 col1\" >2</td>\n",
       "    </tr>\n",
       "    <tr>\n",
       "      <th id=\"T_e0842_level0_row2\" class=\"row_heading level0 row2\" >2</th>\n",
       "      <td id=\"T_e0842_row2_col0\" class=\"data row2 col0\" >Number of Discrete Data Types</td>\n",
       "      <td id=\"T_e0842_row2_col1\" class=\"data row2 col1\" >7</td>\n",
       "    </tr>\n",
       "    <tr>\n",
       "      <th id=\"T_e0842_level0_row3\" class=\"row_heading level0 row3\" >3</th>\n",
       "      <td id=\"T_e0842_row3_col0\" class=\"data row3 col0\" >Number of Interval Data Types</td>\n",
       "      <td id=\"T_e0842_row3_col1\" class=\"data row3 col1\" >1</td>\n",
       "    </tr>\n",
       "  </tbody>\n",
       "</table>\n"
      ]
     },
     "metadata": {},
     "output_type": "display_data"
    },
    {
     "ename": "AttributeError",
     "evalue": "'NoneType' object has no attribute 'style'",
     "output_type": "error",
     "traceback": [
      "\u001b[0;31m---------------------------------------------------------------------------\u001b[0m",
      "\u001b[0;31mAttributeError\u001b[0m                            Traceback (most recent call last)",
      "Cell \u001b[0;32mIn[2], line 7\u001b[0m\n\u001b[1;32m      4\u001b[0m df1_style \u001b[39m=\u001b[39m df1\u001b[39m.\u001b[39mstyle\u001b[39m.\u001b[39mset_table_attributes(\u001b[39m\"\u001b[39m\u001b[39mstyle=\u001b[39m\u001b[39m'\u001b[39m\u001b[39mdisplay:inline; margin-right:220px;\u001b[39m\u001b[39m'\u001b[39m\u001b[39m\"\u001b[39m)\u001b[39m.\u001b[39mset_caption(\u001b[39m\"\u001b[39m\u001b[39mDataset Structure\u001b[39m\u001b[39m\"\u001b[39m)\u001b[39m.\u001b[39mformat(thousands\u001b[39m=\u001b[39m\u001b[39m\"\u001b[39m\u001b[39m,\u001b[39m\u001b[39m\"\u001b[39m)\n\u001b[1;32m      5\u001b[0m df2_style \u001b[39m=\u001b[39m df2\u001b[39m.\u001b[39mstyle\u001b[39m.\u001b[39mset_table_attributes(\u001b[39m\"\u001b[39m\u001b[39mstyle=\u001b[39m\u001b[39m'\u001b[39m\u001b[39mdisplay:inline; margin-right:120px\u001b[39m\u001b[39m'\u001b[39m\u001b[39m\"\u001b[39m)\u001b[39m.\u001b[39mset_caption(\u001b[39m\"\u001b[39m\u001b[39mDataset Data Types\u001b[39m\u001b[39m\"\u001b[39m)\u001b[39m.\u001b[39mformat(thousands\u001b[39m=\u001b[39m\u001b[39m\"\u001b[39m\u001b[39m,\u001b[39m\u001b[39m\"\u001b[39m)\n\u001b[0;32m----> 7\u001b[0m display_html(df1_style\u001b[39m.\u001b[39;49m_repr_html_() \u001b[39m+\u001b[39;49m df2_style\u001b[39m.\u001b[39;49m_repr_html_(), raw\u001b[39m=\u001b[39;49m\u001b[39mTrue\u001b[39;49;00m)\u001b[39m.\u001b[39;49mstyle\u001b[39m.\u001b[39mformat(\u001b[39m*\u001b[39m\u001b[39m*\u001b[39mformatting)\n",
      "\u001b[0;31mAttributeError\u001b[0m: 'NoneType' object has no attribute 'style'"
     ]
    }
   ],
   "source": [
    "df1 = dataset.structure\n",
    "df2 = dataset.dtypes\n",
    "\n",
    "df1_style = df1.style.set_table_attributes(\"style='display:inline; margin-right:220px;'\").set_caption(\"Dataset Structure\").format(thousands=\",\")\n",
    "df2_style = df2.style.set_table_attributes(\"style='display:inline; margin-right:120px'\").set_caption(\"Dataset Data Types\").format(thousands=\",\")\n",
    "\n",
    "display_html(df1_style._repr_html_() + df2_style._repr_html_(), raw=True).style.format(**formatting)"
   ]
  },
  {
   "attachments": {},
   "cell_type": "markdown",
   "metadata": {},
   "source": [
    "### Data Quality Analysis\n",
    "Data type, cardinality, validity, duplication, and size data are summarized at the variable level. "
   ]
  },
  {
   "cell_type": "code",
   "execution_count": null,
   "metadata": {},
   "outputs": [],
   "source": [
    "dataset.quality.style.format(**formatting)\n"
   ]
  },
  {
   "attachments": {},
   "cell_type": "markdown",
   "metadata": {},
   "source": [
    "## Content Analysis"
   ]
  },
  {
   "cell_type": "code",
   "execution_count": null,
   "metadata": {},
   "outputs": [],
   "source": [
    "dataset.summary.style.format(**formatting)"
   ]
  },
  {
   "cell_type": "code",
   "execution_count": null,
   "metadata": {},
   "outputs": [],
   "source": [
    "dataset."
   ]
  }
 ],
 "metadata": {
  "kernelspec": {
   "display_name": "appstore",
   "language": "python",
   "name": "python3"
  },
  "language_info": {
   "codemirror_mode": {
    "name": "ipython",
    "version": 3
   },
   "file_extension": ".py",
   "mimetype": "text/x-python",
   "name": "python",
   "nbconvert_exporter": "python",
   "pygments_lexer": "ipython3",
   "version": "3.10.11"
  },
  "orig_nbformat": 4
 },
 "nbformat": 4,
 "nbformat_minor": 2
}
