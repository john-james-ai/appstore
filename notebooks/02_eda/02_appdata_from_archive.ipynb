{
 "cells": [
  {
   "attachments": {},
   "cell_type": "markdown",
   "metadata": {},
   "source": [
    "## AppData Exploratory Data Analysis\n",
    "Section one of our exploratory data analysis is a *quantitative* exploration of the following 15 variables for over 300,000 apps, across 26 categories. \n",
    "\n",
    "| #  | Variable                | Date Type  | Description                                |\n",
    "|----|-------------------------|------------|--------------------------------------------|\n",
    "| 1  | id                      | Nominal    | App Id from the App Store                  |\n",
    "| 2  | name                    | Nominal    | App Name                                   |\n",
    "| 3  | description             | Nominal    | App Description                            |\n",
    "| 4  | category_id             | Categorical | Numeric category identifier                |\n",
    "| 5  | category                | Categorical    | Category name                              |\n",
    "| 6  | price                   | Continuous | App Price                                  |\n",
    "| 7  | developer_id            | Nominal    | Identifier for the developer               |\n",
    "| 8  | developer               | Nominal    | Name of the developer                      |\n",
    "| 9  | rating                  | Interval   | Average user rating since first released   |\n",
    "| 10 | ratings                 | Discrete   | Number of ratings since first release      |\n",
    "| 11 | rating_current_version  | Interval   | Average customer rating of current release |\n",
    "| 12 | ratings_current_version | Discrete   | Number of user ratings for current release |\n",
    "| 13 | released                | Continuous   | Datetime of first release                  |\n",
    "| 14 | released_current        | Continuous   | Datetime of current release                |\n",
    "| 15 | version                 | Nominal    | Current version of app                     |\n",
    "\n",
    "\n",
    "Our investigation will center around the following five analyses.\n",
    "\n",
    "1. Structural Analysis: Examine the overall shape, structure, and type of the data.\n",
    "2. Data Quality Analysis: Assess quality and suitability of the data in terms of missing values, outliers, duplication, cardinality, and feature values.\n",
    "3. Univariate Analysis: Explore the distributions of rating count, average rating, categories, and price.\n",
    "4. Bivariate Analysis: Evaluate ratings, rating count, reviews and correlation analysis between two variables.    \n",
    "5. Multivariate Analysis: Cluster, factor, and correspondence analysis of three or more variables simultaneously.\n"
   ]
  },
  {
   "attachments": {},
   "cell_type": "markdown",
   "metadata": {},
   "source": [
    "**Dependencies** "
   ]
  },
  {
   "cell_type": "code",
   "execution_count": 1,
   "metadata": {},
   "outputs": [],
   "source": [
    "from appstore.infrastructure.io.local import IOService"
   ]
  },
  {
   "cell_type": "code",
   "execution_count": 2,
   "metadata": {},
   "outputs": [
    {
     "name": "stdout",
     "output_type": "stream",
     "text": [
      "<class 'pandas.core.frame.DataFrame'>\n",
      "RangeIndex: 678137 entries, 0 to 678136\n",
      "Data columns (total 15 columns):\n",
      " #   Column                   Non-Null Count   Dtype  \n",
      "---  ------                   --------------   -----  \n",
      " 0   id                       678137 non-null  int64  \n",
      " 1   name                     678137 non-null  object \n",
      " 2   description              678137 non-null  object \n",
      " 3   category_id              678137 non-null  int64  \n",
      " 4   category                 678137 non-null  object \n",
      " 5   price                    678137 non-null  float64\n",
      " 6   developer_id             678137 non-null  int64  \n",
      " 7   developer                678137 non-null  object \n",
      " 8   rating                   678137 non-null  float64\n",
      " 9   ratings                  678137 non-null  int64  \n",
      " 10  rating_current_version   678137 non-null  float64\n",
      " 11  ratings_current_version  678137 non-null  int64  \n",
      " 12  released                 678137 non-null  object \n",
      " 13  released_current         678137 non-null  object \n",
      " 14  version                  678137 non-null  object \n",
      "dtypes: float64(3), int64(5), object(7)\n",
      "memory usage: 77.6+ MB\n",
      "<class 'pandas.core.frame.DataFrame'>\n",
      "Index: 475132 entries, 12340 to 678136\n",
      "Data columns (total 16 columns):\n",
      " #   Column                   Non-Null Count   Dtype  \n",
      "---  ------                   --------------   -----  \n",
      " 0   id                       475132 non-null  int64  \n",
      " 1   name                     475132 non-null  object \n",
      " 2   description              475132 non-null  object \n",
      " 3   category_id              475132 non-null  int64  \n",
      " 4   category                 475132 non-null  object \n",
      " 5   price                    475132 non-null  float64\n",
      " 6   developer_id             475132 non-null  int64  \n",
      " 7   developer                475132 non-null  object \n",
      " 8   rating                   475132 non-null  float64\n",
      " 9   ratings                  475132 non-null  int64  \n",
      " 10  released                 475132 non-null  object \n",
      " 11  source                   172361 non-null  object \n",
      " 12  rating_current_version   302771 non-null  float64\n",
      " 13  ratings_current_version  302771 non-null  float64\n",
      " 14  released_current         302771 non-null  object \n",
      " 15  version                  302771 non-null  object \n",
      "dtypes: float64(4), int64(4), object(8)\n",
      "memory usage: 61.6+ MB\n"
     ]
    }
   ],
   "source": [
    "fp1 = \"data/appstore/archive/appdata_05-20-2023_22-24-04.pkl\"\n",
    "fp2 = \"data/appdata/appdata.pkl\"\n",
    "df1 = IOService.read(fp1)\n",
    "df2 = IOService.read(fp2)\n",
    "df1.info()\n",
    "df2.info()\n"
   ]
  },
  {
   "cell_type": "code",
   "execution_count": 3,
   "metadata": {},
   "outputs": [],
   "source": [
    "def summarize(df):\n",
    "    summary = df[\"category\"].value_counts().reset_index()\n",
    "    summary.columns = [\"category\", \"Examples\"]\n",
    "    df2 = df.groupby(by=\"category\")[\"id\"].nunique().to_frame()\n",
    "    df3 = df.groupby(by=\"category\")[\"rating\"].mean().to_frame()\n",
    "    df4 = df.groupby(by=\"category\")[\"ratings\"].sum().to_frame()\n",
    "\n",
    "    summary = summary.join(df2, on=\"category\")\n",
    "    summary = summary.join(df3, on=\"category\")\n",
    "    summary = summary.join(df4, on=\"category\")\n",
    "    summary.columns = [\"Category\", \"Examples\", \"Apps\", \"Average Rating\", \"Rating Count\"]\n",
    "    return summary\n"
   ]
  },
  {
   "cell_type": "code",
   "execution_count": 6,
   "metadata": {},
   "outputs": [
    {
     "data": {
      "text/plain": [
       "302765"
      ]
     },
     "execution_count": 6,
     "metadata": {},
     "output_type": "execute_result"
    },
    {
     "data": {
      "text/plain": [
       "475132"
      ]
     },
     "execution_count": 6,
     "metadata": {},
     "output_type": "execute_result"
    }
   ],
   "source": [
    "sum(summarize(df1)[\"Apps\"])\n",
    "sum(summarize(df2)[\"Apps\"])"
   ]
  },
  {
   "cell_type": "code",
   "execution_count": 5,
   "metadata": {},
   "outputs": [],
   "source": [
    "fp = \"data/appstore/archive/appdata_05-20-2023_22-24-04.pkl\"\n",
    "df = IOService.read(fp)"
   ]
  }
 ],
 "metadata": {
  "kernelspec": {
   "display_name": "aimobile",
   "language": "python",
   "name": "python3"
  },
  "language_info": {
   "codemirror_mode": {
    "name": "ipython",
    "version": 3
   },
   "file_extension": ".py",
   "mimetype": "text/x-python",
   "name": "python",
   "nbconvert_exporter": "python",
   "pygments_lexer": "ipython3",
   "version": "3.10.11"
  },
  "orig_nbformat": 4
 },
 "nbformat": 4,
 "nbformat_minor": 2
}
