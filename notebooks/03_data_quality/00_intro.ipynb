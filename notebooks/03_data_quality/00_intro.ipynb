{
 "cells": [
  {
   "cell_type": "markdown",
   "metadata": {},
   "source": [
    "# Data Quality Analysis\n",
    "In this data profiling exercise, the aim is to evaluate the reliability, validity, format, type and structure of the dataset vis-a-vis the objectives and methods of this study. We will be examining the data through six data quality dimensions:\n",
    "1. Completeness: Is all necessary data present?\n",
    "2. Validity: Are all data values within specified value domains?\n",
    "3. Integrity: Are the relations between entities and attributes consistent?\n",
    "4. Timeliness: Is the data available at the time needed?\n",
    "5. Consistency: Is the data consistent between systems? Do duplicate records exist?\n",
    "6. Accuracy: Does data correctly reflect real-world objects?\n",
    "\n",
    "The package comprises three datasets as described in the previous section, and are:\n",
    "1. AppData Dataset\n",
    "2. Ratings Statistics Dataset\n",
    "3. Reviews Dataset. \n",
    "\n",
    "The next three sections will cover the assessments for these datasets."
   ]
  }
 ],
 "metadata": {
  "language_info": {
   "name": "python"
  },
  "orig_nbformat": 4
 },
 "nbformat": 4,
 "nbformat_minor": 2
}
