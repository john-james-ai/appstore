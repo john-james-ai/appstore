{
 "cells": [
  {
   "cell_type": "markdown",
   "id": "fa7c1097",
   "metadata": {},
   "source": [
    "# References\n",
    "\n",
    "```\n",
    "{bibliography}\n",
    "```"
   ]
  }
 ],
 "metadata": {
  "jupytext": {
   "cell_metadata_filter": "-all",
   "main_language": "python",
   "notebook_metadata_filter": "-all"
  }
 },
 "nbformat": 4,
 "nbformat_minor": 5
}
