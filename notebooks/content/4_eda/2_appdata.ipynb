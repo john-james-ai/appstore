{
 "cells": [
  {
   "cell_type": "markdown",
   "id": "ecb4902e",
   "metadata": {},
   "source": [
    "# Exploratory Data Analysis\n",
    "\n",
    "## Stage I: App Performance Overview\n",
    "\n",
    "Stage one of our exploratory data analysis aims to expose patterns and yield insight into the nature and intensity of the customer experience within the IOS app user community.\n",
    "\n",
    "### The Dataset\n",
    "\n",
    "The dataset contains the following product descriptive, rating, price, and developer data for some 475,132 apps from the App Store.\n",
    "\n",
    "| #  | Variable     | Date Type  | Description                              |\n",
    "| -- | ------------ | ---------- | ---------------------------------------- |\n",
    "| 1  | id           | Nominal    | App Id from the App Store                |\n",
    "| 2  | name         | Nominal    | App Name                                 |\n",
    "| 3  | description  | Nominal    | App Description                          |\n",
    "| 4  | category_id  | Nominal    | Numeric category identifier              |\n",
    "| 5  | category     | Nominal    | Category name                            |\n",
    "| 6  | price        | Continuous | App Price                                |\n",
    "| 7  | developer_id | Nominal    | Identifier for the developer             |\n",
    "| 8  | developer    | Nominal    | Name of the developer                    |\n",
    "| 9  | rating       | Ordinal    | Average user rating since first released |\n",
    "| 10 | ratings      | Discrete   | Number of ratings since first release    |\n",
    "| 11 | released     | Continuous | Datetime of first release                |\n",
    "\n",
    "### EDA Approach\n",
    "\n",
    "Our exploration will comprise the following five analyses.\n",
    "\n",
    "1. Structural Analysis: Examine the overall shape, structure, and type of the data.\n",
    "2. Data Quality Analysis: Assess quality and suitability of the data in terms of missing values, outliers, duplication, cardinality, and feature values.\n",
    "3. Univariate Analysis: Explore the distributions of rating count, average rating, categories, and price.\n",
    "4. Bivariate Analysis: Evaluate ratings, rating count, reviews and correlation analysis between two variables.\n",
    "5. Multivariate Analysis: Cluster, factor, and correspondence analysis of three or more variables simultaneously.\n",
    "6. Conclusions, insights and questions for stage two."
   ]
  },
  {
   "cell_type": "markdown",
   "id": "da9180e7",
   "metadata": {},
   "source": [
    "**Import Python Libraries and Provision Dependencies** # noqa"
   ]
  },
  {
   "cell_type": "code",
   "execution_count": null,
   "id": "3d29324a",
   "metadata": {},
   "outputs": [],
   "source": [
    "import sys\n",
    "print(sys.path)\n",
    "import numpy as np\n",
    "import pandas as pd\n",
    "from IPython.display import HTML, display_html\n",
    "import seaborn as sns\n",
    "\n",
    "import studioai as eda\n",
    "\n",
    "from appstore.container import AppstoreContainer\n",
    "from appstore.data.dataset.appdata import AppDataDataset"
   ]
  },
  {
   "cell_type": "markdown",
   "id": "a4012d33",
   "metadata": {},
   "source": [
    "**Obtain the Dataset** # noqa"
   ]
  },
  {
   "cell_type": "code",
   "execution_count": null,
   "id": "1bb66f2e",
   "metadata": {},
   "outputs": [],
   "source": [
    "container = AppstoreContainer()\n",
    "repo = container.data.appdata_repo()\n",
    "dataset = repo.get_dataset()"
   ]
  },
  {
   "cell_type": "markdown",
   "id": "849906df",
   "metadata": {},
   "source": [
    "### Structural Analysis\n",
    "\n",
    "The structure and characteristics of the AppData dataset are as follows:"
   ]
  },
  {
   "cell_type": "code",
   "execution_count": null,
   "id": "f5259297",
   "metadata": {},
   "outputs": [],
   "source": [
    "df1 = dataset.overview\n",
    "df2 = dataset.dtypes\n",
    "\n",
    "df1_style = df1.style.set_table_attributes(\"style='display:inline; margin-right:220px;'\").set_caption(\"Dataset Structure\")\n",
    "df2_style = df2.style.set_table_attributes(\"style='display:inline; margin-right:120px'\").set_caption(\"Dataset Data Types\")\n",
    "\n",
    "display_html(df1_style._repr_html_() + df2_style._repr_html_(), raw=True)"
   ]
  },
  {
   "cell_type": "markdown",
   "id": "c20fb063",
   "metadata": {},
   "source": [
    "As indicated above, we have approximately 475,000 apps in our dataset, described by 11 features. Let's take a quick look."
   ]
  },
  {
   "cell_type": "code",
   "execution_count": null,
   "id": "bb9ddebd",
   "metadata": {},
   "outputs": [],
   "source": [
    "dataset.sample().style.hide(axis=\"index\")"
   ]
  },
  {
   "cell_type": "markdown",
   "id": "491e9a63",
   "metadata": {},
   "source": [
    "Identity variables, specifically (app) id and developer_id will be retained for data processing purposes, but have no other value and will be largely ignored during this analysis.\n",
    "\n",
    "### Data Quality Analysis\n",
    "\n",
    "Data type, cardinality, validity, duplication, and size data are summarized at the variable level."
   ]
  },
  {
   "cell_type": "code",
   "execution_count": null,
   "id": "7a8ad262",
   "metadata": {},
   "outputs": [],
   "source": [
    "dataset.info.style.hide(axis=\"index\")"
   ]
  },
  {
   "cell_type": "markdown",
   "id": "bbffcb1f",
   "metadata": {},
   "source": [
    "**Observations**\n",
    "\n",
    "- With the exception of released (date), we have no missing values.\n",
    "- Id's are unique and name, description, developer information, are all high-cardinality\n",
    "- Category id and label are low-cardinality with 26 unique values, each."
   ]
  },
  {
   "cell_type": "markdown",
   "id": "d1025fb8",
   "metadata": {},
   "source": [
    "#### Numeric Variable Data Quality\n",
    "\n",
    "Each feature has been cast to an appropriate data type and missing data are not extant for the dataset. Valid values for the numeric variables are:\n",
    "\n",
    "| Variable | Date Type  | Valid Values                                     |\n",
    "| -------- | ---------- | ------------------------------------------------ |\n",
    "| price    | Continuous | Non negative values                              |\n",
    "| rating   | Interval   | Real valued in [0,5]                             |\n",
    "| ratings  | Discrete   | Discrete and non-negative                        |\n",
    "| released | Continuous | Datetimes between June 10, 2008 and present day. |\n",
    "\n",
    "Let's check the ranges for these variables."
   ]
  },
  {
   "cell_type": "code",
   "execution_count": null,
   "id": "69b07451",
   "metadata": {},
   "outputs": [],
   "source": [
    "stats = dataset.describe(include=[np.number, np.datetime64])\n",
    "stats.numeric[['min','max']]"
   ]
  },
  {
   "cell_type": "markdown",
   "id": "cfdaf395",
   "metadata": {},
   "source": [
    "All numeric and datetime values are within range.\n",
    "\n",
    "#### Categorical Variable Data Quality\n",
    "\n",
    "The id, name, description, developer_id, and developer variables are nominal, high cardinality strings. Category and category_id; in contrast, must contain one of 26 category id / category values selected for this analysis."
   ]
  },
  {
   "cell_type": "code",
   "execution_count": null,
   "id": "e8afeb18",
   "metadata": {},
   "outputs": [],
   "source": [
    "columns = ['category_id', 'category']\n",
    "dataset.unique(columns=columns).style.hide(axis=\"index\")"
   ]
  },
  {
   "cell_type": "markdown",
   "id": "c7495adb",
   "metadata": {},
   "source": [
    "Category and category_id values are as expected."
   ]
  },
  {
   "cell_type": "markdown",
   "id": "5df8205b",
   "metadata": {},
   "source": [
    "### Univariate Analysis\n",
    "\n",
    "#### Quantitative Data\n",
    "\n",
    "We'll begin the univariate analysis with an examination of the quantitative variables, namely:\n",
    "\n",
    "- Average User Rating\n",
    "- Rating Count\n",
    "- Price\n",
    "- Release Date\n",
    "\n",
    "Using quantitative and qualititative methods, we'll discover the central tendency of the data (arithmetic mean, median, mode), its spread (variance, standard deviation, interquartile range, maximum and minimum value) and some features of its distribution (skewness, kurtosis).\n",
    "\n",
    "##### Average User Rating"
   ]
  },
  {
   "cell_type": "code",
   "execution_count": null,
   "id": "43c8305b",
   "metadata": {},
   "outputs": [],
   "source": [
    "dataset.plot.pdfcdfplot(x='rating', title='Average User Rating Distribution')\n"
   ]
  },
  {
   "cell_type": "markdown",
   "id": "862c9c85",
   "metadata": {},
   "source": [
    " Since the rating scale is in [1,5], its clear that the probability density and histogram above contain apps that have not been rated. To get a sense of the actual ratings, we'll create a new dataset without the non-reviewed apps."
   ]
  },
  {
   "cell_type": "code",
   "execution_count": null,
   "id": "189dd253",
   "metadata": {},
   "outputs": [],
   "source": [
    "df = dataset.as_df()\n",
    "df = df.loc[df['rating'] != 0]\n",
    "rated = AppDataDataset(df=df)"
   ]
  },
  {
   "cell_type": "markdown",
   "id": "39103c99",
   "metadata": {},
   "source": [
    "Ok, let's examine the frequency distribution of the ratings."
   ]
  },
  {
   "cell_type": "code",
   "execution_count": null,
   "id": "1ff692da",
   "metadata": {},
   "outputs": [],
   "source": [
    "rated.frequency(x='rating', bins=4)\n",
    "stats = rated.describe(x='rating')\n",
    "stats.numeric\n",
    "rated.plot.pdfcdfplot(x='rating', bins=4, title='Distribution of User Ratings')\n",
    "rated.plot.histpdfplot(x='rating', title='Distribution of User Ratings')"
   ]
  },
  {
   "cell_type": "markdown",
   "id": "1b326672",
   "metadata": {},
   "source": [
    "**Key Observations:**\n",
    "\n",
    "- The long left tail reveals a tendency towards ratings in the 4-5 star range.\n",
    "- Five star ratings make up 67% of all ratings.\n",
    "- Multiple peaks are also observed at one star and three star ratings and to a lesser degree with two stars.\n",
    "- Ratings up to one, two, and three stars, correspond to approximately 8%, 20% and 33% of the cumulative ratings respectively.\n",
    "- There is no assumption of normality in the distribution of ratings.\n",
    "- In short, five star ratings dominate customer opinion at this level by a significant margin.\n",
    "- Note: Taking the average of ordinal values, such as user ratings, is not among the *permissible* statistical transformations whose meanings are preserved when applied to the data, according to measurement theorists, most notably, Harvard psychologist S.S Stevens, who coined the terms *nominal*, *ordinal*, *interval*, and *ratio*. Fortunately, permission is not required in data analysis"
   ]
  },
  {
   "cell_type": "markdown",
   "id": "4a30b110",
   "metadata": {},
   "source": [
    "##### Rating Count\n",
    "\n",
    "Rating count can be a harbinger of the intensity of opinion. We'll use the same rated dataset as above."
   ]
  },
  {
   "cell_type": "code",
   "execution_count": null,
   "id": "25358fe9",
   "metadata": {},
   "outputs": [],
   "source": [
    "stats = rated.describe(x='ratings')\n",
    "stats.numeric\n",
    "rated.plot.histogram(x='ratings',bins=5, title='Distribution of User Rating Count')"
   ]
  },
  {
   "cell_type": "code",
   "execution_count": null,
   "id": "3d596dac",
   "metadata": {},
   "outputs": [],
   "source": [
    "rated.top_n(x='ratings', n=10)"
   ]
  },
  {
   "cell_type": "code",
   "execution_count": null,
   "id": "866a8d80",
   "metadata": {},
   "outputs": [],
   "source": [
    "topn = np.array([10,20,35,50,75,100,200,500,1000])\n",
    "rated.plot.topn_plot(x='ratings', n=topn)"
   ]
  },
  {
   "cell_type": "markdown",
   "id": "891503b0",
   "metadata": {},
   "source": [
    "**Key Observations:**\n",
    "\n",
    "- The distribution of rating counts has a long right tail, with a range from 1 to nearly 31 m ratings.\n",
    "- The central tendency is placed at a median of 10 ratings per app. The average is pulled in the direction of the outliers.\n",
    "- Giants of big-tech, social-media, an e-commerce, such as YouTube, Tik-Tok, Spotify, WhatsApp and DoorDash are among the most rated apps in the App Store.\n",
    "- The top-10 most-rated apps account for nearly 14% of all ratings and less than 1/10th of a percent of all apps. Moreover, the most-rated 1000 apps, who represent 1/3rd of a percent of all apps, consume nearly 75% of all ratings.\n",
    "- Takeaway: Rating counts are vastly disproportionate.\n",
    "- Note: Apps with earlier release dates may have higher rating counts. Ratings per day since release will remove the temporal dimension from the rating counts."
   ]
  }
 ],
 "metadata": {
  "kernelspec": {
   "display_name": "appstore",
   "language": "python",
   "name": "python3"
  }
 },
 "nbformat": 4,
 "nbformat_minor": 5
}
