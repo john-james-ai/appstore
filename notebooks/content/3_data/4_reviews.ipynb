{
 "cells": [
  {
   "cell_type": "markdown",
   "id": "bceeb8bd",
   "metadata": {},
   "source": [
    "# Exploratory Data Analysis\n",
    "\n",
    "## Stage III: Reviews"
   ]
  },
  {
   "cell_type": "code",
   "execution_count": null,
   "id": "3895df16",
   "metadata": {},
   "outputs": [],
   "source": [
    "import os\n",
    "import numpy as np\n",
    "import pandas as pd\n",
    "from IPython.display import HTML, display_html\n",
    "\n",
    "from appstore.container import AppstoreContainer\n",
    "\n",
    "container = AppstoreContainer()\n",
    "container.init_resources()\n",
    "pd.set_option(\"max_colwidth\", 400)"
   ]
  }
 ],
 "metadata": {
  "kernelspec": {
   "display_name": "appstore",
   "language": "python",
   "name": "python3"
  }
 },
 "nbformat": 4,
 "nbformat_minor": 5
}
