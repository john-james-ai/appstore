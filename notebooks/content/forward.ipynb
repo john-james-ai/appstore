{
 "cells": [
  {
   "cell_type": "markdown",
   "id": "eb1a9fa1",
   "metadata": {},
   "source": [
    "# VoCAI: Voice of the Customer via Artificial Intelligence\n",
    "\n",
    "1st Edition by John James\n",
    "\n",
    "## Forward"
   ]
  },
  {
   "cell_type": "markdown",
   "id": "ddb47b5d",
   "metadata": {},
   "source": [
    "## License"
   ]
  },
  {
   "cell_type": "markdown",
   "id": "09ac22a2",
   "metadata": {},
   "source": [
    "## Acknowledgments"
   ]
  }
 ],
 "metadata": {
  "jupytext": {
   "cell_metadata_filter": "-all",
   "main_language": "python",
   "notebook_metadata_filter": "-all"
  }
 },
 "nbformat": 4,
 "nbformat_minor": 5
}
