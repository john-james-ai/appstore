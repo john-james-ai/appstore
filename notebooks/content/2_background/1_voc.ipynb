{
 "cells": [
  {
   "cell_type": "markdown",
   "id": "1567f522",
   "metadata": {},
   "source": [
    "# Voice of the Customer via Generative AI"
   ]
  }
 ],
 "metadata": {
  "jupytext": {
   "cell_metadata_filter": "-all",
   "main_language": "python",
   "notebook_metadata_filter": "-all"
  }
 },
 "nbformat": 4,
 "nbformat_minor": 5
}
