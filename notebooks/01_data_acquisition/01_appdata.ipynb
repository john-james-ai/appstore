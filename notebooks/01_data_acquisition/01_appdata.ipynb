{
 "cells": [
  {
   "attachments": {},
   "cell_type": "markdown",
   "metadata": {},
   "source": [
    "# AppData Acquisition\n",
    "Acquisition of the core descriptive, rating, and app data; collectively termed AppData, is encapsulated in this notebook. The data acquisition pipeline extracted 15 variables for 16 search terms, loosely corresponding to Apple's app category taxonomy. \n",
    "\n",
    "|               |              |\n",
    "|---------------|--------------|\n",
    "| business      | music        |\n",
    "| education     | photo        |\n",
    "| entertainment | productivity |\n",
    "| finance       | reference    |\n",
    "| food          | shopping     |\n",
    "| health        | social       |\n",
    "| lifestyle     | travel       |\n",
    "| medical       | utilities    |\n",
    "\n",
    "\n",
    "The 16 appdata variables are:\n",
    "\n",
    "| #  | Variable                | Date Type  | Description                                |\n",
    "|----|-------------------------|------------|--------------------------------------------|\n",
    "| 1  | id                      | Nominal    | App Id from the App Store                  |\n",
    "| 2  | name                    | Nominal    | App Name                                   |\n",
    "| 3  | description             | Text       | App Description                            |\n",
    "| 4  | category_id             | Nominal    | Numeric category identifier                |\n",
    "| 5  | category                | Nominal    | Category name                              |\n",
    "| 6  | price                   | Continuous | App Price                                  |\n",
    "| 7  | developer_id            | Nominal    | Identifier for the developer               |\n",
    "| 8  | developer               | Nominal    | Name of the developer                      |\n",
    "| 9  | rating                  | Interval   | Average user rating since first released   |\n",
    "| 10 | ratings                 | Discrete   | Number of ratings since first release      |\n",
    "| 11 | rating_current_version  | Interval   | Average customer rating of current release |\n",
    "| 12 | ratings_current_version | Discrete   | Numer of user ratings for current release  |\n",
    "| 13 | released                | DateTime   | Datetime of first release                  |\n",
    "| 14 | released_current        | DateTime   | Datetime of current release                |\n",
    "| 15 | version                 | Nominal    | Current version of app                     |"
   ]
  },
  {
   "cell_type": "code",
   "execution_count": 1,
   "metadata": {},
   "outputs": [],
   "source": [
    "from IPython.display import display, HTML\n",
    "\n",
    "from appstore.container import AppstoreContainer\n",
    "from appstore.data.acquisition.appdata.controller import AppDataController\n",
    "from appstore.data.dataset.appdata import AppDataDataset"
   ]
  },
  {
   "cell_type": "code",
   "execution_count": 2,
   "metadata": {},
   "outputs": [
    {
     "name": "stderr",
     "output_type": "stream",
     "text": [
      "[08/30/2023 11:33:40 AM] [INFO] [MySQLDatabase] [connect] : Database is not started. Starting database...\n",
      "[sudo] password for john: "
     ]
    },
    {
     "name": "stdout",
     "output_type": "stream",
     "text": [
      "\n",
      "Starting MySQL...\n",
      " * Starting MySQL database server mysqld\n"
     ]
    },
    {
     "name": "stderr",
     "output_type": "stream",
     "text": [
      "su: warning: cannot change directory to /nonexistent: No such file or directory\n"
     ]
    },
    {
     "name": "stdout",
     "output_type": "stream",
     "text": [
      "   ...done.\n"
     ]
    }
   ],
   "source": [
    "container = AppstoreContainer()\n",
    "container.init_resources()\n",
    "container.wire(packages=[\"appstore.data.acquisition\", \"appstore.data.dataset\"])\n",
    "repo = container.data.uow().appdata_repo"
   ]
  },
  {
   "cell_type": "code",
   "execution_count": 3,
   "metadata": {
    "tags": [
     "parameters"
    ]
   },
   "outputs": [],
   "source": [
    "OLD_TERMS = [\"health\", \"productivity\", \"social\", \"business\", \"education\", \"entertainment\", \"lifestyle\", \"medical\",\n",
    "         \"finance\", \"food\", \"music\", \"reference\", \"photo\", \"shopping\", \"travel\", \"utilities\"]\n",
    "TERMS = [\"games\", \"graphics\", \"developer\", \"news\"]"
   ]
  },
  {
   "cell_type": "code",
   "execution_count": 4,
   "metadata": {},
   "outputs": [
    {
     "name": "stderr",
     "output_type": "stream",
     "text": [
      "[08/30/2023 11:33:46 AM] [INFO] [AppDataController] [_get_or_start_project] : \n",
      "Retrieved Project:\n",
      "None\n",
      "[08/30/2023 11:33:46 AM] [INFO] [AppDataController] [_get_or_start_project] : \n",
      "\n",
      "Started project for Games apps.\n",
      "[08/30/2023 11:35:32 AM] [INFO] [AppDataController] [_update_report_stats] : Term: Games\tPages: 10\tApps: 2000\tElapsed Time: 0:01:46.557864\tRate: 18.77 apps per second.\n",
      "[08/30/2023 11:38:10 AM] [INFO] [AppDataController] [_update_report_stats] : Term: Games\tPages: 20\tApps: 4000\tElapsed Time: 0:04:24.323921\tRate: 15.13 apps per second.\n",
      "[08/30/2023 11:41:01 AM] [INFO] [AppDataController] [_update_report_stats] : Term: Games\tPages: 30\tApps: 6000\tElapsed Time: 0:07:15.355799\tRate: 13.78 apps per second.\n",
      "[08/30/2023 11:43:40 AM] [INFO] [AppDataController] [_update_report_stats] : Term: Games\tPages: 40\tApps: 8000\tElapsed Time: 0:09:54.279226\tRate: 13.46 apps per second.\n",
      "[08/30/2023 11:46:16 AM] [INFO] [AppDataController] [_update_report_stats] : Term: Games\tPages: 50\tApps: 10000\tElapsed Time: 0:12:30.640178\tRate: 13.32 apps per second.\n"
     ]
    }
   ],
   "source": [
    "controller = AppDataController()\n",
    "controller.scrape(terms=TERMS)        "
   ]
  },
  {
   "attachments": {},
   "cell_type": "markdown",
   "metadata": {},
   "source": [
    "## AppData Dataset Overview"
   ]
  },
  {
   "cell_type": "code",
   "execution_count": null,
   "metadata": {},
   "outputs": [],
   "source": [
    "dataset = AppDataDataset()\n",
    "dataset.structure"
   ]
  },
  {
   "attachments": {},
   "cell_type": "markdown",
   "metadata": {},
   "source": [
    "## AppData Dataset Profile"
   ]
  },
  {
   "cell_type": "code",
   "execution_count": null,
   "metadata": {},
   "outputs": [],
   "source": [
    "dataset.info()"
   ]
  },
  {
   "attachments": {},
   "cell_type": "markdown",
   "metadata": {},
   "source": [
    "## AppData Dataset Summary"
   ]
  },
  {
   "cell_type": "code",
   "execution_count": null,
   "metadata": {},
   "outputs": [],
   "source": [
    "dataset.summary"
   ]
  }
 ],
 "metadata": {
  "kernelspec": {
   "display_name": "appstore",
   "language": "python",
   "name": "python3"
  },
  "language_info": {
   "codemirror_mode": {
    "name": "ipython",
    "version": 3
   },
   "file_extension": ".py",
   "mimetype": "text/x-python",
   "name": "python",
   "nbconvert_exporter": "python",
   "pygments_lexer": "ipython3",
   "version": "3.10.12"
  },
  "orig_nbformat": 4
 },
 "nbformat": 4,
 "nbformat_minor": 2
}
