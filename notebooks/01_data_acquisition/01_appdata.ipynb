{
 "cells": [
  {
   "attachments": {},
   "cell_type": "markdown",
   "metadata": {},
   "source": [
    "# AppData Acquisition\n",
    "Acquisition of the core descriptive, rating, and app data; collectively termed AppData, is encapsulated in this notebook. The data acquisition pipeline extracted 15 variables for 16 search terms, loosely corresponding to Apple's app category taxonomy. \n",
    "\n",
    "|               |              |\n",
    "|---------------|--------------|\n",
    "| business      | music        |\n",
    "| education     | photo        |\n",
    "| entertainment | productivity |\n",
    "| finance       | reference    |\n",
    "| food          | shopping     |\n",
    "| health        | social       |\n",
    "| lifestyle     | travel       |\n",
    "| medical       | utilities    |\n",
    "\n",
    "\n",
    "The 16 appdata variables are:\n",
    "\n",
    "| #  | Variable                | Date Type  | Description                                |\n",
    "|----|-------------------------|------------|--------------------------------------------|\n",
    "| 1  | id                      | Nominal    | App Id from the App Store                  |\n",
    "| 2  | name                    | Nominal    | App Name                                   |\n",
    "| 3  | description             | Text       | App Description                            |\n",
    "| 4  | category_id             | Nominal    | Numeric category identifier                |\n",
    "| 5  | category                | Nominal    | Category name                              |\n",
    "| 6  | price                   | Continuous | App Price                                  |\n",
    "| 7  | developer_id            | Nominal    | Identifier for the developer               |\n",
    "| 8  | developer               | Nominal    | Name of the developer                      |\n",
    "| 9  | rating                  | Interval   | Average user rating since first released   |\n",
    "| 10 | ratings                 | Discrete   | Number of ratings since first release      |\n",
    "| 11 | rating_current_version  | Interval   | Average customer rating of current release |\n",
    "| 12 | ratings_current_version | Discrete   | Numer of user ratings for current release  |\n",
    "| 13 | released                | DateTime   | Datetime of first release                  |\n",
    "| 14 | released_current        | DateTime   | Datetime of current release                |\n",
    "| 15 | version                 | Nominal    | Current version of app                     |"
   ]
  },
  {
   "cell_type": "code",
   "execution_count": null,
   "metadata": {},
   "outputs": [],
   "source": [
    "from IPython.display import display, HTML\n",
    "\n",
    "from appstore.container import AppstoreContainer\n",
    "from appstore.data.acquisition.appdata.controller import AppDataController\n",
    "from appstore.data.analysis.appdata import AppDataDataset"
   ]
  },
  {
   "cell_type": "code",
   "execution_count": null,
   "metadata": {},
   "outputs": [],
   "source": [
    "container = AppstoreContainer()\n",
    "container.init_resources()\n",
    "container.wire(packages=[\"appstore.data.acquisition\", \"appstore.data.analysis\"])\n",
    "repo = container.data.uow().appdata_repo"
   ]
  },
  {
   "cell_type": "code",
   "execution_count": null,
   "metadata": {
    "tags": [
     "parameters"
    ]
   },
   "outputs": [],
   "source": [
    "TERMS = [\"health\", \"productivity\", \"social\", \"business\", \"education\", \"entertainment\", \"lifestyle\", \"medical\",\n",
    "         \"finance\", \"food\", \"music\", \"reference\", \"photo\", \"shopping\", \"travel\", \"utilities\"]"
   ]
  },
  {
   "cell_type": "code",
   "execution_count": null,
   "metadata": {},
   "outputs": [],
   "source": [
    "controller = AppDataController()\n",
    "controller.scrape(terms=TERMS)        "
   ]
  },
  {
   "attachments": {},
   "cell_type": "markdown",
   "metadata": {},
   "source": [
    "## AppData Dataset Overview"
   ]
  },
  {
   "cell_type": "code",
   "execution_count": 5,
   "metadata": {},
   "outputs": [
    {
     "ename": "",
     "evalue": "",
     "output_type": "error",
     "traceback": [
      "\u001b[1;31mFailed to restart the Kernel. \n",
      "\u001b[1;31mlisten EMFILE: too many open files 0.0.0.0:9000. \n",
      "\u001b[1;31mView Jupyter <a href='command:jupyter.viewOutput'>log</a> for further details."
     ]
    }
   ],
   "source": [
    "dataset = AppDataDataset()\n",
    "dataset.structure"
   ]
  },
  {
   "attachments": {},
   "cell_type": "markdown",
   "metadata": {},
   "source": [
    "## AppData Dataset Profile"
   ]
  },
  {
   "cell_type": "code",
   "execution_count": null,
   "metadata": {},
   "outputs": [],
   "source": [
    "dataset.info"
   ]
  },
  {
   "attachments": {},
   "cell_type": "markdown",
   "metadata": {},
   "source": [
    "## AppData Dataset Summary"
   ]
  },
  {
   "cell_type": "code",
   "execution_count": null,
   "metadata": {},
   "outputs": [],
   "source": [
    "dataset.summary"
   ]
  }
 ],
 "metadata": {
  "kernelspec": {
   "display_name": "appstore",
   "language": "python",
   "name": "python3"
  },
  "language_info": {
   "codemirror_mode": {
    "name": "ipython",
    "version": 3
   },
   "file_extension": ".py",
   "mimetype": "text/x-python",
   "name": "python",
   "nbconvert_exporter": "python",
   "pygments_lexer": "ipython3",
   "version": "3.10.11"
  },
  "orig_nbformat": 4
 },
 "nbformat": 4,
 "nbformat_minor": 2
}
