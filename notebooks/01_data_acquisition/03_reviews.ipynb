{
 "cells": [
  {
   "attachments": {},
   "cell_type": "markdown",
   "metadata": {},
   "source": [
    "# AppStore Reviews\n",
    "As of 2022, the average number of reviews per IOS app was 455. This notebook, extracts user reviews of IOS apps defined as follows:\n",
    "\n",
    "## AppStore Review Entity\n",
    "The AppStore Review entity is defined as follows.  \n",
    "\n",
    "| #  | name        | description                                          | api_field                    |\n",
    "|----|-------------|------------------------------------------------------|------------------------------|\n",
    "| 1  | id          | Unique review identifier                             | userReviewId                 |\n",
    "| 2  | app_id      | Unique identifier for the app                        | from appstore['id']          |\n",
    "| 3  | app_name    | Name of app                                          | from appstore['name']        |\n",
    "| 4  | category_id | Four digit category identifier                       | from appstore['category_id'] |\n",
    "| 5  | category    | Category label                                       | from appstore['category']    |\n",
    "| 6  | author      | Review author                                        | name                         |\n",
    "| 7  | rating      | Rating accompanying the review                       | rating                       |\n",
    "| 8  | title       | Brief description of the review                      | title                        |\n",
    "| 9  | content     | Review text                                          | body                         |\n",
    "| 10 | vote_sum    | The number of customers who found the review helpful | voteSum                      |\n",
    "| 11 | vote_count  | The total number of customers who voted (yes/no)     | voteCount                    |\n",
    "| 12 | date        | Datetime of review                                   | date                         |\n",
    "| 13 | source      | The base url                                         | itunes.apple.com             |\n",
    "\n",
    "Reviews will be extracted by category of apps in the appdata repository. Concretely, reviews will be obtained for the following categories:\n",
    "\n",
    "| category_id | category               |\n",
    "|-------------|------------------------|\n",
    "| 6000        |  \"BUSINESS\",           |\n",
    "| 6017        |  \"EDUCATION\",          |\n",
    "| 6016        |  \"ENTERTAINMENT\",      |\n",
    "| 6013        |  \"HEALTH_AND_FITNESS\", |\n",
    "| 6012        |  \"LIFESTYLE\",          |\n",
    "| 6020        |  \"MEDICAL\",            |\n",
    "| 6007        |  \"PRODUCTIVITY\",       |\n",
    "| 6005        |  \"SOCIAL_NETWORKING\",  |\n"
   ]
  },
  {
   "attachments": {},
   "cell_type": "markdown",
   "metadata": {},
   "source": [
    "### Imports"
   ]
  },
  {
   "cell_type": "code",
   "execution_count": null,
   "metadata": {},
   "outputs": [],
   "source": [
    "from appstore.data.acquisition.review.controller import ReviewController\n",
    "from appstore.data.acquisition import AppStoreTargetCategories\n",
    "from appstore.container import AppstoreContainer"
   ]
  },
  {
   "cell_type": "code",
   "execution_count": null,
   "metadata": {},
   "outputs": [],
   "source": [
    "CATEGORIES = [\n",
    "        6018,\n",
    "        6000,        \n",
    "        6016,\n",
    "        6015,\n",
    "        6023,\n",
    "        6013,\n",
    "        6012,\n",
    "        6020,        \n",
    "        6008,\n",
    "        6007,\n",
    "        6006,\n",
    "        6024,\n",
    "        6005,\n",
    "        6003,\n",
    "        6002,\n",
    "    ]"
   ]
  },
  {
   "attachments": {},
   "cell_type": "markdown",
   "metadata": {},
   "source": [
    "### Dependencies"
   ]
  },
  {
   "cell_type": "code",
   "execution_count": null,
   "metadata": {},
   "outputs": [],
   "source": [
    "container = AppstoreContainer()\n",
    "container.init_resources()\n",
    "container.wire(packages=[\"appstore.data.acquisition\"])"
   ]
  },
  {
   "attachments": {},
   "cell_type": "markdown",
   "metadata": {},
   "source": [
    "### Review Page\n",
    "ReviewProject manages the extraction of review data from the App Store. Iterating through the CATEGORIES above, a scraper returns review data for each app in the repository, by category. As before, the results are stored in an RDBMS and archived."
   ]
  },
  {
   "cell_type": "code",
   "execution_count": 4,
   "metadata": {},
   "outputs": [],
   "source": [
    "ctrl = ReviewController()\n",
    "ctrl.scrape(category_ids=CATEGORIES)\n"
   ]
  },
  {
   "attachments": {},
   "cell_type": "markdown",
   "metadata": {},
   "source": [
    "### Review Summary"
   ]
  },
  {
   "cell_type": "code",
   "execution_count": null,
   "metadata": {},
   "outputs": [],
   "source": [
    "ctrl.summarize()\n",
    "ctrl.archive()"
   ]
  }
 ],
 "metadata": {
  "kernelspec": {
   "display_name": "aimobile",
   "language": "python",
   "name": "python3"
  },
  "language_info": {
   "codemirror_mode": {
    "name": "ipython",
    "version": 3
   },
   "file_extension": ".py",
   "mimetype": "text/x-python",
   "name": "python",
   "nbconvert_exporter": "python",
   "pygments_lexer": "ipython3",
   "version": "3.10.11"
  },
  "orig_nbformat": 4
 },
 "nbformat": 4,
 "nbformat_minor": 2
}
