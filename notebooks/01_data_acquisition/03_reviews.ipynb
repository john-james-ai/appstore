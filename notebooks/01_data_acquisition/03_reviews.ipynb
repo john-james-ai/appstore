{
 "cells": [
  {
   "attachments": {},
   "cell_type": "markdown",
   "metadata": {},
   "source": [
    "# AppStore Reviews\n",
    "As of 2022, the average number of reviews per IOS app was 455. This notebook, extracts user reviews of IOS apps defined as follows:\n",
    "\n",
    "## AppStore Review Entity\n",
    "The AppStore Review entity is defined as follows.  \n",
    "\n",
    "| #  | name        | description                                          | api_field                    |\n",
    "|----|-------------|------------------------------------------------------|------------------------------|\n",
    "| 1  | id          | Unique review identifier                             | userReviewId                 |\n",
    "| 2  | app_id      | Unique identifier for the app                        | from appstore['id']          |\n",
    "| 3  | app_name    | Name of app                                          | from appstore['name']        |\n",
    "| 4  | category_id | Four digit category identifier                       | from appstore['category_id'] |\n",
    "| 5  | category    | Category label                                       | from appstore['category']    |\n",
    "| 6  | author      | Review author                                        | name                         |\n",
    "| 7  | rating      | Rating accompanying the review                       | rating                       |\n",
    "| 8  | title       | Brief description of the review                      | title                        |\n",
    "| 9  | content     | Review text                                          | body                         |\n",
    "| 10 | vote_sum    | The number of customers who found the review helpful | voteSum                      |\n",
    "| 11 | vote_count  | The total number of customers who voted (yes/no)     | voteCount                    |\n",
    "| 12 | date        | Datetime of review                                   | date                         |\n",
    "| 13 | source      | The base url                                         | itunes.apple.com             |\n",
    "\n",
    "Reviews will be extracted by category of apps in the appdata repository. Concretely, reviews will be obtained for the following categories:\n",
    "\n",
    "| category_id | category               |\n",
    "|-------------|------------------------|\n",
    "| 6000        |  \"BUSINESS\",           |\n",
    "| 6017        |  \"EDUCATION\",          |\n",
    "| 6016        |  \"ENTERTAINMENT\",      |\n",
    "| 6013        |  \"HEALTH_AND_FITNESS\", |\n",
    "| 6012        |  \"LIFESTYLE\",          |\n",
    "| 6020        |  \"MEDICAL\",            |\n",
    "| 6007        |  \"PRODUCTIVITY\",       |\n",
    "| 6005        |  \"SOCIAL_NETWORKING\",  |\n"
   ]
  },
  {
   "attachments": {},
   "cell_type": "markdown",
   "metadata": {},
   "source": [
    "### Imports"
   ]
  },
  {
   "cell_type": "code",
   "execution_count": 1,
   "metadata": {},
   "outputs": [],
   "source": [
    "from appstore.data.acquisition.review.controller import ReviewController\n",
    "from appstore.data.acquisition import AppStoreTargetCategories\n",
    "from appstore.container import AppstoreContainer"
   ]
  },
  {
   "cell_type": "code",
   "execution_count": 2,
   "metadata": {},
   "outputs": [],
   "source": [
    "CATEGORIES = AppStoreTargetCategories.IDS"
   ]
  },
  {
   "attachments": {},
   "cell_type": "markdown",
   "metadata": {},
   "source": [
    "### Dependencies"
   ]
  },
  {
   "cell_type": "code",
   "execution_count": 3,
   "metadata": {},
   "outputs": [],
   "source": [
    "container = AppstoreContainer()\n",
    "container.init_resources()\n",
    "container.wire(packages=[\"appstore.data.acquisition\"])"
   ]
  },
  {
   "attachments": {},
   "cell_type": "markdown",
   "metadata": {},
   "source": [
    "### Review Page\n",
    "ReviewProject manages the extraction of review data from the App Store. Iterating through the CATEGORIES above, a scraper returns review data for each app in the repository, by category. As before, the results are stored in an RDBMS and archived."
   ]
  },
  {
   "cell_type": "code",
   "execution_count": 4,
   "metadata": {},
   "outputs": [
    {
     "name": "stderr",
     "output_type": "stream",
     "text": [
      "[07/26/2023 09:31:23 PM] [INFO] [ReviewController] [_start_project] : \n",
      "\n",
      "Controller with 16 categories started at 07/26/2023, 21:31:23\n",
      "\n",
      "[07/26/2023 09:31:28 PM] [INFO] [ReviewController] [_announce_category_start] : \n",
      "\n",
      "Category: 6018-BOOKS Started at 07/26/2023, 21:31:23\n",
      "\t               Apps in Category: | 4103\n",
      "\t          Apps with Min Ratings: | 1249\n",
      "\t              Apps with Reviews: | 6\n",
      "\t                Apps to Process: | 1243\n",
      "\n",
      "[07/26/2023 09:32:09 PM] [INFO] [ReviewController] [_announce_batch] : Category: 6018-BOOKS            \tApps: 10\tReviews: 169            \tElapsed Time: 0:00:38.335490            \tRate: 4.41 reviews/second.\n",
      "[07/26/2023 09:33:06 PM] [INFO] [ReviewController] [_announce_batch] : Category: 6018-BOOKS            \tApps: 20\tReviews: 3515            \tElapsed Time: 0:01:40.945154            \tRate: 34.82 reviews/second.\n",
      "[07/26/2023 09:33:50 PM] [INFO] [ReviewController] [_announce_batch] : Category: 6018-BOOKS            \tApps: 30\tReviews: 3924            \tElapsed Time: 0:02:25.178288            \tRate: 27.03 reviews/second.\n",
      "[07/26/2023 09:34:30 PM] [INFO] [ReviewController] [_announce_batch] : Category: 6018-BOOKS            \tApps: 40\tReviews: 4215            \tElapsed Time: 0:03:05.394356            \tRate: 22.74 reviews/second.\n",
      "[07/26/2023 09:35:07 PM] [INFO] [ReviewController] [_announce_batch] : Category: 6018-BOOKS            \tApps: 50\tReviews: 4667            \tElapsed Time: 0:03:42.899770            \tRate: 20.94 reviews/second.\n",
      "[07/26/2023 09:36:00 PM] [INFO] [ReviewController] [_announce_batch] : Category: 6018-BOOKS            \tApps: 60\tReviews: 4785            \tElapsed Time: 0:04:35.081195            \tRate: 17.39 reviews/second.\n",
      "[07/26/2023 09:36:44 PM] [INFO] [ReviewController] [_announce_batch] : Category: 6018-BOOKS            \tApps: 70\tReviews: 4933            \tElapsed Time: 0:05:18.147674            \tRate: 15.51 reviews/second.\n",
      "[07/26/2023 09:37:48 PM] [INFO] [ReviewController] [_announce_batch] : Category: 6018-BOOKS            \tApps: 80\tReviews: 7108            \tElapsed Time: 0:06:23.250976            \tRate: 18.55 reviews/second.\n",
      "[07/26/2023 09:38:30 PM] [INFO] [ReviewController] [_announce_batch] : Category: 6018-BOOKS            \tApps: 90\tReviews: 7389            \tElapsed Time: 0:07:05.034813            \tRate: 17.38 reviews/second.\n",
      "[07/26/2023 09:39:19 PM] [INFO] [ReviewController] [_announce_batch] : Category: 6018-BOOKS            \tApps: 100\tReviews: 9543            \tElapsed Time: 0:07:54.042732            \tRate: 20.13 reviews/second.\n",
      "[07/26/2023 09:40:01 PM] [INFO] [ReviewController] [_announce_batch] : Category: 6018-BOOKS            \tApps: 110\tReviews: 10483            \tElapsed Time: 0:08:35.906008            \tRate: 20.32 reviews/second.\n",
      "[07/26/2023 09:40:59 PM] [INFO] [ReviewController] [_announce_batch] : Category: 6018-BOOKS            \tApps: 120\tReviews: 10690            \tElapsed Time: 0:09:34.043836            \tRate: 18.62 reviews/second.\n",
      "[07/26/2023 09:41:41 PM] [INFO] [ReviewController] [_announce_batch] : Category: 6018-BOOKS            \tApps: 130\tReviews: 10808            \tElapsed Time: 0:10:16.025016            \tRate: 17.54 reviews/second.\n",
      "[07/26/2023 09:42:17 PM] [INFO] [ReviewController] [_announce_batch] : Category: 6018-BOOKS            \tApps: 140\tReviews: 10889            \tElapsed Time: 0:10:52.582405            \tRate: 16.69 reviews/second.\n",
      "[07/26/2023 09:47:04 PM] [INFO] [ReviewController] [_announce_batch] : Category: 6018-BOOKS            \tApps: 150\tReviews: 37602            \tElapsed Time: 0:15:38.444115            \tRate: 40.07 reviews/second.\n",
      "[07/26/2023 09:48:05 PM] [INFO] [ReviewController] [_announce_batch] : Category: 6018-BOOKS            \tApps: 160\tReviews: 40587            \tElapsed Time: 0:16:40.336572            \tRate: 40.57 reviews/second.\n",
      "[07/26/2023 09:48:45 PM] [INFO] [ReviewController] [_announce_batch] : Category: 6018-BOOKS            \tApps: 170\tReviews: 41079            \tElapsed Time: 0:17:20.644089            \tRate: 39.47 reviews/second.\n",
      "[07/26/2023 09:49:24 PM] [INFO] [ReviewController] [_announce_batch] : Category: 6018-BOOKS            \tApps: 180\tReviews: 41183            \tElapsed Time: 0:17:58.886961            \tRate: 38.17 reviews/second.\n",
      "[07/26/2023 09:50:00 PM] [INFO] [ReviewController] [_announce_batch] : Category: 6018-BOOKS            \tApps: 190\tReviews: 41503            \tElapsed Time: 0:18:35.540815            \tRate: 37.2 reviews/second.\n"
     ]
    }
   ],
   "source": [
    "ctrl = ReviewController()\n",
    "ctrl.scrape(category_ids=CATEGORIES)\n"
   ]
  },
  {
   "attachments": {},
   "cell_type": "markdown",
   "metadata": {},
   "source": [
    "### Review Summary"
   ]
  },
  {
   "cell_type": "code",
   "execution_count": null,
   "metadata": {},
   "outputs": [],
   "source": [
    "ctrl.summarize()\n",
    "ctrl.archive()"
   ]
  }
 ],
 "metadata": {
  "kernelspec": {
   "display_name": "aimobile",
   "language": "python",
   "name": "python3"
  },
  "language_info": {
   "codemirror_mode": {
    "name": "ipython",
    "version": 3
   },
   "file_extension": ".py",
   "mimetype": "text/x-python",
   "name": "python",
   "nbconvert_exporter": "python",
   "pygments_lexer": "ipython3",
   "version": "3.10.11"
  },
  "orig_nbformat": 4
 },
 "nbformat": 4,
 "nbformat_minor": 2
}
