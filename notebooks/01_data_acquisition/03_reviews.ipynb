{
 "cells": [
  {
   "attachments": {},
   "cell_type": "markdown",
   "metadata": {},
   "source": [
    "# AppStore Reviews\n",
    "As of 2022, the average number of reviews per IOS app was 455. This notebook, extracts user reviews of IOS apps defined as follows:\n",
    "\n",
    "## AppStore Review Entity\n",
    "The AppStore Review entity is defined as follows.  \n",
    "\n",
    "| #  | name        | description                                          | api_field                    |\n",
    "|----|-------------|------------------------------------------------------|------------------------------|\n",
    "| 1  | id          | Unique review identifier                             | userReviewId                 |\n",
    "| 2  | app_id      | Unique identifier for the app                        | from appstore['id']          |\n",
    "| 3  | app_name    | Name of app                                          | from appstore['name']        |\n",
    "| 4  | category_id | Four digit category identifier                       | from appstore['category_id'] |\n",
    "| 5  | category    | Category label                                       | from appstore['category']    |\n",
    "| 6  | author      | Review author                                        | name                         |\n",
    "| 7  | rating      | Rating accompanying the review                       | rating                       |\n",
    "| 8  | title       | Brief description of the review                      | title                        |\n",
    "| 9  | content     | Review text                                          | body                         |\n",
    "| 10 | vote_sum    | The number of customers who found the review helpful | voteSum                      |\n",
    "| 11 | vote_count  | The total number of customers who voted (yes/no)     | voteCount                    |\n",
    "| 12 | date        | Datetime of review                                   | date                         |\n",
    "| 13 | source      | The base url                                         | itunes.apple.com             |\n",
    "\n",
    "Reviews will be extracted by category of apps in the appdata repository. Concretely, reviews will be obtained for the following categories:\n",
    "\n",
    "| category_id | category               |\n",
    "|-------------|------------------------|\n",
    "| 6000        |  \"BUSINESS\",           |\n",
    "| 6017        |  \"EDUCATION\",          |\n",
    "| 6016        |  \"ENTERTAINMENT\",      |\n",
    "| 6013        |  \"HEALTH_AND_FITNESS\", |\n",
    "| 6012        |  \"LIFESTYLE\",          |\n",
    "| 6020        |  \"MEDICAL\",            |\n",
    "| 6007        |  \"PRODUCTIVITY\",       |\n",
    "| 6005        |  \"SOCIAL_NETWORKING\",  |\n"
   ]
  },
  {
   "attachments": {},
   "cell_type": "markdown",
   "metadata": {},
   "source": [
    "### Imports"
   ]
  },
  {
   "cell_type": "code",
   "execution_count": 1,
   "metadata": {},
   "outputs": [],
   "source": [
    "from appstore.data.acquisition.review.controller import ReviewController\n",
    "from appstore.container import AppstoreContainer"
   ]
  },
  {
   "attachments": {},
   "cell_type": "markdown",
   "metadata": {},
   "source": [
    "## Dependencies"
   ]
  },
  {
   "cell_type": "code",
   "execution_count": 2,
   "metadata": {},
   "outputs": [],
   "source": [
    "container = AppstoreContainer()\n",
    "container.init_resources()\n",
    "container.wire(packages=[\"appstore.data.acquisition\"])"
   ]
  },
  {
   "attachments": {},
   "cell_type": "markdown",
   "metadata": {},
   "source": [
    "### Scrape"
   ]
  },
  {
   "cell_type": "code",
   "execution_count": 3,
   "metadata": {},
   "outputs": [
    {
     "name": "stderr",
     "output_type": "stream",
     "text": [
      "[08/11/2023 01:13:58 AM] [INFO] [ReviewJobRun] [start] : \n",
      "JobRun for job review-6024 Started\n",
      "[08/11/2023 01:13:58 AM] [DEBUG] [ReviewJobRunRepo] [load] : Added 1 rows to the review_jobrun repository.\n",
      "[08/11/2023 01:13:59 AM] [INFO] [ReviewController] [_get_apps] : \n",
      "\n",
      "A total of 40903 apps in category 6024.\n",
      "Apps to process: 5517\n",
      "[08/11/2023 01:13:59 AM] [DEBUG] [ReviewRequestRepo] [load] : Added 1 rows to the review_request repository.\n",
      "[08/11/2023 01:13:59 AM] [DEBUG] [urllib3.connectionpool] [_new_conn] : Starting new HTTPS connection (1): itunes.apple.com:443\n",
      "[08/11/2023 01:14:01 AM] [DEBUG] [urllib3.connectionpool] [_make_request] : https://itunes.apple.com:443 \"GET /WebObjects/MZStore.woa/wa/userReviewsRow?id=1226459994&displayable-kind=11&startIndex=0&endIndex=400&sort=1 HTTP/1.1\" 200 1940\n",
      "[08/11/2023 01:14:03 AM] [DEBUG] [ReviewRepo] [load] : Added 9 rows to the review repository.\n",
      "[08/11/2023 01:14:04 AM] [DEBUG] [urllib3.connectionpool] [_make_request] : https://itunes.apple.com:443 \"GET /WebObjects/MZStore.woa/wa/userReviewsRow?id=1226459994&displayable-kind=11&startIndex=400&endIndex=800&sort=1 HTTP/1.1\" 200 41\n",
      "[08/11/2023 01:14:05 AM] [DEBUG] [ReviewValidator] [_validate_response_content] : Invalid Response: Response json 'userReviewList' has zero length.\n",
      "[08/11/2023 01:14:05 AM] [DEBUG] [urllib3.connectionpool] [_make_request] : https://itunes.apple.com:443 \"GET /WebObjects/MZStore.woa/wa/userReviewsRow?id=1226459994&displayable-kind=11&startIndex=800&endIndex=1200&sort=1 HTTP/1.1\" 200 41\n",
      "[08/11/2023 01:14:06 AM] [DEBUG] [ReviewValidator] [_validate_response_content] : Invalid Response: Response json 'userReviewList' has zero length.\n"
     ]
    }
   ],
   "source": [
    "ctrl = ReviewController()\n",
    "ctrl.scrape()\n"
   ]
  }
 ],
 "metadata": {
  "kernelspec": {
   "display_name": "appstore",
   "language": "python",
   "name": "python3"
  },
  "language_info": {
   "codemirror_mode": {
    "name": "ipython",
    "version": 3
   },
   "file_extension": ".py",
   "mimetype": "text/x-python",
   "name": "python",
   "nbconvert_exporter": "python",
   "pygments_lexer": "ipython3",
   "version": "3.10.12"
  },
  "orig_nbformat": 4
 },
 "nbformat": 4,
 "nbformat_minor": 2
}
