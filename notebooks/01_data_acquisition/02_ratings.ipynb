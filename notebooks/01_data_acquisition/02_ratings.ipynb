{
 "cells": [
  {
   "attachments": {},
   "cell_type": "markdown",
   "metadata": {},
   "source": [
    "# AppStore Ratings\n",
    "App Store apps are rated on a five-star scale. In this section, we extract the number of ratings on each of the five-points of the scale, as well as the total ratings and reviews.  \n",
    "\n",
    "The AppStore Review entity is defined as follows.  \n",
    "\n",
    "| #  | name        | description                                    | api_field            |\n",
    "|----|-------------|------------------------------------------------|----------------------|\n",
    "| 1  | id          | Unique app identifier                          | adamId               |\n",
    "| 2  | name        | App name                                       | name                 |\n",
    "| 3  | category_id | Four digit IOS category identifier             | categoryId           |\n",
    "| 4  | category    | The category in text                           | category             |\n",
    "| 5  | rating      | Average rating                                 | ratingAverage        |\n",
    "| 6  | reviews     | The total number of reviews                    | totalNumberOfReviews |\n",
    "| 7  | ratings     | The total number of ratings                    | ratingCount          |\n",
    "| 8  | onestar     | The count of one star ratings                  | ratingCountList      |\n",
    "| 9  | twostar     | The count of two star ratings                  | ratingCountList      |\n",
    "| 10 | threestar   | The count of three star ratings                | ratingCountList      |\n",
    "| 11 | fourstar    | The count of four star ratings                 | ratingCountList      |\n",
    "| 12 | fivestar    | The count of five star ratings                 | ratingCountList      |\n",
    "| 13 | source      | The base url from which the data were obtained | itunes.apple.com     |\n",
    "\n",
    "Ratings will be extracted by category of apps in the appdata repository. Concretely, ratings will be obtained for the following categories:\n",
    "\n",
    "| ID   | NAME                |\n",
    "|------|---------------------|\n",
    "| 6000 |  BUSINESS           |\n",
    "| 6002 |  UTILITIES          |\n",
    "| 6005 |  SOCIAL_NETWORKING  |\n",
    "| 6007 |  PRODUCTIVITY       |\n",
    "| 6012 |  LIFESTYLE          |\n",
    "| 6013 |  HEALTH_AND_FITNESS |\n",
    "| 6015 |  FINANCE            |\n",
    "| 6016 |  ENTERTAINMENT      |\n",
    "| 6017 |  EDUCATION          |\n",
    "| 6020 |  MEDICAL            |\n",
    "| 6023 |  FOOD_AND_DRINK     |\n",
    "| 6024 |  SHOPPING           |\n"
   ]
  },
  {
   "attachments": {},
   "cell_type": "markdown",
   "metadata": {},
   "source": [
    "**Imports**"
   ]
  },
  {
   "cell_type": "code",
   "execution_count": 1,
   "metadata": {},
   "outputs": [],
   "source": [
    "import asyncio\n",
    "from appstore.data.acquisition.rating.controller import RatingController\n",
    "from appstore.container import AppstoreContainer"
   ]
  },
  {
   "attachments": {},
   "cell_type": "markdown",
   "metadata": {},
   "source": [
    "## AppStore Ratings\n",
    "RatingController iterates through the categories, extracting the apps from the repository and retrieves the rating data from the App Store. The results are persisted in the RatingRepo."
   ]
  },
  {
   "cell_type": "code",
   "execution_count": 2,
   "metadata": {},
   "outputs": [
    {
     "name": "stderr",
     "output_type": "stream",
     "text": [
      "[08/09/2023 01:40:47 PM] [INFO] [RatingJobRun] [start] : \n",
      "JobRun for job rating-6024 Started\n",
      "[08/09/2023 01:40:47 PM] [INFO] [RatingController] [_get_apps] : \n",
      "\n",
      "A total of 0 apps in category 6024.\n",
      "There are 0 apps in category 6024 which have already been processed.All apps have been processed for category: 6024\n",
      "[08/09/2023 01:40:47 PM] [INFO] [RatingJobRun] [start] : \n",
      "JobRun for job rating-6002 Started\n",
      "[08/09/2023 01:40:47 PM] [INFO] [RatingController] [_get_apps] : \n",
      "\n",
      "A total of 0 apps in category 6002.\n",
      "There are 0 apps in category 6002 which have already been processed.All apps have been processed for category: 6002\n"
     ]
    }
   ],
   "source": [
    "async def wire_load():\n",
    "    container = AppstoreContainer()\n",
    "    container.init_resources()\n",
    "    container.wire(packages=[\"appstore.data.acquisition\"])\n",
    "\n",
    "async def scrape():\n",
    "    ctrl = RatingController()\n",
    "    await ctrl.scrape()        \n",
    "\n",
    "async def main():\n",
    "    await asyncio.gather(wire_load(), scrape())\n",
    "\n",
    "await main()"
   ]
  }
 ],
 "metadata": {
  "kernelspec": {
   "display_name": "appstore",
   "language": "python",
   "name": "python3"
  },
  "language_info": {
   "codemirror_mode": {
    "name": "ipython",
    "version": 3
   },
   "file_extension": ".py",
   "mimetype": "text/x-python",
   "name": "python",
   "nbconvert_exporter": "python",
   "pygments_lexer": "ipython3",
   "version": "3.10.12"
  },
  "orig_nbformat": 4
 },
 "nbformat": 4,
 "nbformat_minor": 2
}
