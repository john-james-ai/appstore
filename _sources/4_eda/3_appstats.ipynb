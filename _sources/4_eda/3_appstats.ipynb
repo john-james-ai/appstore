{
 "cells": [
  {
   "cell_type": "markdown",
   "id": "803d46c8",
   "metadata": {},
   "source": [
    "# Exploratory Data Analysis\n",
    "\n",
    "## Stage II: Ratings\n",
    "\n",
    "| #  | Variable    | Description                      | Data Type   |\n",
    "| -- | ----------- | -------------------------------- | ----------- |\n",
    "| 1  | id          | App Identifier                   | Nominal     |\n",
    "| 2  | name        | App Name                         | Nominal     |\n",
    "| 3  | category_id | Four Digit Category Id           | Categorical |\n",
    "| 4  | category    | Category Name                    | Categorical |\n",
    "| 5  | rating      | Average Customer Rating          | Interval    |\n",
    "| 6  | reviews     | Total Number Of Customer Reviews | Discrete    |\n",
    "| 7  | ratings     | Rating Count                     | Discrete    |\n",
    "| 8  | onestar     | One Star Rating Count            | Discrete    |\n",
    "| 9  | twostar     | Two Star Rating Count            | Discrete    |\n",
    "| 10 | threestar   | Three Star Rating Count          | Discrete    |\n",
    "| 11 | fourstar    | Four Star Rating Count           | Discrete    |\n",
    "| 12 | fivestar    | Five Star Rating Count           | Discrete    |"
   ]
  },
  {
   "cell_type": "code",
   "execution_count": 1,
   "id": "5d45aba8",
   "metadata": {},
   "outputs": [
    {
     "ename": "ModuleNotFoundError",
     "evalue": "No module named 'appstore'",
     "output_type": "error",
     "traceback": [
      "\u001b[0;31m---------------------------------------------------------------------------\u001b[0m",
      "\u001b[0;31mModuleNotFoundError\u001b[0m                       Traceback (most recent call last)",
      "Cell \u001b[0;32mIn[1], line 5\u001b[0m\n\u001b[1;32m      2\u001b[0m \u001b[38;5;28;01mimport\u001b[39;00m \u001b[38;5;21;01mpandas\u001b[39;00m \u001b[38;5;28;01mas\u001b[39;00m \u001b[38;5;21;01mpd\u001b[39;00m\n\u001b[1;32m      3\u001b[0m \u001b[38;5;28;01mfrom\u001b[39;00m \u001b[38;5;21;01mIPython\u001b[39;00m\u001b[38;5;21;01m.\u001b[39;00m\u001b[38;5;21;01mdisplay\u001b[39;00m \u001b[38;5;28;01mimport\u001b[39;00m HTML, display_html\n\u001b[0;32m----> 5\u001b[0m \u001b[38;5;28;01mfrom\u001b[39;00m \u001b[38;5;21;01mappstore\u001b[39;00m\u001b[38;5;21;01m.\u001b[39;00m\u001b[38;5;21;01mdata\u001b[39;00m\u001b[38;5;21;01m.\u001b[39;00m\u001b[38;5;21;01mdataset\u001b[39;00m\u001b[38;5;21;01m.\u001b[39;00m\u001b[38;5;21;01mrating\u001b[39;00m \u001b[38;5;28;01mimport\u001b[39;00m RatingDataset\n\u001b[1;32m      6\u001b[0m \u001b[38;5;28;01mfrom\u001b[39;00m \u001b[38;5;21;01mappstore\u001b[39;00m\u001b[38;5;21;01m.\u001b[39;00m\u001b[38;5;21;01mcontainer\u001b[39;00m \u001b[38;5;28;01mimport\u001b[39;00m AppstoreContainer\n\u001b[1;32m      7\u001b[0m formatting \u001b[38;5;241m=\u001b[39m {\u001b[38;5;124m\"\u001b[39m\u001b[38;5;124mthousands\u001b[39m\u001b[38;5;124m\"\u001b[39m:\u001b[38;5;124m\"\u001b[39m\u001b[38;5;124m,\u001b[39m\u001b[38;5;124m\"\u001b[39m, \u001b[38;5;124m\"\u001b[39m\u001b[38;5;124mprecision\u001b[39m\u001b[38;5;124m\"\u001b[39m:\u001b[38;5;241m2\u001b[39m}\n",
      "\u001b[0;31mModuleNotFoundError\u001b[0m: No module named 'appstore'"
     ]
    }
   ],
   "source": [
    "import numpy as np\n",
    "import pandas as pd\n",
    "from IPython.display import HTML, display_html\n",
    "\n",
    "from appstore.data.dataset.rating import RatingDataset\n",
    "from appstore.container import AppstoreContainer\n",
    "formatting = {\"thousands\":\",\", \"precision\":2}"
   ]
  },
  {
   "cell_type": "code",
   "execution_count": null,
   "id": "02ca0ee7",
   "metadata": {},
   "outputs": [],
   "source": [
    "container = AppstoreContainer()\n",
    "container.init_resources()\n",
    "container.wire(packages=[\"appstore.data.dataset\"])"
   ]
  },
  {
   "cell_type": "code",
   "execution_count": null,
   "id": "dc1d017c",
   "metadata": {},
   "outputs": [],
   "source": [
    "repo = container.data.rating_repo()\n",
    "dataset = repo.get_dataset()"
   ]
  },
  {
   "cell_type": "markdown",
   "id": "45f3c671",
   "metadata": {},
   "source": [
    "### Structural Analysis\n",
    "\n",
    "The structure and characteristics of the Rating dataset are as follows:\n",
    "\n",
    "### Data Quality Analysis\n",
    "\n",
    "### Content Analysis"
   ]
  }
 ],
 "metadata": {
  "jupytext": {
   "text_representation": {
    "extension": ".md",
    "format_name": "myst",
    "format_version": 0.13,
    "jupytext_version": "1.15.0"
   }
  },
  "kernelspec": {
   "display_name": "appstore",
   "language": "python",
   "name": "python3"
  },
  "language_info": {
   "codemirror_mode": {
    "name": "ipython",
    "version": 3
   },
   "file_extension": ".py",
   "mimetype": "text/x-python",
   "name": "python",
   "nbconvert_exporter": "python",
   "pygments_lexer": "ipython3",
   "version": "3.10.12"
  },
  "source_map": [
   12,
   32,
   42,
   48,
   51
  ]
 },
 "nbformat": 4,
 "nbformat_minor": 5
}