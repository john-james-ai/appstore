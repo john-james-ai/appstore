{
 "cells": [
  {
   "cell_type": "markdown",
   "id": "ca7f9458",
   "metadata": {},
   "source": [
    "# Exploratory Data Analysis\n",
    "\n",
    "## Stage II: Ratings\n",
    "\n",
    "| #  | Variable    | Description                      | Data Type   |\n",
    "| -- | ----------- | -------------------------------- | ----------- |\n",
    "| 1  | id          | App Identifier                   | Nominal     |\n",
    "| 2  | name        | App Name                         | Nominal     |\n",
    "| 3  | category_id | Four Digit Category Id           | Categorical |\n",
    "| 4  | category    | Category Name                    | Categorical |\n",
    "| 5  | rating      | Average Customer Rating          | Interval    |\n",
    "| 6  | reviews     | Total Number Of Customer Reviews | Discrete    |\n",
    "| 7  | ratings     | Rating Count                     | Discrete    |\n",
    "| 8  | onestar     | One Star Rating Count            | Discrete    |\n",
    "| 9  | twostar     | Two Star Rating Count            | Discrete    |\n",
    "| 10 | threestar   | Three Star Rating Count          | Discrete    |\n",
    "| 11 | fourstar    | Four Star Rating Count           | Discrete    |\n",
    "| 12 | fivestar    | Five Star Rating Count           | Discrete    |"
   ]
  },
  {
   "cell_type": "code",
   "execution_count": 1,
   "id": "02ae988e",
   "metadata": {},
   "outputs": [
    {
     "name": "stdout",
     "output_type": "stream",
     "text": [
      "Added /home/john/projects/appstore to sys.path\n"
     ]
    },
    {
     "name": "stdout",
     "output_type": "stream",
     "text": [
      "/home/john/projects/appstore/config/logging.yml\n"
     ]
    }
   ],
   "source": [
    "import dependency\n",
    "import numpy as np\n",
    "import pandas as pd\n",
    "from IPython.display import HTML, display_html\n",
    "\n",
    "from appstore.data.dataset.rating import RatingDataset\n",
    "from appstore.container import AppstoreContainer\n",
    "formatting = {\"thousands\":\",\", \"precision\":2}"
   ]
  },
  {
   "cell_type": "code",
   "execution_count": 2,
   "id": "d9557474",
   "metadata": {},
   "outputs": [],
   "source": [
    "container = AppstoreContainer()\n",
    "container.init_resources()\n",
    "container.wire(packages=[\"appstore.data.dataset\"])"
   ]
  },
  {
   "cell_type": "markdown",
   "id": "642d5d30",
   "metadata": {},
   "source": [
    "### Structural Analysis\n",
    "\n",
    "The structure and characteristics of the Rating dataset are as follows:"
   ]
  },
  {
   "cell_type": "code",
   "execution_count": 3,
   "id": "53890aff",
   "metadata": {},
   "outputs": [
    {
     "ename": "NameError",
     "evalue": "name 'dataset' is not defined",
     "output_type": "error",
     "traceback": [
      "\u001b[0;31m---------------------------------------------------------------------------\u001b[0m",
      "\u001b[0;31mNameError\u001b[0m                                 Traceback (most recent call last)",
      "Cell \u001b[0;32mIn[3], line 1\u001b[0m\n\u001b[0;32m----> 1\u001b[0m df1 \u001b[38;5;241m=\u001b[39m \u001b[43mdataset\u001b[49m\u001b[38;5;241m.\u001b[39mstructure\n\u001b[1;32m      2\u001b[0m df2 \u001b[38;5;241m=\u001b[39m dataset\u001b[38;5;241m.\u001b[39mdtypes\n\u001b[1;32m      4\u001b[0m df1_style \u001b[38;5;241m=\u001b[39m df1\u001b[38;5;241m.\u001b[39mstyle\u001b[38;5;241m.\u001b[39mset_table_attributes(\u001b[38;5;124m\"\u001b[39m\u001b[38;5;124mstyle=\u001b[39m\u001b[38;5;124m'\u001b[39m\u001b[38;5;124mdisplay:inline; margin-right:220px;\u001b[39m\u001b[38;5;124m'\u001b[39m\u001b[38;5;124m\"\u001b[39m)\u001b[38;5;241m.\u001b[39mset_caption(\u001b[38;5;124m\"\u001b[39m\u001b[38;5;124mDataset Structure\u001b[39m\u001b[38;5;124m\"\u001b[39m)\u001b[38;5;241m.\u001b[39mformat(thousands\u001b[38;5;241m=\u001b[39m\u001b[38;5;124m\"\u001b[39m\u001b[38;5;124m,\u001b[39m\u001b[38;5;124m\"\u001b[39m)\n",
      "\u001b[0;31mNameError\u001b[0m: name 'dataset' is not defined"
     ]
    }
   ],
   "source": [
    "df1 = dataset.structure\n",
    "df2 = dataset.dtypes\n",
    "\n",
    "df1_style = df1.style.set_table_attributes(\"style='display:inline; margin-right:220px;'\").set_caption(\"Dataset Structure\").format(thousands=\",\")\n",
    "df2_style = df2.style.set_table_attributes(\"style='display:inline; margin-right:120px'\").set_caption(\"Dataset Data Types\").format(thousands=\",\")\n",
    "\n",
    "display_html(df1_style._repr_html_() + df2_style._repr_html_(), raw=True)"
   ]
  },
  {
   "cell_type": "markdown",
   "id": "5248bfe4",
   "metadata": {},
   "source": [
    "### Data Quality Analysis\n",
    "\n",
    "Data type, cardinality, validity, duplication, and size data are summarized at the variable level."
   ]
  },
  {
   "cell_type": "code",
   "execution_count": null,
   "id": "9909c11f",
   "metadata": {},
   "outputs": [],
   "source": [
    "dataset.quality.style.format(**formatting)"
   ]
  },
  {
   "cell_type": "markdown",
   "id": "7b50780f",
   "metadata": {},
   "source": [
    "## Content Analysis"
   ]
  },
  {
   "cell_type": "code",
   "execution_count": null,
   "id": "8a54d44b",
   "metadata": {},
   "outputs": [],
   "source": [
    "dataset.summary.style.format(**formatting)"
   ]
  }
 ],
 "metadata": {
  "jupytext": {
   "text_representation": {
    "extension": ".md",
    "format_name": "myst",
    "format_version": 0.13,
    "jupytext_version": "1.15.0"
   }
  },
  "kernelspec": {
   "display_name": "appstore",
   "language": "python",
   "name": "python3"
  },
  "language_info": {
   "codemirror_mode": {
    "name": "ipython",
    "version": 3
   },
   "file_extension": ".py",
   "mimetype": "text/x-python",
   "name": "python",
   "nbconvert_exporter": "python",
   "pygments_lexer": "ipython3",
   "version": "3.10.12"
  },
  "source_map": [
   12,
   33,
   44,
   48,
   54,
   62,
   68,
   70,
   74
  ]
 },
 "nbformat": 4,
 "nbformat_minor": 5
}