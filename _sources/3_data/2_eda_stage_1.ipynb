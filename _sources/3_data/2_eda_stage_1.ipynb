{
 "cells": [
  {
   "cell_type": "markdown",
   "id": "23e34cb2",
   "metadata": {},
   "source": [
    "# Exploratory Data Analysis\n",
    "\n",
    "## Stage I: App Performance Overview\n",
    "\n",
    "Stage one of our exploratory data analysis aims to expose patterns and yield insight into the nature and intensity of the customer experience within the IOS app user community.\n",
    "\n",
    "### The Dataset\n",
    "\n",
    "The dataset contains the following product descriptive, rating, price, and developer data for some 475,132 apps from the App Store.\n",
    "\n",
    "| #  | Variable     | Date Type  | Description                              |\n",
    "| -- | ------------ | ---------- | ---------------------------------------- |\n",
    "| 1  | id           | Nominal    | App Id from the App Store                |\n",
    "| 2  | name         | Nominal    | App Name                                 |\n",
    "| 3  | description  | Nominal    | App Description                          |\n",
    "| 4  | category_id  | Nominal    | Numeric category identifier              |\n",
    "| 5  | category     | Nominal    | Category name                            |\n",
    "| 6  | price        | Continuous | App Price                                |\n",
    "| 7  | developer_id | Nominal    | Identifier for the developer             |\n",
    "| 8  | developer    | Nominal    | Name of the developer                    |\n",
    "| 9  | rating       | Ordinal    | Average user rating since first released |\n",
    "| 10 | ratings      | Discrete   | Number of ratings since first release    |\n",
    "| 11 | released     | Continuous | Datetime of first release                |\n",
    "\n",
    "### EDA Approach\n",
    "\n",
    "Our exploration will comprise the following five analyses.\n",
    "\n",
    "1. Structural Analysis: Examine the overall shape, structure, and type of the data.\n",
    "2. Data Quality Analysis: Assess quality and suitability of the data in terms of missing values, outliers, duplication, cardinality, and feature values.\n",
    "3. Univariate Analysis: Explore the distributions of rating count, average rating, categories, and price.\n",
    "4. Bivariate Analysis: Evaluate ratings, rating count, reviews and correlation analysis between two variables.\n",
    "5. Multivariate Analysis: Cluster, factor, and correspondence analysis of three or more variables simultaneously.\n",
    "6. Conclusions, insights and questions for stage two."
   ]
  },
  {
   "cell_type": "markdown",
   "id": "0fa4af39",
   "metadata": {},
   "source": [
    "**Import Python Libraries and Provision Dependencies** # noqa"
   ]
  },
  {
   "cell_type": "code",
   "execution_count": 1,
   "id": "cfd00ce7",
   "metadata": {},
   "outputs": [
    {
     "name": "stdout",
     "output_type": "stream",
     "text": [
      "Added /home/john/projects/appstore to sys.path\n"
     ]
    },
    {
     "name": "stdout",
     "output_type": "stream",
     "text": [
      "/home/john/projects/appstore/config/logging.yml\n",
      "['/home/john/projects/appstore/jbook/3_data', '/home/john/anaconda3/envs/appstore/lib/python310.zip', '/home/john/anaconda3/envs/appstore/lib/python3.10', '/home/john/anaconda3/envs/appstore/lib/python3.10/lib-dynload', '', '/home/john/anaconda3/envs/appstore/lib/python3.10/site-packages', '/home/john/anaconda3/envs/appstore/lib/python3.10/site-packages/PyQt5_sip-12.11.0-py3.10-linux-x86_64.egg', '/home/john/projects/appstore']\n"
     ]
    },
    {
     "ename": "Exception",
     "evalue": "File `'d8analysis'` not found.",
     "output_type": "error",
     "traceback": [
      "\u001b[0;31m---------------------------------------------------------------------------\u001b[0m",
      "\u001b[0;31mOSError\u001b[0m                                   Traceback (most recent call last)",
      "File \u001b[0;32m~/anaconda3/envs/appstore/lib/python3.10/site-packages/IPython/core/magics/execution.py:701\u001b[0m, in \u001b[0;36mExecutionMagics.run\u001b[0;34m(self, parameter_s, runner, file_finder)\u001b[0m\n\u001b[1;32m    700\u001b[0m     fpath \u001b[38;5;241m=\u001b[39m arg_lst[\u001b[38;5;241m0\u001b[39m]\n\u001b[0;32m--> 701\u001b[0m     filename \u001b[38;5;241m=\u001b[39m \u001b[43mfile_finder\u001b[49m\u001b[43m(\u001b[49m\u001b[43mfpath\u001b[49m\u001b[43m)\u001b[49m\n\u001b[1;32m    702\u001b[0m \u001b[38;5;28;01mexcept\u001b[39;00m \u001b[38;5;167;01mIndexError\u001b[39;00m \u001b[38;5;28;01mas\u001b[39;00m e:\n",
      "File \u001b[0;32m~/anaconda3/envs/appstore/lib/python3.10/site-packages/IPython/utils/path.py:90\u001b[0m, in \u001b[0;36mget_py_filename\u001b[0;34m(name)\u001b[0m\n\u001b[1;32m     89\u001b[0m         \u001b[38;5;28;01mreturn\u001b[39;00m py_name\n\u001b[0;32m---> 90\u001b[0m \u001b[38;5;28;01mraise\u001b[39;00m \u001b[38;5;167;01mIOError\u001b[39;00m(\u001b[38;5;124m\"\u001b[39m\u001b[38;5;124mFile `\u001b[39m\u001b[38;5;132;01m%r\u001b[39;00m\u001b[38;5;124m` not found.\u001b[39m\u001b[38;5;124m\"\u001b[39m \u001b[38;5;241m%\u001b[39m name)\n",
      "\u001b[0;31mOSError\u001b[0m: File `'d8analysis'` not found.",
      "\nThe above exception was the direct cause of the following exception:\n",
      "\u001b[0;31mException\u001b[0m                                 Traceback (most recent call last)",
      "Cell \u001b[0;32mIn[1], line 9\u001b[0m\n\u001b[1;32m      6\u001b[0m \u001b[38;5;28;01mfrom\u001b[39;00m \u001b[38;5;21;01mIPython\u001b[39;00m\u001b[38;5;21;01m.\u001b[39;00m\u001b[38;5;21;01mdisplay\u001b[39;00m \u001b[38;5;28;01mimport\u001b[39;00m HTML, display_html\n\u001b[1;32m      7\u001b[0m \u001b[38;5;28;01mimport\u001b[39;00m \u001b[38;5;21;01mseaborn\u001b[39;00m \u001b[38;5;28;01mas\u001b[39;00m \u001b[38;5;21;01msns\u001b[39;00m\n\u001b[0;32m----> 9\u001b[0m \u001b[43mget_ipython\u001b[49m\u001b[43m(\u001b[49m\u001b[43m)\u001b[49m\u001b[38;5;241;43m.\u001b[39;49m\u001b[43mrun_line_magic\u001b[49m\u001b[43m(\u001b[49m\u001b[38;5;124;43m'\u001b[39;49m\u001b[38;5;124;43mrun\u001b[39;49m\u001b[38;5;124;43m'\u001b[39;49m\u001b[43m,\u001b[49m\u001b[43m \u001b[49m\u001b[38;5;124;43m'\u001b[39;49m\u001b[38;5;124;43md8analysis\u001b[39;49m\u001b[38;5;124;43m'\u001b[39;49m\u001b[43m)\u001b[49m\n\u001b[1;32m     10\u001b[0m \u001b[38;5;28;01mimport\u001b[39;00m \u001b[38;5;21;01md8analysis\u001b[39;00m \u001b[38;5;28;01mas\u001b[39;00m \u001b[38;5;21;01meda\u001b[39;00m\n\u001b[1;32m     12\u001b[0m \u001b[38;5;28;01mfrom\u001b[39;00m \u001b[38;5;21;01mappstore\u001b[39;00m\u001b[38;5;21;01m.\u001b[39;00m\u001b[38;5;21;01mcontainer\u001b[39;00m \u001b[38;5;28;01mimport\u001b[39;00m AppstoreContainer\n",
      "File \u001b[0;32m~/anaconda3/envs/appstore/lib/python3.10/site-packages/IPython/core/interactiveshell.py:2417\u001b[0m, in \u001b[0;36mInteractiveShell.run_line_magic\u001b[0;34m(self, magic_name, line, _stack_depth)\u001b[0m\n\u001b[1;32m   2415\u001b[0m     kwargs[\u001b[38;5;124m'\u001b[39m\u001b[38;5;124mlocal_ns\u001b[39m\u001b[38;5;124m'\u001b[39m] \u001b[38;5;241m=\u001b[39m \u001b[38;5;28mself\u001b[39m\u001b[38;5;241m.\u001b[39mget_local_scope(stack_depth)\n\u001b[1;32m   2416\u001b[0m \u001b[38;5;28;01mwith\u001b[39;00m \u001b[38;5;28mself\u001b[39m\u001b[38;5;241m.\u001b[39mbuiltin_trap:\n\u001b[0;32m-> 2417\u001b[0m     result \u001b[38;5;241m=\u001b[39m \u001b[43mfn\u001b[49m\u001b[43m(\u001b[49m\u001b[38;5;241;43m*\u001b[39;49m\u001b[43margs\u001b[49m\u001b[43m,\u001b[49m\u001b[43m \u001b[49m\u001b[38;5;241;43m*\u001b[39;49m\u001b[38;5;241;43m*\u001b[39;49m\u001b[43mkwargs\u001b[49m\u001b[43m)\u001b[49m\n\u001b[1;32m   2419\u001b[0m \u001b[38;5;66;03m# The code below prevents the output from being displayed\u001b[39;00m\n\u001b[1;32m   2420\u001b[0m \u001b[38;5;66;03m# when using magics with decodator @output_can_be_silenced\u001b[39;00m\n\u001b[1;32m   2421\u001b[0m \u001b[38;5;66;03m# when the last Python token in the expression is a ';'.\u001b[39;00m\n\u001b[1;32m   2422\u001b[0m \u001b[38;5;28;01mif\u001b[39;00m \u001b[38;5;28mgetattr\u001b[39m(fn, magic\u001b[38;5;241m.\u001b[39mMAGIC_OUTPUT_CAN_BE_SILENCED, \u001b[38;5;28;01mFalse\u001b[39;00m):\n",
      "File \u001b[0;32m~/anaconda3/envs/appstore/lib/python3.10/site-packages/IPython/core/magics/execution.py:712\u001b[0m, in \u001b[0;36mExecutionMagics.run\u001b[0;34m(self, parameter_s, runner, file_finder)\u001b[0m\n\u001b[1;32m    710\u001b[0m     \u001b[38;5;28;01mif\u001b[39;00m os\u001b[38;5;241m.\u001b[39mname \u001b[38;5;241m==\u001b[39m \u001b[38;5;124m'\u001b[39m\u001b[38;5;124mnt\u001b[39m\u001b[38;5;124m'\u001b[39m \u001b[38;5;129;01mand\u001b[39;00m re\u001b[38;5;241m.\u001b[39mmatch(\u001b[38;5;124mr\u001b[39m\u001b[38;5;124m\"\u001b[39m\u001b[38;5;124m^\u001b[39m\u001b[38;5;124m'\u001b[39m\u001b[38;5;124m.*\u001b[39m\u001b[38;5;124m'\u001b[39m\u001b[38;5;124m$\u001b[39m\u001b[38;5;124m\"\u001b[39m,fpath):\n\u001b[1;32m    711\u001b[0m         warn(\u001b[38;5;124m'\u001b[39m\u001b[38;5;124mFor Windows, use double quotes to wrap a filename: \u001b[39m\u001b[38;5;132;01m%r\u001b[39;00m\u001b[38;5;124mun \u001b[39m\u001b[38;5;124m\"\u001b[39m\u001b[38;5;124mmypath\u001b[39m\u001b[38;5;130;01m\\\\\u001b[39;00m\u001b[38;5;124mmyfile.py\u001b[39m\u001b[38;5;124m\"\u001b[39m\u001b[38;5;124m'\u001b[39m)\n\u001b[0;32m--> 712\u001b[0m     \u001b[38;5;28;01mraise\u001b[39;00m \u001b[38;5;167;01mException\u001b[39;00m(msg) \u001b[38;5;28;01mfrom\u001b[39;00m \u001b[38;5;21;01me\u001b[39;00m\n\u001b[1;32m    713\u001b[0m \u001b[38;5;28;01mexcept\u001b[39;00m \u001b[38;5;167;01mTypeError\u001b[39;00m:\n\u001b[1;32m    714\u001b[0m     \u001b[38;5;28;01mif\u001b[39;00m fpath \u001b[38;5;129;01min\u001b[39;00m sys\u001b[38;5;241m.\u001b[39mmeta_path:\n",
      "\u001b[0;31mException\u001b[0m: File `'d8analysis'` not found."
     ]
    }
   ],
   "source": [
    "import dependency\n",
    "import sys\n",
    "print(sys.path)\n",
    "import numpy as np\n",
    "import pandas as pd\n",
    "from IPython.display import HTML, display_html\n",
    "import seaborn as sns\n",
    "\n",
    "%run d8analysis\n",
    "import d8analysis as eda\n",
    "\n",
    "from appstore.container import AppstoreContainer\n",
    "from appstore.data.dataset.appdata import AppDataDataset"
   ]
  },
  {
   "cell_type": "markdown",
   "id": "19957839",
   "metadata": {},
   "source": [
    "**Obtain the Dataset** # noqa"
   ]
  },
  {
   "cell_type": "code",
   "execution_count": null,
   "id": "b8fc3290",
   "metadata": {},
   "outputs": [],
   "source": [
    "container = AppstoreContainer()\n",
    "repo = container.data.appdata_repo()\n",
    "dataset = repo.get_dataset()"
   ]
  },
  {
   "cell_type": "markdown",
   "id": "8c021646",
   "metadata": {},
   "source": [
    "### Structural Analysis\n",
    "\n",
    "The structure and characteristics of the AppData dataset are as follows:"
   ]
  },
  {
   "cell_type": "code",
   "execution_count": null,
   "id": "8d095e0e",
   "metadata": {},
   "outputs": [],
   "source": [
    "df1 = dataset.overview\n",
    "df2 = dataset.dtypes\n",
    "\n",
    "df1_style = df1.style.set_table_attributes(\"style='display:inline; margin-right:220px;'\").set_caption(\"Dataset Structure\")\n",
    "df2_style = df2.style.set_table_attributes(\"style='display:inline; margin-right:120px'\").set_caption(\"Dataset Data Types\")\n",
    "\n",
    "display_html(df1_style._repr_html_() + df2_style._repr_html_(), raw=True)"
   ]
  },
  {
   "cell_type": "markdown",
   "id": "a9e268cf",
   "metadata": {},
   "source": [
    "As indicated above, we have approximately 475,000 apps in our dataset, described by 11 features. Let's take a quick look."
   ]
  },
  {
   "cell_type": "code",
   "execution_count": null,
   "id": "a7a49018",
   "metadata": {},
   "outputs": [],
   "source": [
    "dataset.sample().style.hide(axis=\"index\")"
   ]
  },
  {
   "cell_type": "markdown",
   "id": "03569ad9",
   "metadata": {},
   "source": [
    "Identity variables, specifically (app) id and developer_id will be retained for data processing purposes, but have no other value and will be largely ignored during this analysis.\n",
    "\n",
    "### Data Quality Analysis\n",
    "\n",
    "Data type, cardinality, validity, duplication, and size data are summarized at the variable level."
   ]
  },
  {
   "cell_type": "code",
   "execution_count": null,
   "id": "37b7071f",
   "metadata": {},
   "outputs": [],
   "source": [
    "dataset.info.style.hide(axis=\"index\")"
   ]
  },
  {
   "cell_type": "markdown",
   "id": "63a99ec2",
   "metadata": {},
   "source": [
    "**Observations**\n",
    "\n",
    "- With the exception of released (date), we have no missing values.\n",
    "- Id's are unique and name, description, developer information, are all high-cardinality\n",
    "- Category id and label are low-cardinality with 26 unique values, each."
   ]
  },
  {
   "cell_type": "markdown",
   "id": "0feeb78a",
   "metadata": {},
   "source": [
    "#### Numeric Variable Data Quality\n",
    "\n",
    "Each feature has been cast to an appropriate data type and missing data are not extant for the dataset. Valid values for the numeric variables are:\n",
    "\n",
    "| Variable | Date Type  | Valid Values                                     |\n",
    "| -------- | ---------- | ------------------------------------------------ |\n",
    "| price    | Continuous | Non negative values                              |\n",
    "| rating   | Interval   | Real valued in [0,5]                             |\n",
    "| ratings  | Discrete   | Discrete and non-negative                        |\n",
    "| released | Continuous | Datetimes between June 10, 2008 and present day. |\n",
    "\n",
    "Let's check the ranges for these variables."
   ]
  },
  {
   "cell_type": "code",
   "execution_count": null,
   "id": "e084fe16",
   "metadata": {},
   "outputs": [],
   "source": [
    "stats = dataset.describe(include=[np.number, np.datetime64])\n",
    "stats.numeric[['min','max']]"
   ]
  },
  {
   "cell_type": "markdown",
   "id": "ea096e7c",
   "metadata": {},
   "source": [
    "All numeric and datetime values are within range.\n",
    "\n",
    "#### Categorical Variable Data Quality\n",
    "\n",
    "The id, name, description, developer_id, and developer variables are nominal, high cardinality strings. Category and category_id; in contrast, must contain one of 26 category id / category values selected for this analysis."
   ]
  },
  {
   "cell_type": "code",
   "execution_count": null,
   "id": "648ce856",
   "metadata": {},
   "outputs": [],
   "source": [
    "columns = ['category_id', 'category']\n",
    "dataset.unique(columns=columns).style.hide(axis=\"index\")"
   ]
  },
  {
   "cell_type": "markdown",
   "id": "84a306c8",
   "metadata": {},
   "source": [
    "Category and category_id values are as expected."
   ]
  },
  {
   "cell_type": "markdown",
   "id": "e1ad899e",
   "metadata": {},
   "source": [
    "### Univariate Analysis\n",
    "\n",
    "#### Quantitative Data\n",
    "\n",
    "We'll begin the univariate analysis with an examination of the quantitative variables, namely:\n",
    "\n",
    "- Average User Rating\n",
    "- Rating Count\n",
    "- Price\n",
    "- Release Date\n",
    "\n",
    "Using quantitative and qualititative methods, we'll discover the central tendency of the data (arithmetic mean, median, mode), its spread (variance, standard deviation, interquartile range, maximum and minimum value) and some features of its distribution (skewness, kurtosis).\n",
    "\n",
    "##### Average User Rating"
   ]
  },
  {
   "cell_type": "code",
   "execution_count": null,
   "id": "c0aaa517",
   "metadata": {},
   "outputs": [],
   "source": [
    "dataset.plot.pdfcdfplot(x='rating', title='Average User Rating Distribution')\n"
   ]
  },
  {
   "cell_type": "markdown",
   "id": "7159b012",
   "metadata": {},
   "source": [
    " Since the rating scale is in [1,5], its clear that the probability density and histogram above contain apps that have not been rated. To get a sense of the actual ratings, we'll create a new dataset without the non-reviewed apps."
   ]
  },
  {
   "cell_type": "code",
   "execution_count": null,
   "id": "d27473c0",
   "metadata": {},
   "outputs": [],
   "source": [
    "df = dataset.as_df()\n",
    "df = df.loc[df['rating'] != 0]\n",
    "rated = AppDataDataset(df=df)"
   ]
  },
  {
   "cell_type": "markdown",
   "id": "24187931",
   "metadata": {},
   "source": [
    "Ok, let's examine the frequency distribution of the ratings."
   ]
  },
  {
   "cell_type": "code",
   "execution_count": null,
   "id": "7e90e58f",
   "metadata": {},
   "outputs": [],
   "source": [
    "rated.frequency(x='rating', bins=4)\n",
    "stats = rated.describe(x='rating')\n",
    "stats.numeric\n",
    "rated.plot.pdfcdfplot(x='rating', bins=4, title='Distribution of User Ratings')\n",
    "rated.plot.histpdfplot(x='rating', title='Distribution of User Ratings')"
   ]
  },
  {
   "cell_type": "markdown",
   "id": "b5c2439d",
   "metadata": {},
   "source": [
    "**Key Observations:**\n",
    "\n",
    "- The long left tail reveals a tendency towards ratings in the 4-5 star range.\n",
    "- Five star ratings make up 67% of all ratings.\n",
    "- Multiple peaks are also observed at one star and three star ratings and to a lesser degree with two stars.\n",
    "- Ratings up to one, two, and three stars, correspond to approximately 8%, 20% and 33% of the cumulative ratings respectively.\n",
    "- There is no assumption of normality in the distribution of ratings.\n",
    "- In short, five star ratings dominate customer opinion at this level by a significant margin.\n",
    "- Note: Taking the average of ordinal values, such as user ratings, is not among the *permissible* statistical transformations whose meanings are preserved when applied to the data, according to measurement theorists, most notably, Harvard psychologist S.S Stevens, who coined the terms *nominal*, *ordinal*, *interval*, and *ratio*. Fortunately, permission is not required in data analysis"
   ]
  },
  {
   "cell_type": "markdown",
   "id": "13824500",
   "metadata": {},
   "source": [
    "##### Rating Count\n",
    "\n",
    "Rating count can be a harbinger of the intensity of opinion. We'll use the same rated dataset as above."
   ]
  },
  {
   "cell_type": "code",
   "execution_count": null,
   "id": "23ad2b87",
   "metadata": {},
   "outputs": [],
   "source": [
    "stats = rated.describe(x='ratings')\n",
    "stats.numeric\n",
    "rated.plot.histogram(x='ratings',bins=5, title='Distribution of User Rating Count')"
   ]
  },
  {
   "cell_type": "code",
   "execution_count": null,
   "id": "9865ed86",
   "metadata": {},
   "outputs": [],
   "source": [
    "rated.top_n(x='ratings', n=10)"
   ]
  },
  {
   "cell_type": "code",
   "execution_count": null,
   "id": "bb7a6485",
   "metadata": {},
   "outputs": [],
   "source": [
    "topn = np.array([10,20,35,50,75,100,200,500,1000])\n",
    "rated.plot.topn_plot(x='ratings', n=topn)"
   ]
  },
  {
   "cell_type": "markdown",
   "id": "66868606",
   "metadata": {},
   "source": [
    "**Key Observations:**\n",
    "\n",
    "- The distribution of rating counts has a long right tail, with a range from 1 to nearly 31 m ratings.\n",
    "- The central tendency is placed at a median of 10 ratings per app. The average is pulled in the direction of the outliers.\n",
    "- Giants of big-tech, social-media, an e-commerce, such as YouTube, Tik-Tok, Spotify, WhatsApp and DoorDash are among the most rated apps in the App Store.\n",
    "- The top-10 most-rated apps account for nearly 14% of all ratings and less than 1/10th of a percent of all apps. Moreover, the most-rated 1000 apps, who represent 1/3rd of a percent of all apps, consume nearly 75% of all ratings.\n",
    "- Takeaway: Rating counts are vastly disproportionate.\n",
    "- Note: Apps with earlier release dates may have higher rating counts. Ratings per day since release will remove the temporal dimension from the rating counts."
   ]
  },
  {
   "cell_type": "code",
   "execution_count": null,
   "id": "af3ec646",
   "metadata": {},
   "outputs": [],
   "source": []
  },
  {
   "cell_type": "code",
   "execution_count": null,
   "id": "d8c36b30",
   "metadata": {},
   "outputs": [],
   "source": [
    "with pd.option_context('format.precision',2):\n",
    "    df1_style = freq.style.set_table_attributes(\"style='display:inline; margin-right:220px;'\").set_caption(\"Average User Rating Frequency Distribution\")\n",
    "    df2_style = desc.style.set_table_attributes(\"style='display:inline; margin-right:120px'\").set_caption(\"Average User Rating Descriptive Statistics\")\n",
    "    display_html(df1_style._repr_html_() + df2_style._repr_html_(), raw=True)"
   ]
  },
  {
   "cell_type": "markdown",
   "id": "b19ff8e3",
   "metadata": {},
   "source": [
    "**Key Observations**\n",
    "\n",
    "- The five-star ratings represent 67% of nearly 291,000 ratings in the dataset.\n",
    "- Ratings up to four-star comprise just 33% of all ratings. Three stars and below make up approximately 20% of the data; whereas, one and two star ratings represent less than 10% of all ratings.\n",
    "- The mean of average user ratings, 4.09 stars, is influenced by the significant left skew. The median of 4.53 is a more robust measure of centrality, given the long left-tail in the distribution.\n",
    "- The assumption of a normal distribution is violated as shown in the histogram, and the probability density functions."
   ]
  },
  {
   "cell_type": "markdown",
   "id": "bee8308e",
   "metadata": {},
   "source": [
    "#### Ratings\n",
    "\n",
    "Next, we explore the distribution of rating counts in the dataset."
   ]
  },
  {
   "cell_type": "code",
   "execution_count": null,
   "id": "c5fa30c5",
   "metadata": {},
   "outputs": [],
   "source": [
    "p = eda.KDEPlot(data=df_ratings, x='ratings', title=\"Rating Count\\nProbability Density Function\")\n",
    "h = eda.Histogram(data=df_ratings, x='ratings', title=\"Rating Count\\nHistogram\")\n",
    "c = eda.ECDFPlot(data=df_ratings, x='ratings', title=\"Rating Count\\nCumulative Distribution Function\")\n",
    "v = eda.ViolinPlot(data=df_ratings,x='ratings', title=\"Rating Count Distribution\")\n",
    "plots = [p]\n",
    "\n",
    "visual = Visual()\n",
    "for plot in plots:\n",
    "    visual.add_plot(plot=plot)\n",
    "visual.visualize()"
   ]
  }
 ],
 "metadata": {
  "jupytext": {
   "text_representation": {
    "extension": ".md",
    "format_name": "myst",
    "format_version": 0.13,
    "jupytext_version": "1.15.0"
   }
  },
  "kernelspec": {
   "display_name": "appstore",
   "language": "python",
   "name": "python3"
  },
  "language_info": {
   "codemirror_mode": {
    "name": "ipython",
    "version": 3
   },
   "file_extension": ".py",
   "mimetype": "text/x-python",
   "name": "python",
   "nbconvert_exporter": "python",
   "pygments_lexer": "ipython3",
   "version": "3.10.12"
  },
  "source_map": [
   12,
   48,
   52,
   66,
   70,
   74,
   80,
   88,
   92,
   94,
   102,
   104,
   112,
   127,
   130,
   138,
   141,
   145,
   162,
   165,
   169,
   173,
   177,
   183,
   195,
   201,
   207,
   211,
   214,
   225,
   229,
   234,
   243,
   249
  ]
 },
 "nbformat": 4,
 "nbformat_minor": 5
}