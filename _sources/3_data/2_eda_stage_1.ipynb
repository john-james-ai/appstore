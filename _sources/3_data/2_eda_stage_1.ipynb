{
 "cells": [
  {
   "cell_type": "markdown",
   "id": "ffc98cf0",
   "metadata": {},
   "source": [
    "# Exploratory Data Analysis\n",
    "\n",
    "## Stage I: App Performance Overview\n",
    "\n",
    "Stage one of our exploratory data analysis aims to expose patterns and yield insight into the nature and intensity of the customer experience within the IOS app user community.\n",
    "\n",
    "### The Dataset\n",
    "\n",
    "The dataset contains the following product descriptive, rating, price, and developer data for some 475,132 apps from the App Store.\n",
    "\n",
    "| #  | Variable     | Date Type  | Description                              |\n",
    "| -- | ------------ | ---------- | ---------------------------------------- |\n",
    "| 1  | id           | Nominal    | App Id from the App Store                |\n",
    "| 2  | name         | Nominal    | App Name                                 |\n",
    "| 3  | description  | Nominal    | App Description                          |\n",
    "| 4  | category_id  | Nominal    | Numeric category identifier              |\n",
    "| 5  | category     | Nominal    | Category name                            |\n",
    "| 6  | price        | Continuous | App Price                                |\n",
    "| 7  | developer_id | Nominal    | Identifier for the developer             |\n",
    "| 8  | developer    | Nominal    | Name of the developer                    |\n",
    "| 9  | rating       | Ordinal    | Average user rating since first released |\n",
    "| 10 | ratings      | Discrete   | Number of ratings since first release    |\n",
    "| 11 | released     | Continuous | Datetime of first release                |\n",
    "\n",
    "### EDA Approach\n",
    "\n",
    "Our exploration will comprise the following five analyses.\n",
    "\n",
    "1. Structural Analysis: Examine the overall shape, structure, and type of the data.\n",
    "2. Data Quality Analysis: Assess quality and suitability of the data in terms of missing values, outliers, duplication, cardinality, and feature values.\n",
    "3. Univariate Analysis: Explore the distributions of rating count, average rating, categories, and price.\n",
    "4. Bivariate Analysis: Evaluate ratings, rating count, reviews and correlation analysis between two variables.\n",
    "5. Multivariate Analysis: Cluster, factor, and correspondence analysis of three or more variables simultaneously.\n",
    "6. Conclusions, insights and questions for stage two."
   ]
  },
  {
   "cell_type": "markdown",
   "id": "cb62e412",
   "metadata": {},
   "source": [
    "**Import Python Libraries and Provision Dependencies** # noqa"
   ]
  },
  {
   "cell_type": "code",
   "execution_count": 1,
   "id": "90355e97",
   "metadata": {},
   "outputs": [
    {
     "name": "stderr",
     "output_type": "stream",
     "text": [
      "Filepath is None\n"
     ]
    },
    {
     "ename": "ValueError",
     "evalue": "Filepath is None",
     "output_type": "error",
     "traceback": [
      "\u001b[0;31m---------------------------------------------------------------------------\u001b[0m",
      "\u001b[0;31mTypeError\u001b[0m                                 Traceback (most recent call last)",
      "File \u001b[0;32m~/anaconda3/envs/appstore/lib/python3.10/site-packages/d8analysis/service/io.py:332\u001b[0m, in \u001b[0;36mIOService._get_io\u001b[0;34m(cls, filepath)\u001b[0m\n\u001b[1;32m    331\u001b[0m \u001b[38;5;28;01mtry\u001b[39;00m:\n\u001b[0;32m--> 332\u001b[0m     file_format \u001b[38;5;241m=\u001b[39m \u001b[43mos\u001b[49m\u001b[38;5;241;43m.\u001b[39;49m\u001b[43mpath\u001b[49m\u001b[38;5;241;43m.\u001b[39;49m\u001b[43msplitext\u001b[49m\u001b[43m(\u001b[49m\u001b[43mfilepath\u001b[49m\u001b[43m)\u001b[49m[\u001b[38;5;241m1\u001b[39m]\u001b[38;5;241m.\u001b[39mreplace(\u001b[38;5;124m\"\u001b[39m\u001b[38;5;124m.\u001b[39m\u001b[38;5;124m\"\u001b[39m, \u001b[38;5;124m\"\u001b[39m\u001b[38;5;124m\"\u001b[39m)\n\u001b[1;32m    333\u001b[0m     \u001b[38;5;28;01mreturn\u001b[39;00m IOService\u001b[38;5;241m.\u001b[39m__io[file_format]\n",
      "File \u001b[0;32m~/anaconda3/envs/appstore/lib/python3.10/posixpath.py:118\u001b[0m, in \u001b[0;36msplitext\u001b[0;34m(p)\u001b[0m\n\u001b[1;32m    117\u001b[0m \u001b[38;5;28;01mdef\u001b[39;00m \u001b[38;5;21msplitext\u001b[39m(p):\n\u001b[0;32m--> 118\u001b[0m     p \u001b[38;5;241m=\u001b[39m \u001b[43mos\u001b[49m\u001b[38;5;241;43m.\u001b[39;49m\u001b[43mfspath\u001b[49m\u001b[43m(\u001b[49m\u001b[43mp\u001b[49m\u001b[43m)\u001b[49m\n\u001b[1;32m    119\u001b[0m     \u001b[38;5;28;01mif\u001b[39;00m \u001b[38;5;28misinstance\u001b[39m(p, \u001b[38;5;28mbytes\u001b[39m):\n",
      "\u001b[0;31mTypeError\u001b[0m: expected str, bytes or os.PathLike object, not NoneType",
      "\nDuring handling of the above exception, another exception occurred:\n",
      "\u001b[0;31mValueError\u001b[0m                                Traceback (most recent call last)",
      "Cell \u001b[0;32mIn[1], line 1\u001b[0m\n\u001b[0;32m----> 1\u001b[0m \u001b[38;5;28;01mimport\u001b[39;00m \u001b[38;5;21;01mdependency\u001b[39;00m\n\u001b[1;32m      2\u001b[0m \u001b[38;5;28;01mimport\u001b[39;00m \u001b[38;5;21;01msys\u001b[39;00m\n\u001b[1;32m      3\u001b[0m \u001b[38;5;28mprint\u001b[39m(sys\u001b[38;5;241m.\u001b[39mpath)\n",
      "File \u001b[0;32m~/projects/appstore/jbook/3_data/dependency.py:33\u001b[0m\n\u001b[1;32m     29\u001b[0m     sys\u001b[38;5;241m.\u001b[39mpath\u001b[38;5;241m.\u001b[39mappend(module_path)\n\u001b[1;32m     30\u001b[0m \u001b[38;5;66;03m# ------------------------------------------------------------------------------------------------ #\u001b[39;00m\n\u001b[1;32m     31\u001b[0m \u001b[38;5;66;03m#                                   WIRE DEPENDENCIES                                              #\u001b[39;00m\n\u001b[1;32m     32\u001b[0m \u001b[38;5;66;03m# ------------------------------------------------------------------------------------------------ #\u001b[39;00m\n\u001b[0;32m---> 33\u001b[0m \u001b[38;5;28;01mfrom\u001b[39;00m \u001b[38;5;21;01mappstore\u001b[39;00m\u001b[38;5;21;01m.\u001b[39;00m\u001b[38;5;21;01mcontainer\u001b[39;00m \u001b[38;5;28;01mimport\u001b[39;00m AppstoreContainer  \u001b[38;5;66;03m# noqa\u001b[39;00m\n\u001b[1;32m     35\u001b[0m container \u001b[38;5;241m=\u001b[39m AppstoreContainer()\n\u001b[1;32m     36\u001b[0m container\u001b[38;5;241m.\u001b[39minit_resources()\n",
      "File \u001b[0;32m~/projects/appstore/appstore/container.py:31\u001b[0m\n\u001b[1;32m     29\u001b[0m \u001b[38;5;28;01mfrom\u001b[39;00m \u001b[38;5;21;01mappstore\u001b[39;00m\u001b[38;5;21;01m.\u001b[39;00m\u001b[38;5;21;01minfrastructure\u001b[39;00m\u001b[38;5;21;01m.\u001b[39;00m\u001b[38;5;21;01mdatabase\u001b[39;00m\u001b[38;5;21;01m.\u001b[39;00m\u001b[38;5;21;01mmysql\u001b[39;00m \u001b[38;5;28;01mimport\u001b[39;00m MySQLDatabase\n\u001b[1;32m     30\u001b[0m \u001b[38;5;28;01mfrom\u001b[39;00m \u001b[38;5;21;01mappstore\u001b[39;00m\u001b[38;5;21;01m.\u001b[39;00m\u001b[38;5;21;01mdata\u001b[39;00m\u001b[38;5;21;01m.\u001b[39;00m\u001b[38;5;21;01mrepo\u001b[39;00m\u001b[38;5;21;01m.\u001b[39;00m\u001b[38;5;21;01mproject\u001b[39;00m \u001b[38;5;28;01mimport\u001b[39;00m AppDataProjectRepo\n\u001b[0;32m---> 31\u001b[0m \u001b[38;5;28;01mfrom\u001b[39;00m \u001b[38;5;21;01mappstore\u001b[39;00m\u001b[38;5;21;01m.\u001b[39;00m\u001b[38;5;21;01mdata\u001b[39;00m\u001b[38;5;21;01m.\u001b[39;00m\u001b[38;5;21;01mrepo\u001b[39;00m\u001b[38;5;21;01m.\u001b[39;00m\u001b[38;5;21;01mappdata\u001b[39;00m \u001b[38;5;28;01mimport\u001b[39;00m AppDataRepo\n\u001b[1;32m     32\u001b[0m \u001b[38;5;28;01mfrom\u001b[39;00m \u001b[38;5;21;01mappstore\u001b[39;00m\u001b[38;5;21;01m.\u001b[39;00m\u001b[38;5;21;01mdata\u001b[39;00m\u001b[38;5;21;01m.\u001b[39;00m\u001b[38;5;21;01mrepo\u001b[39;00m\u001b[38;5;21;01m.\u001b[39;00m\u001b[38;5;21;01mreview\u001b[39;00m \u001b[38;5;28;01mimport\u001b[39;00m ReviewRepo\n\u001b[1;32m     33\u001b[0m \u001b[38;5;28;01mfrom\u001b[39;00m \u001b[38;5;21;01mappstore\u001b[39;00m\u001b[38;5;21;01m.\u001b[39;00m\u001b[38;5;21;01mdata\u001b[39;00m\u001b[38;5;21;01m.\u001b[39;00m\u001b[38;5;21;01mrepo\u001b[39;00m\u001b[38;5;21;01m.\u001b[39;00m\u001b[38;5;21;01mrating\u001b[39;00m \u001b[38;5;28;01mimport\u001b[39;00m RatingRepo\n",
      "File \u001b[0;32m~/projects/appstore/appstore/data/repo/appdata.py:27\u001b[0m\n\u001b[1;32m     25\u001b[0m \u001b[38;5;28;01mfrom\u001b[39;00m \u001b[38;5;21;01mappstore\u001b[39;00m\u001b[38;5;21;01m.\u001b[39;00m\u001b[38;5;21;01mdata\u001b[39;00m\u001b[38;5;21;01m.\u001b[39;00m\u001b[38;5;21;01mrepo\u001b[39;00m\u001b[38;5;21;01m.\u001b[39;00m\u001b[38;5;21;01mbase\u001b[39;00m \u001b[38;5;28;01mimport\u001b[39;00m Repo\n\u001b[1;32m     26\u001b[0m \u001b[38;5;28;01mfrom\u001b[39;00m \u001b[38;5;21;01mappstore\u001b[39;00m\u001b[38;5;21;01m.\u001b[39;00m\u001b[38;5;21;01mdata\u001b[39;00m\u001b[38;5;21;01m.\u001b[39;00m\u001b[38;5;21;01mentity\u001b[39;00m\u001b[38;5;21;01m.\u001b[39;00m\u001b[38;5;21;01mappdata\u001b[39;00m \u001b[38;5;28;01mimport\u001b[39;00m AppData\n\u001b[0;32m---> 27\u001b[0m \u001b[38;5;28;01mfrom\u001b[39;00m \u001b[38;5;21;01mappstore\u001b[39;00m\u001b[38;5;21;01m.\u001b[39;00m\u001b[38;5;21;01mdata\u001b[39;00m\u001b[38;5;21;01m.\u001b[39;00m\u001b[38;5;21;01mdataset\u001b[39;00m\u001b[38;5;21;01m.\u001b[39;00m\u001b[38;5;21;01mappdata\u001b[39;00m \u001b[38;5;28;01mimport\u001b[39;00m AppDataDataset\n\u001b[1;32m     28\u001b[0m \u001b[38;5;28;01mfrom\u001b[39;00m \u001b[38;5;21;01mappstore\u001b[39;00m\u001b[38;5;21;01m.\u001b[39;00m\u001b[38;5;21;01minfrastructure\u001b[39;00m\u001b[38;5;21;01m.\u001b[39;00m\u001b[38;5;21;01mdatabase\u001b[39;00m\u001b[38;5;21;01m.\u001b[39;00m\u001b[38;5;21;01mbase\u001b[39;00m \u001b[38;5;28;01mimport\u001b[39;00m Database\n\u001b[1;32m     29\u001b[0m \u001b[38;5;28;01mfrom\u001b[39;00m \u001b[38;5;21;01msqlalchemy\u001b[39;00m\u001b[38;5;21;01m.\u001b[39;00m\u001b[38;5;21;01mdialects\u001b[39;00m\u001b[38;5;21;01m.\u001b[39;00m\u001b[38;5;21;01mmysql\u001b[39;00m \u001b[38;5;28;01mimport\u001b[39;00m (\n\u001b[1;32m     30\u001b[0m     LONGTEXT,\n\u001b[1;32m     31\u001b[0m     BIGINT,\n\u001b[1;32m     32\u001b[0m     VARCHAR,\n\u001b[1;32m     33\u001b[0m     FLOAT,\n\u001b[1;32m     34\u001b[0m )\n",
      "File \u001b[0;32m~/projects/appstore/appstore/data/dataset/appdata.py:20\u001b[0m\n\u001b[1;32m      1\u001b[0m \u001b[38;5;66;03m#!/usr/bin/env python3\u001b[39;00m\n\u001b[1;32m      2\u001b[0m \u001b[38;5;66;03m# -*- coding:utf-8 -*-\u001b[39;00m\n\u001b[1;32m      3\u001b[0m \u001b[38;5;66;03m# ================================================================================================ #\u001b[39;00m\n\u001b[0;32m   (...)\u001b[0m\n\u001b[1;32m     17\u001b[0m \u001b[38;5;66;03m# Copyright  : (c) 2023 John James                                                                 #\u001b[39;00m\n\u001b[1;32m     18\u001b[0m \u001b[38;5;66;03m# ================================================================================================ #\u001b[39;00m\n\u001b[1;32m     19\u001b[0m \u001b[38;5;28;01mimport\u001b[39;00m \u001b[38;5;21;01mpandas\u001b[39;00m \u001b[38;5;28;01mas\u001b[39;00m \u001b[38;5;21;01mpd\u001b[39;00m\n\u001b[0;32m---> 20\u001b[0m \u001b[38;5;28;01mfrom\u001b[39;00m \u001b[38;5;21;01md8analysis\u001b[39;00m\u001b[38;5;21;01m.\u001b[39;00m\u001b[38;5;21;01mdata\u001b[39;00m\u001b[38;5;21;01m.\u001b[39;00m\u001b[38;5;21;01mdataset\u001b[39;00m \u001b[38;5;28;01mimport\u001b[39;00m Dataset\n\u001b[1;32m     22\u001b[0m \u001b[38;5;28;01mfrom\u001b[39;00m \u001b[38;5;21;01mappstore\u001b[39;00m\u001b[38;5;21;01m.\u001b[39;00m\u001b[38;5;21;01mdata\u001b[39;00m\u001b[38;5;21;01m.\u001b[39;00m\u001b[38;5;21;01mentity\u001b[39;00m\u001b[38;5;21;01m.\u001b[39;00m\u001b[38;5;21;01mappdata\u001b[39;00m \u001b[38;5;28;01mimport\u001b[39;00m AppData\n\u001b[1;32m     25\u001b[0m \u001b[38;5;66;03m# ------------------------------------------------------------------------------------------------ #\u001b[39;00m\n",
      "File \u001b[0;32m~/anaconda3/envs/appstore/lib/python3.10/site-packages/d8analysis/__init__.py:25\u001b[0m\n\u001b[1;32m     21\u001b[0m \u001b[38;5;28;01mfrom\u001b[39;00m \u001b[38;5;21;01md8analysis\u001b[39;00m\u001b[38;5;21;01m.\u001b[39;00m\u001b[38;5;21;01mcontainer\u001b[39;00m \u001b[38;5;28;01mimport\u001b[39;00m D8AnalysisContainer\n\u001b[1;32m     24\u001b[0m \u001b[38;5;66;03m# ------------------------------------------------------------------------------------------------ #\u001b[39;00m\n\u001b[0;32m---> 25\u001b[0m \u001b[43mLoggingConfig\u001b[49m\u001b[38;5;241;43m.\u001b[39;49m\u001b[43mset_level\u001b[49m\u001b[43m(\u001b[49m\u001b[38;5;124;43m\"\u001b[39;49m\u001b[38;5;124;43mINFO\u001b[39;49m\u001b[38;5;124;43m\"\u001b[39;49m\u001b[43m)\u001b[49m\n\u001b[1;32m     26\u001b[0m container \u001b[38;5;241m=\u001b[39m D8AnalysisContainer()\n\u001b[1;32m     27\u001b[0m container\u001b[38;5;241m.\u001b[39minit_resources()\n",
      "File \u001b[0;32m~/anaconda3/envs/appstore/lib/python3.10/site-packages/d8analysis/service/config.py:54\u001b[0m, in \u001b[0;36mLoggingConfig.set_level\u001b[0;34m(cls, level)\u001b[0m\n\u001b[1;32m     46\u001b[0m \u001b[38;5;129m@classmethod\u001b[39m\n\u001b[1;32m     47\u001b[0m \u001b[38;5;28;01mdef\u001b[39;00m \u001b[38;5;21mset_level\u001b[39m(\u001b[38;5;28mcls\u001b[39m, level: \u001b[38;5;28mstr\u001b[39m \u001b[38;5;241m=\u001b[39m \u001b[38;5;124m\"\u001b[39m\u001b[38;5;124mDEBUG\u001b[39m\u001b[38;5;124m\"\u001b[39m) \u001b[38;5;241m-\u001b[39m\u001b[38;5;241m>\u001b[39m \u001b[38;5;28;01mNone\u001b[39;00m:\n\u001b[1;32m     48\u001b[0m \u001b[38;5;250m    \u001b[39m\u001b[38;5;124;03m\"\"\"Sets logging level for the console.\u001b[39;00m\n\u001b[1;32m     49\u001b[0m \n\u001b[1;32m     50\u001b[0m \u001b[38;5;124;03m    Args:\u001b[39;00m\n\u001b[1;32m     51\u001b[0m \u001b[38;5;124;03m        level (str): The logging level in all caps.\u001b[39;00m\n\u001b[1;32m     52\u001b[0m \u001b[38;5;124;03m    \"\"\"\u001b[39;00m\n\u001b[0;32m---> 54\u001b[0m     config \u001b[38;5;241m=\u001b[39m \u001b[43mIOService\u001b[49m\u001b[38;5;241;43m.\u001b[39;49m\u001b[43mread\u001b[49m\u001b[43m(\u001b[49m\u001b[43mLoggingConfig\u001b[49m\u001b[38;5;241;43m.\u001b[39;49m\u001b[43m__filepath\u001b[49m\u001b[43m)\u001b[49m\n\u001b[1;32m     55\u001b[0m     config[\u001b[38;5;124m\"\u001b[39m\u001b[38;5;124mlogging\u001b[39m\u001b[38;5;124m\"\u001b[39m][\u001b[38;5;124m\"\u001b[39m\u001b[38;5;124mhandlers\u001b[39m\u001b[38;5;124m\"\u001b[39m][\u001b[38;5;124m\"\u001b[39m\u001b[38;5;124mconsole\u001b[39m\u001b[38;5;124m\"\u001b[39m][\u001b[38;5;124m\"\u001b[39m\u001b[38;5;124mlevel\u001b[39m\u001b[38;5;124m\"\u001b[39m] \u001b[38;5;241m=\u001b[39m level\n\u001b[1;32m     56\u001b[0m     IOService\u001b[38;5;241m.\u001b[39mwrite(filepath\u001b[38;5;241m=\u001b[39mLoggingConfig\u001b[38;5;241m.\u001b[39m__filepath, data\u001b[38;5;241m=\u001b[39mconfig)\n",
      "File \u001b[0;32m~/anaconda3/envs/appstore/lib/python3.10/site-packages/d8analysis/service/io.py:320\u001b[0m, in \u001b[0;36mIOService.read\u001b[0;34m(cls, filepath, **kwargs)\u001b[0m\n\u001b[1;32m    318\u001b[0m \u001b[38;5;129m@classmethod\u001b[39m\n\u001b[1;32m    319\u001b[0m \u001b[38;5;28;01mdef\u001b[39;00m \u001b[38;5;21mread\u001b[39m(\u001b[38;5;28mcls\u001b[39m, filepath: \u001b[38;5;28mstr\u001b[39m, \u001b[38;5;241m*\u001b[39m\u001b[38;5;241m*\u001b[39mkwargs) \u001b[38;5;241m-\u001b[39m\u001b[38;5;241m>\u001b[39m Any:\n\u001b[0;32m--> 320\u001b[0m     io \u001b[38;5;241m=\u001b[39m \u001b[38;5;28;43mcls\u001b[39;49m\u001b[38;5;241;43m.\u001b[39;49m\u001b[43m_get_io\u001b[49m\u001b[43m(\u001b[49m\u001b[43mfilepath\u001b[49m\u001b[43m)\u001b[49m\n\u001b[1;32m    321\u001b[0m     \u001b[38;5;28;01mreturn\u001b[39;00m io\u001b[38;5;241m.\u001b[39mread(filepath, \u001b[38;5;241m*\u001b[39m\u001b[38;5;241m*\u001b[39mkwargs)\n",
      "File \u001b[0;32m~/anaconda3/envs/appstore/lib/python3.10/site-packages/d8analysis/service/io.py:338\u001b[0m, in \u001b[0;36mIOService._get_io\u001b[0;34m(cls, filepath)\u001b[0m\n\u001b[1;32m    336\u001b[0m         msg \u001b[38;5;241m=\u001b[39m \u001b[38;5;124m\"\u001b[39m\u001b[38;5;124mFilepath is None\u001b[39m\u001b[38;5;124m\"\u001b[39m\n\u001b[1;32m    337\u001b[0m         \u001b[38;5;28mcls\u001b[39m\u001b[38;5;241m.\u001b[39m_logger\u001b[38;5;241m.\u001b[39merror(msg)\n\u001b[0;32m--> 338\u001b[0m         \u001b[38;5;28;01mraise\u001b[39;00m \u001b[38;5;167;01mValueError\u001b[39;00m(msg)\n\u001b[1;32m    339\u001b[0m \u001b[38;5;28;01mexcept\u001b[39;00m \u001b[38;5;167;01mKeyError\u001b[39;00m:\n\u001b[1;32m    340\u001b[0m     msg \u001b[38;5;241m=\u001b[39m \u001b[38;5;124m\"\u001b[39m\u001b[38;5;124mFile type \u001b[39m\u001b[38;5;132;01m{}\u001b[39;00m\u001b[38;5;124m is not supported.\u001b[39m\u001b[38;5;124m\"\u001b[39m\u001b[38;5;241m.\u001b[39mformat(file_format)\n",
      "\u001b[0;31mValueError\u001b[0m: Filepath is None"
     ]
    }
   ],
   "source": [
    "import dependency\n",
    "import sys\n",
    "print(sys.path)\n",
    "import numpy as np\n",
    "import pandas as pd\n",
    "from IPython.display import HTML, display_html\n",
    "import seaborn as sns\n",
    "\n",
    "import d8analysis as eda\n",
    "\n",
    "from appstore.container import AppstoreContainer\n",
    "from appstore.data.dataset.appdata import AppDataDataset"
   ]
  },
  {
   "cell_type": "markdown",
   "id": "bf942949",
   "metadata": {},
   "source": [
    "**Obtain the Dataset** # noqa"
   ]
  },
  {
   "cell_type": "code",
   "execution_count": null,
   "id": "03e2dc21",
   "metadata": {},
   "outputs": [],
   "source": [
    "container = AppstoreContainer()\n",
    "repo = container.data.appdata_repo()\n",
    "dataset = repo.get_dataset()"
   ]
  },
  {
   "cell_type": "markdown",
   "id": "391cf6d7",
   "metadata": {},
   "source": [
    "### Structural Analysis\n",
    "\n",
    "The structure and characteristics of the AppData dataset are as follows:"
   ]
  },
  {
   "cell_type": "code",
   "execution_count": null,
   "id": "35959492",
   "metadata": {},
   "outputs": [],
   "source": [
    "df1 = dataset.overview\n",
    "df2 = dataset.dtypes\n",
    "\n",
    "df1_style = df1.style.set_table_attributes(\"style='display:inline; margin-right:220px;'\").set_caption(\"Dataset Structure\")\n",
    "df2_style = df2.style.set_table_attributes(\"style='display:inline; margin-right:120px'\").set_caption(\"Dataset Data Types\")\n",
    "\n",
    "display_html(df1_style._repr_html_() + df2_style._repr_html_(), raw=True)"
   ]
  },
  {
   "cell_type": "markdown",
   "id": "b4016fa9",
   "metadata": {},
   "source": [
    "As indicated above, we have approximately 475,000 apps in our dataset, described by 11 features. Let's take a quick look."
   ]
  },
  {
   "cell_type": "code",
   "execution_count": null,
   "id": "cb354871",
   "metadata": {},
   "outputs": [],
   "source": [
    "dataset.sample().style.hide(axis=\"index\")"
   ]
  },
  {
   "cell_type": "markdown",
   "id": "9ce027ce",
   "metadata": {},
   "source": [
    "Identity variables, specifically (app) id and developer_id will be retained for data processing purposes, but have no other value and will be largely ignored during this analysis.\n",
    "\n",
    "### Data Quality Analysis\n",
    "\n",
    "Data type, cardinality, validity, duplication, and size data are summarized at the variable level."
   ]
  },
  {
   "cell_type": "code",
   "execution_count": null,
   "id": "9cbdc098",
   "metadata": {},
   "outputs": [],
   "source": [
    "dataset.info.style.hide(axis=\"index\")"
   ]
  },
  {
   "cell_type": "markdown",
   "id": "5cb57472",
   "metadata": {},
   "source": [
    "**Observations**\n",
    "\n",
    "- With the exception of released (date), we have no missing values.\n",
    "- Id's are unique and name, description, developer information, are all high-cardinality\n",
    "- Category id and label are low-cardinality with 26 unique values, each."
   ]
  },
  {
   "cell_type": "markdown",
   "id": "bd41ea9b",
   "metadata": {},
   "source": [
    "#### Numeric Variable Data Quality\n",
    "\n",
    "Each feature has been cast to an appropriate data type and missing data are not extant for the dataset. Valid values for the numeric variables are:\n",
    "\n",
    "| Variable | Date Type  | Valid Values                                     |\n",
    "| -------- | ---------- | ------------------------------------------------ |\n",
    "| price    | Continuous | Non negative values                              |\n",
    "| rating   | Interval   | Real valued in [0,5]                             |\n",
    "| ratings  | Discrete   | Discrete and non-negative                        |\n",
    "| released | Continuous | Datetimes between June 10, 2008 and present day. |\n",
    "\n",
    "Let's check the ranges for these variables."
   ]
  },
  {
   "cell_type": "code",
   "execution_count": null,
   "id": "426f853a",
   "metadata": {},
   "outputs": [],
   "source": [
    "stats = dataset.describe(include=[np.number, np.datetime64])\n",
    "stats.numeric[['min','max']]"
   ]
  },
  {
   "cell_type": "markdown",
   "id": "b897581d",
   "metadata": {},
   "source": [
    "All numeric and datetime values are within range.\n",
    "\n",
    "#### Categorical Variable Data Quality\n",
    "\n",
    "The id, name, description, developer_id, and developer variables are nominal, high cardinality strings. Category and category_id; in contrast, must contain one of 26 category id / category values selected for this analysis."
   ]
  },
  {
   "cell_type": "code",
   "execution_count": null,
   "id": "bb662c12",
   "metadata": {},
   "outputs": [],
   "source": [
    "columns = ['category_id', 'category']\n",
    "dataset.unique(columns=columns).style.hide(axis=\"index\")"
   ]
  },
  {
   "cell_type": "markdown",
   "id": "d4de0e19",
   "metadata": {},
   "source": [
    "Category and category_id values are as expected."
   ]
  },
  {
   "cell_type": "markdown",
   "id": "87d34bb8",
   "metadata": {},
   "source": [
    "### Univariate Analysis\n",
    "\n",
    "#### Quantitative Data\n",
    "\n",
    "We'll begin the univariate analysis with an examination of the quantitative variables, namely:\n",
    "\n",
    "- Average User Rating\n",
    "- Rating Count\n",
    "- Price\n",
    "- Release Date\n",
    "\n",
    "Using quantitative and qualititative methods, we'll discover the central tendency of the data (arithmetic mean, median, mode), its spread (variance, standard deviation, interquartile range, maximum and minimum value) and some features of its distribution (skewness, kurtosis).\n",
    "\n",
    "##### Average User Rating"
   ]
  },
  {
   "cell_type": "code",
   "execution_count": null,
   "id": "f794124b",
   "metadata": {},
   "outputs": [],
   "source": [
    "dataset.plot.pdfcdfplot(x='rating', title='Average User Rating Distribution')\n"
   ]
  },
  {
   "cell_type": "markdown",
   "id": "3d412feb",
   "metadata": {},
   "source": [
    " Since the rating scale is in [1,5], its clear that the probability density and histogram above contain apps that have not been rated. To get a sense of the actual ratings, we'll create a new dataset without the non-reviewed apps."
   ]
  },
  {
   "cell_type": "code",
   "execution_count": null,
   "id": "64a0b6d4",
   "metadata": {},
   "outputs": [],
   "source": [
    "df = dataset.as_df()\n",
    "df = df.loc[df['rating'] != 0]\n",
    "rated = AppDataDataset(df=df)"
   ]
  },
  {
   "cell_type": "markdown",
   "id": "7f634b11",
   "metadata": {},
   "source": [
    "Ok, let's examine the frequency distribution of the ratings."
   ]
  },
  {
   "cell_type": "code",
   "execution_count": null,
   "id": "439bf336",
   "metadata": {},
   "outputs": [],
   "source": [
    "rated.frequency(x='rating', bins=4)\n",
    "stats = rated.describe(x='rating')\n",
    "stats.numeric\n",
    "rated.plot.pdfcdfplot(x='rating', bins=4, title='Distribution of User Ratings')\n",
    "rated.plot.histpdfplot(x='rating', title='Distribution of User Ratings')"
   ]
  },
  {
   "cell_type": "markdown",
   "id": "1722c0e5",
   "metadata": {},
   "source": [
    "**Key Observations:**\n",
    "\n",
    "- The long left tail reveals a tendency towards ratings in the 4-5 star range.\n",
    "- Five star ratings make up 67% of all ratings.\n",
    "- Multiple peaks are also observed at one star and three star ratings and to a lesser degree with two stars.\n",
    "- Ratings up to one, two, and three stars, correspond to approximately 8%, 20% and 33% of the cumulative ratings respectively.\n",
    "- There is no assumption of normality in the distribution of ratings.\n",
    "- In short, five star ratings dominate customer opinion at this level by a significant margin.\n",
    "- Note: Taking the average of ordinal values, such as user ratings, is not among the *permissible* statistical transformations whose meanings are preserved when applied to the data, according to measurement theorists, most notably, Harvard psychologist S.S Stevens, who coined the terms *nominal*, *ordinal*, *interval*, and *ratio*. Fortunately, permission is not required in data analysis"
   ]
  },
  {
   "cell_type": "markdown",
   "id": "348e7409",
   "metadata": {},
   "source": [
    "##### Rating Count\n",
    "\n",
    "Rating count can be a harbinger of the intensity of opinion. We'll use the same rated dataset as above."
   ]
  },
  {
   "cell_type": "code",
   "execution_count": null,
   "id": "ed396a52",
   "metadata": {},
   "outputs": [],
   "source": [
    "stats = rated.describe(x='ratings')\n",
    "stats.numeric\n",
    "rated.plot.histogram(x='ratings',bins=5, title='Distribution of User Rating Count')"
   ]
  },
  {
   "cell_type": "code",
   "execution_count": null,
   "id": "1fe81a45",
   "metadata": {},
   "outputs": [],
   "source": [
    "rated.top_n(x='ratings', n=10)"
   ]
  },
  {
   "cell_type": "code",
   "execution_count": null,
   "id": "aa88826f",
   "metadata": {},
   "outputs": [],
   "source": [
    "topn = np.array([10,20,35,50,75,100,200,500,1000])\n",
    "rated.plot.topn_plot(x='ratings', n=topn)"
   ]
  },
  {
   "cell_type": "markdown",
   "id": "4901c2d7",
   "metadata": {},
   "source": [
    "**Key Observations:**\n",
    "\n",
    "- The distribution of rating counts has a long right tail, with a range from 1 to nearly 31 m ratings.\n",
    "- The central tendency is placed at a median of 10 ratings per app. The average is pulled in the direction of the outliers.\n",
    "- Giants of big-tech, social-media, an e-commerce, such as YouTube, Tik-Tok, Spotify, WhatsApp and DoorDash are among the most rated apps in the App Store.\n",
    "- The top-10 most-rated apps account for nearly 14% of all ratings and less than 1/10th of a percent of all apps. Moreover, the most-rated 1000 apps, who represent 1/3rd of a percent of all apps, consume nearly 75% of all ratings.\n",
    "- Takeaway: Rating counts are vastly disproportionate.\n",
    "- Note: Apps with earlier release dates may have higher rating counts. Ratings per day since release will remove the temporal dimension from the rating counts."
   ]
  },
  {
   "cell_type": "code",
   "execution_count": null,
   "id": "e4a08f2b",
   "metadata": {},
   "outputs": [],
   "source": []
  },
  {
   "cell_type": "code",
   "execution_count": null,
   "id": "f9a5d7ae",
   "metadata": {},
   "outputs": [],
   "source": [
    "with pd.option_context('format.precision',2):\n",
    "    df1_style = freq.style.set_table_attributes(\"style='display:inline; margin-right:220px;'\").set_caption(\"Average User Rating Frequency Distribution\")\n",
    "    df2_style = desc.style.set_table_attributes(\"style='display:inline; margin-right:120px'\").set_caption(\"Average User Rating Descriptive Statistics\")\n",
    "    display_html(df1_style._repr_html_() + df2_style._repr_html_(), raw=True)"
   ]
  },
  {
   "cell_type": "markdown",
   "id": "1f6a0032",
   "metadata": {},
   "source": [
    "**Key Observations**\n",
    "\n",
    "- The five-star ratings represent 67% of nearly 291,000 ratings in the dataset.\n",
    "- Ratings up to four-star comprise just 33% of all ratings. Three stars and below make up approximately 20% of the data; whereas, one and two star ratings represent less than 10% of all ratings.\n",
    "- The mean of average user ratings, 4.09 stars, is influenced by the significant left skew. The median of 4.53 is a more robust measure of centrality, given the long left-tail in the distribution.\n",
    "- The assumption of a normal distribution is violated as shown in the histogram, and the probability density functions."
   ]
  },
  {
   "cell_type": "markdown",
   "id": "9c1cba21",
   "metadata": {},
   "source": [
    "#### Ratings\n",
    "\n",
    "Next, we explore the distribution of rating counts in the dataset."
   ]
  },
  {
   "cell_type": "code",
   "execution_count": null,
   "id": "ebd532bb",
   "metadata": {},
   "outputs": [],
   "source": [
    "p = eda.KDEPlot(data=df_ratings, x='ratings', title=\"Rating Count\\nProbability Density Function\")\n",
    "h = eda.Histogram(data=df_ratings, x='ratings', title=\"Rating Count\\nHistogram\")\n",
    "c = eda.ECDFPlot(data=df_ratings, x='ratings', title=\"Rating Count\\nCumulative Distribution Function\")\n",
    "v = eda.ViolinPlot(data=df_ratings,x='ratings', title=\"Rating Count Distribution\")\n",
    "plots = [p]\n",
    "\n",
    "visual = Visual()\n",
    "for plot in plots:\n",
    "    visual.add_plot(plot=plot)\n",
    "visual.visualize()"
   ]
  }
 ],
 "metadata": {
  "jupytext": {
   "text_representation": {
    "extension": ".md",
    "format_name": "myst",
    "format_version": 0.13,
    "jupytext_version": "1.15.0"
   }
  },
  "kernelspec": {
   "display_name": "appstore",
   "language": "python",
   "name": "python3"
  },
  "language_info": {
   "codemirror_mode": {
    "name": "ipython",
    "version": 3
   },
   "file_extension": ".py",
   "mimetype": "text/x-python",
   "name": "python",
   "nbconvert_exporter": "python",
   "pygments_lexer": "ipython3",
   "version": "3.10.12"
  },
  "source_map": [
   12,
   48,
   52,
   65,
   69,
   73,
   79,
   87,
   91,
   93,
   101,
   103,
   111,
   126,
   129,
   137,
   140,
   144,
   161,
   164,
   168,
   172,
   176,
   182,
   194,
   200,
   206,
   210,
   213,
   224,
   228,
   233,
   242,
   248
  ]
 },
 "nbformat": 4,
 "nbformat_minor": 5
}