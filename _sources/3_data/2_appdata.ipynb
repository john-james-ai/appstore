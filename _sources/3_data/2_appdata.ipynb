{
 "cells": [
  {
   "cell_type": "markdown",
   "id": "7a5fe45e",
   "metadata": {},
   "source": [
    "# Exploratory Data Analysis\n",
    "\n",
    "## Stage I: App Performance Overview\n",
    "\n",
    "Stage one of our exploratory data analysis aims to expose patterns and yield insight into the nature and intensity of the customer experience within the IOS app user community.\n",
    "\n",
    "### The Dataset\n",
    "\n",
    "The dataset contains the following product descriptive, rating, price, and developer data for some 475,132 apps from the App Store.\n",
    "\n",
    "| #  | Variable     | Date Type  | Description                              |\n",
    "| -- | ------------ | ---------- | ---------------------------------------- |\n",
    "| 1  | id           | Nominal    | App Id from the App Store                |\n",
    "| 2  | name         | Nominal    | App Name                                 |\n",
    "| 3  | description  | Nominal    | App Description                          |\n",
    "| 4  | category_id  | Nominal    | Numeric category identifier              |\n",
    "| 5  | category     | Nominal    | Category name                            |\n",
    "| 6  | price        | Continuous | App Price                                |\n",
    "| 7  | developer_id | Nominal    | Identifier for the developer             |\n",
    "| 8  | developer    | Nominal    | Name of the developer                    |\n",
    "| 9  | rating       | Ordinal    | Average user rating since first released |\n",
    "| 10 | ratings      | Discrete   | Number of ratings since first release    |\n",
    "| 11 | released     | Continuous | Datetime of first release                |\n",
    "\n",
    "### EDA Approach\n",
    "\n",
    "Our exploration will comprise the following five analyses.\n",
    "\n",
    "1. Structural Analysis: Examine the overall shape, structure, and type of the data.\n",
    "2. Data Quality Analysis: Assess quality and suitability of the data in terms of missing values, outliers, duplication, cardinality, and feature values.\n",
    "3. Univariate Analysis: Explore the distributions of rating count, average rating, categories, and price.\n",
    "4. Bivariate Analysis: Evaluate ratings, rating count, reviews and correlation analysis between two variables.\n",
    "5. Multivariate Analysis: Cluster, factor, and correspondence analysis of three or more variables simultaneously.\n",
    "6. Conclusions, insights and questions for stage two.\n",
    "\n",
    "### Preliminaries\n",
    "\n",
    "**Import Dependencies** # noqa"
   ]
  },
  {
   "cell_type": "code",
   "execution_count": 1,
   "id": "103b06d7",
   "metadata": {},
   "outputs": [
    {
     "ename": "ModuleNotFoundError",
     "evalue": "No module named 'appstore'",
     "output_type": "error",
     "traceback": [
      "\u001b[0;31m---------------------------------------------------------------------------\u001b[0m",
      "\u001b[0;31mModuleNotFoundError\u001b[0m                       Traceback (most recent call last)",
      "Cell \u001b[0;32mIn[1], line 7\u001b[0m\n\u001b[1;32m      4\u001b[0m \u001b[38;5;28;01mimport\u001b[39;00m \u001b[38;5;21;01mseaborn\u001b[39;00m \u001b[38;5;28;01mas\u001b[39;00m \u001b[38;5;21;01msns\u001b[39;00m\n\u001b[1;32m      5\u001b[0m \u001b[38;5;28;01mimport\u001b[39;00m \u001b[38;5;21;01md8analysis\u001b[39;00m \u001b[38;5;28;01mas\u001b[39;00m \u001b[38;5;21;01meda\u001b[39;00m\n\u001b[0;32m----> 7\u001b[0m \u001b[38;5;28;01mfrom\u001b[39;00m \u001b[38;5;21;01mappstore\u001b[39;00m\u001b[38;5;21;01m.\u001b[39;00m\u001b[38;5;21;01mdata\u001b[39;00m\u001b[38;5;21;01m.\u001b[39;00m\u001b[38;5;21;01mdataset\u001b[39;00m\u001b[38;5;21;01m.\u001b[39;00m\u001b[38;5;21;01mappdata\u001b[39;00m \u001b[38;5;28;01mimport\u001b[39;00m AppDataDataset\n\u001b[1;32m      8\u001b[0m \u001b[38;5;28;01mfrom\u001b[39;00m \u001b[38;5;21;01mappstore\u001b[39;00m\u001b[38;5;21;01m.\u001b[39;00m\u001b[38;5;21;01mcontainer\u001b[39;00m \u001b[38;5;28;01mimport\u001b[39;00m AppstoreContainer\n",
      "\u001b[0;31mModuleNotFoundError\u001b[0m: No module named 'appstore'"
     ]
    }
   ],
   "source": [
    "import numpy as np\n",
    "import pandas as pd\n",
    "from IPython.display import HTML, display_html\n",
    "import seaborn as sns\n",
    "import d8analysis as eda\n",
    "\n",
    "from appstore.data.dataset.appdata import AppDataDataset\n",
    "from appstore.container import AppstoreContainer"
   ]
  },
  {
   "cell_type": "markdown",
   "id": "a0edaf6e",
   "metadata": {},
   "source": [
    "**Wire and Initialize Dependencies** # noqa"
   ]
  },
  {
   "cell_type": "code",
   "execution_count": null,
   "id": "b6b5fc52",
   "metadata": {},
   "outputs": [],
   "source": [
    "container = AppstoreContainer()\n",
    "container.init_resources()\n",
    "container.wire(packages=[\"appstore\"])"
   ]
  },
  {
   "cell_type": "markdown",
   "id": "0ed07ff8",
   "metadata": {},
   "source": [
    "**Obtain the Dataset** # noqa"
   ]
  },
  {
   "cell_type": "code",
   "execution_count": null,
   "id": "d0240768",
   "metadata": {},
   "outputs": [],
   "source": [
    "repo = container.data.appdata_repo()\n",
    "dataset = repo.get_dataset()"
   ]
  },
  {
   "cell_type": "markdown",
   "id": "a54731d4",
   "metadata": {},
   "source": [
    "### Structural Analysis\n",
    "\n",
    "The structure and characteristics of the AppData dataset are as follows:"
   ]
  },
  {
   "cell_type": "code",
   "execution_count": null,
   "id": "4cb17ee7",
   "metadata": {},
   "outputs": [],
   "source": [
    "df1 = dataset.overview\n",
    "df2 = dataset.dtypes\n",
    "\n",
    "df1_style = df1.style.set_table_attributes(\"style='display:inline; margin-right:220px;'\").set_caption(\"Dataset Structure\")\n",
    "df2_style = df2.style.set_table_attributes(\"style='display:inline; margin-right:120px'\").set_caption(\"Dataset Data Types\")\n",
    "\n",
    "display_html(df1_style._repr_html_() + df2_style._repr_html_(), raw=True)"
   ]
  },
  {
   "cell_type": "markdown",
   "id": "c994e4b8",
   "metadata": {},
   "source": [
    "As indicated above, we have approximately 475,000 apps in our dataset, described by 11 features. Let's take a quick look."
   ]
  },
  {
   "cell_type": "code",
   "execution_count": null,
   "id": "fb3784c1",
   "metadata": {},
   "outputs": [],
   "source": [
    "dataset.sample().style.hide(axis=\"index\")"
   ]
  },
  {
   "cell_type": "markdown",
   "id": "dd82e9c8",
   "metadata": {},
   "source": [
    "Identity variables, specifically (app) id and developer_id will be retained for data processing purposes, but have no other value and will be largely ignored during this analysis.\n",
    "\n",
    "### Data Quality Analysis\n",
    "\n",
    "Data type, cardinality, validity, duplication, and size data are summarized at the variable level."
   ]
  },
  {
   "cell_type": "code",
   "execution_count": null,
   "id": "cbf56a5e",
   "metadata": {},
   "outputs": [],
   "source": [
    "dataset.info.style.hide(axis=\"index\")"
   ]
  },
  {
   "cell_type": "markdown",
   "id": "3d8cae64",
   "metadata": {},
   "source": [
    "**Observations**\n",
    "\n",
    "- With the exception of released (date), we have no missing values.\n",
    "- Id's are unique and name, description, developer information, are all high-cardinality\n",
    "- Category id and label are low-cardinality with 26 unique values, each."
   ]
  },
  {
   "cell_type": "markdown",
   "id": "167705f0",
   "metadata": {},
   "source": [
    "#### Numeric Variable Data Quality\n",
    "\n",
    "Each feature has been cast to an appropriate data type and missing data are not extant for the dataset. Valid values for the numeric variables are:\n",
    "\n",
    "| Variable | Date Type  | Valid Values                                     |\n",
    "| -------- | ---------- | ------------------------------------------------ |\n",
    "| price    | Continuous | Non negative values                              |\n",
    "| rating   | Interval   | Real valued in [0,5]                             |\n",
    "| ratings  | Discrete   | Discrete and non-negative                        |\n",
    "| released | Continuous | Datetimes between June 10, 2008 and present day. |\n",
    "\n",
    "Let's check the ranges for these variables."
   ]
  },
  {
   "cell_type": "code",
   "execution_count": null,
   "id": "3d484c37",
   "metadata": {},
   "outputs": [],
   "source": [
    "stats = dataset.describe(include=[np.number, np.datetime64])\n",
    "stats.numeric[['min','max']]"
   ]
  },
  {
   "cell_type": "markdown",
   "id": "387d5443",
   "metadata": {},
   "source": [
    "All numeric and datetime values are within range.\n",
    "\n",
    "#### Categorical Variable Data Quality\n",
    "\n",
    "The id, name, description, developer_id, and developer variables are nominal, high cardinality strings. Category and category_id; in contrast, must contain one of 26 category id / category values selected for this analysis."
   ]
  },
  {
   "cell_type": "code",
   "execution_count": null,
   "id": "c7ab4dbe",
   "metadata": {},
   "outputs": [],
   "source": [
    "columns = ['category_id', 'category']\n",
    "dataset.unique(columns=columns).style.hide(axis=\"index\")"
   ]
  },
  {
   "cell_type": "markdown",
   "id": "1a94fe58",
   "metadata": {},
   "source": [
    "Category and category_id values are as expected."
   ]
  }
 ],
 "metadata": {
  "jupytext": {
   "text_representation": {
    "extension": ".md",
    "format_name": "myst",
    "format_version": 0.13,
    "jupytext_version": "1.15.0"
   }
  },
  "kernelspec": {
   "display_name": "appstore",
   "language": "python",
   "name": "python3"
  },
  "language_info": {
   "codemirror_mode": {
    "name": "ipython",
    "version": 3
   },
   "file_extension": ".py",
   "mimetype": "text/x-python",
   "name": "python",
   "nbconvert_exporter": "python",
   "pygments_lexer": "ipython3",
   "version": "3.10.12"
  },
  "source_map": [
   12,
   52,
   61,
   65,
   69,
   73,
   76,
   82,
   90,
   94,
   96,
   104,
   106,
   114,
   129,
   132,
   140,
   143
  ]
 },
 "nbformat": 4,
 "nbformat_minor": 5
}