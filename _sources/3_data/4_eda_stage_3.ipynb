{
 "cells": [
  {
   "cell_type": "markdown",
   "id": "37cbf3fa",
   "metadata": {},
   "source": [
    "# Exploratory Data Analysis\n",
    "\n",
    "## Stage III: Reviews"
   ]
  },
  {
   "cell_type": "code",
   "execution_count": 1,
   "id": "317b3022",
   "metadata": {},
   "outputs": [
    {
     "name": "stdout",
     "output_type": "stream",
     "text": [
      "Added /home/john/projects/appstore to sys.path\n"
     ]
    },
    {
     "ename": "TypeError",
     "evalue": "'NoneType' object is not iterable",
     "output_type": "error",
     "traceback": [
      "\u001b[0;31m---------------------------------------------------------------------------\u001b[0m",
      "\u001b[0;31mTypeError\u001b[0m                                 Traceback (most recent call last)",
      "Cell \u001b[0;32mIn[1], line 1\u001b[0m\n\u001b[0;32m----> 1\u001b[0m \u001b[38;5;28;01mimport\u001b[39;00m \u001b[38;5;21;01mdependency\u001b[39;00m\n\u001b[1;32m      3\u001b[0m \u001b[38;5;28;01mimport\u001b[39;00m \u001b[38;5;21;01mos\u001b[39;00m\n\u001b[1;32m      4\u001b[0m \u001b[38;5;28;01mimport\u001b[39;00m \u001b[38;5;21;01mnumpy\u001b[39;00m \u001b[38;5;28;01mas\u001b[39;00m \u001b[38;5;21;01mnp\u001b[39;00m\n",
      "File \u001b[0;32m~/projects/appstore/jbook/3_data/dependency.py:37\u001b[0m\n\u001b[1;32m     34\u001b[0m \u001b[38;5;28;01mfrom\u001b[39;00m \u001b[38;5;21;01mappstore\u001b[39;00m\u001b[38;5;21;01m.\u001b[39;00m\u001b[38;5;21;01mcontainer\u001b[39;00m \u001b[38;5;28;01mimport\u001b[39;00m AppstoreContainer  \u001b[38;5;66;03m# noqa\u001b[39;00m\n\u001b[1;32m     36\u001b[0m container \u001b[38;5;241m=\u001b[39m AppstoreContainer()\n\u001b[0;32m---> 37\u001b[0m \u001b[43mcontainer\u001b[49m\u001b[38;5;241;43m.\u001b[39;49m\u001b[43minit_resources\u001b[49m\u001b[43m(\u001b[49m\u001b[43m)\u001b[49m\n\u001b[1;32m     38\u001b[0m container\u001b[38;5;241m.\u001b[39mwire(packages\u001b[38;5;241m=\u001b[39m[\u001b[38;5;124m\"\u001b[39m\u001b[38;5;124mappstore\u001b[39m\u001b[38;5;124m\"\u001b[39m])\n",
      "File \u001b[0;32msrc/dependency_injector/containers.pyx:343\u001b[0m, in \u001b[0;36mdependency_injector.containers.DynamicContainer.init_resources\u001b[0;34m()\u001b[0m\n",
      "File \u001b[0;32msrc/dependency_injector/providers.pyx:3786\u001b[0m, in \u001b[0;36mdependency_injector.providers.Resource.init\u001b[0;34m()\u001b[0m\n",
      "File \u001b[0;32msrc/dependency_injector/providers.pyx:225\u001b[0m, in \u001b[0;36mdependency_injector.providers.Provider.__call__\u001b[0;34m()\u001b[0m\n",
      "File \u001b[0;32msrc/dependency_injector/providers.pyx:3894\u001b[0m, in \u001b[0;36mdependency_injector.providers.Resource._provide\u001b[0;34m()\u001b[0m\n",
      "File \u001b[0;32msrc/dependency_injector/providers.pxd:608\u001b[0m, in \u001b[0;36mdependency_injector.providers.__call\u001b[0;34m()\u001b[0m\n",
      "File \u001b[0;32m~/anaconda3/envs/appstore/lib/python3.10/logging/config.py:811\u001b[0m, in \u001b[0;36mdictConfig\u001b[0;34m(config)\u001b[0m\n\u001b[1;32m    809\u001b[0m \u001b[38;5;28;01mdef\u001b[39;00m \u001b[38;5;21mdictConfig\u001b[39m(config):\n\u001b[1;32m    810\u001b[0m \u001b[38;5;250m    \u001b[39m\u001b[38;5;124;03m\"\"\"Configure logging using a dictionary.\"\"\"\u001b[39;00m\n\u001b[0;32m--> 811\u001b[0m     \u001b[43mdictConfigClass\u001b[49m\u001b[43m(\u001b[49m\u001b[43mconfig\u001b[49m\u001b[43m)\u001b[49m\u001b[38;5;241m.\u001b[39mconfigure()\n",
      "File \u001b[0;32m~/anaconda3/envs/appstore/lib/python3.10/logging/config.py:375\u001b[0m, in \u001b[0;36mBaseConfigurator.__init__\u001b[0;34m(self, config)\u001b[0m\n\u001b[1;32m    374\u001b[0m \u001b[38;5;28;01mdef\u001b[39;00m \u001b[38;5;21m__init__\u001b[39m(\u001b[38;5;28mself\u001b[39m, config):\n\u001b[0;32m--> 375\u001b[0m     \u001b[38;5;28mself\u001b[39m\u001b[38;5;241m.\u001b[39mconfig \u001b[38;5;241m=\u001b[39m \u001b[43mConvertingDict\u001b[49m\u001b[43m(\u001b[49m\u001b[43mconfig\u001b[49m\u001b[43m)\u001b[49m\n\u001b[1;32m    376\u001b[0m     \u001b[38;5;28mself\u001b[39m\u001b[38;5;241m.\u001b[39mconfig\u001b[38;5;241m.\u001b[39mconfigurator \u001b[38;5;241m=\u001b[39m \u001b[38;5;28mself\u001b[39m\n",
      "\u001b[0;31mTypeError\u001b[0m: 'NoneType' object is not iterable"
     ]
    }
   ],
   "source": [
    "import dependency\n",
    "\n",
    "import os\n",
    "import numpy as np\n",
    "import pandas as pd\n",
    "from IPython.display import HTML, display_html\n",
    "\n",
    "from appstore.container import AppstoreContainer\n",
    "\n",
    "container = AppstoreContainer()\n",
    "container.init_resources()\n",
    "pd.set_option(\"max_colwidth\", 400)"
   ]
  }
 ],
 "metadata": {
  "jupytext": {
   "text_representation": {
    "extension": ".md",
    "format_name": "myst",
    "format_version": 0.13,
    "jupytext_version": "1.15.0"
   }
  },
  "kernelspec": {
   "display_name": "appstore",
   "language": "python",
   "name": "python3"
  },
  "language_info": {
   "codemirror_mode": {
    "name": "ipython",
    "version": 3
   },
   "file_extension": ".py",
   "mimetype": "text/x-python",
   "name": "python",
   "nbconvert_exporter": "python",
   "pygments_lexer": "ipython3",
   "version": "3.10.12"
  },
  "source_map": [
   12,
   18
  ]
 },
 "nbformat": 4,
 "nbformat_minor": 5
}