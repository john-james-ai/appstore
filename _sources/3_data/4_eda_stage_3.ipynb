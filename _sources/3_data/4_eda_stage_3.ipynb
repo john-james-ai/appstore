{
 "cells": [
  {
   "cell_type": "markdown",
   "id": "87120b05",
   "metadata": {},
   "source": [
    "# Reviews"
   ]
  },
  {
   "cell_type": "code",
   "execution_count": 1,
   "id": "88225db9",
   "metadata": {},
   "outputs": [],
   "source": [
    "import os\n",
    "\n",
    "import numpy as np\n",
    "import pandas as pd\n",
    "from IPython.display import HTML, display_html\n",
    "\n",
    "pd.set_option(\"max_colwidth\", 400)"
   ]
  },
  {
   "cell_type": "code",
   "execution_count": 2,
   "id": "31e42623",
   "metadata": {},
   "outputs": [
    {
     "ename": "NameError",
     "evalue": "name 'container' is not defined",
     "output_type": "error",
     "traceback": [
      "\u001b[0;31m---------------------------------------------------------------------------\u001b[0m",
      "\u001b[0;31mNameError\u001b[0m                                 Traceback (most recent call last)",
      "Cell \u001b[0;32mIn[2], line 1\u001b[0m\n\u001b[0;32m----> 1\u001b[0m repo \u001b[38;5;241m=\u001b[39m \u001b[43mcontainer\u001b[49m\u001b[38;5;241m.\u001b[39mdata\u001b[38;5;241m.\u001b[39mreview_repo()\n",
      "\u001b[0;31mNameError\u001b[0m: name 'container' is not defined"
     ]
    }
   ],
   "source": [
    "repo = container.data.review_repo()"
   ]
  },
  {
   "cell_type": "code",
   "execution_count": null,
   "id": "cf209ecd",
   "metadata": {},
   "outputs": [],
   "source": [
    "repo.summary"
   ]
  },
  {
   "cell_type": "code",
   "execution_count": null,
   "id": "7eb4d2fb",
   "metadata": {},
   "outputs": [],
   "source": [
    "repo.info()"
   ]
  },
  {
   "cell_type": "code",
   "execution_count": null,
   "id": "722844b6",
   "metadata": {},
   "outputs": [],
   "source": [
    "repo.sample()"
   ]
  },
  {
   "cell_type": "code",
   "execution_count": null,
   "id": "29e768c2",
   "metadata": {},
   "outputs": [],
   "source": [
    "review = repo.get(id=\"4937046803\")"
   ]
  },
  {
   "cell_type": "code",
   "execution_count": null,
   "id": "1520cc68",
   "metadata": {},
   "outputs": [],
   "source": [
    "print(review.__str__())"
   ]
  },
  {
   "cell_type": "code",
   "execution_count": null,
   "id": "94f43c76",
   "metadata": {},
   "outputs": [],
   "source": [
    "repo.archive()"
   ]
  }
 ],
 "metadata": {
  "jupytext": {
   "text_representation": {
    "extension": ".md",
    "format_name": "myst",
    "format_version": 0.13,
    "jupytext_version": "1.15.0"
   }
  },
  "kernelspec": {
   "display_name": "appstore",
   "language": "python",
   "name": "python3"
  },
  "language_info": {
   "codemirror_mode": {
    "name": "ipython",
    "version": 3
   },
   "file_extension": ".py",
   "mimetype": "text/x-python",
   "name": "python",
   "nbconvert_exporter": "python",
   "pygments_lexer": "ipython3",
   "version": "3.10.12"
  },
  "source_map": [
   12,
   16,
   26,
   30,
   34,
   38,
   42,
   46,
   50
  ]
 },
 "nbformat": 4,
 "nbformat_minor": 5
}