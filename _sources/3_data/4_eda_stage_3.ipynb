{
 "cells": [
  {
   "cell_type": "markdown",
   "id": "99e4de1f",
   "metadata": {},
   "source": [
    "# Reviews"
   ]
  },
  {
   "cell_type": "code",
   "execution_count": 1,
   "id": "7d6cfb0c",
   "metadata": {},
   "outputs": [
    {
     "ename": "ModuleNotFoundError",
     "evalue": "No module named 'appstore'",
     "output_type": "error",
     "traceback": [
      "\u001b[0;31m---------------------------------------------------------------------------\u001b[0m",
      "\u001b[0;31mModuleNotFoundError\u001b[0m                       Traceback (most recent call last)",
      "Cell \u001b[0;32mIn[1], line 9\u001b[0m\n\u001b[1;32m      6\u001b[0m \u001b[38;5;28;01mimport\u001b[39;00m \u001b[38;5;21;01mpandas\u001b[39;00m \u001b[38;5;28;01mas\u001b[39;00m \u001b[38;5;21;01mpd\u001b[39;00m\n\u001b[1;32m      7\u001b[0m \u001b[38;5;28;01mfrom\u001b[39;00m \u001b[38;5;21;01mIPython\u001b[39;00m\u001b[38;5;21;01m.\u001b[39;00m\u001b[38;5;21;01mdisplay\u001b[39;00m \u001b[38;5;28;01mimport\u001b[39;00m HTML, display_html\n\u001b[0;32m----> 9\u001b[0m \u001b[38;5;28;01mfrom\u001b[39;00m \u001b[38;5;21;01mappstore\u001b[39;00m\u001b[38;5;21;01m.\u001b[39;00m\u001b[38;5;21;01mcontainer\u001b[39;00m \u001b[38;5;28;01mimport\u001b[39;00m AppstoreContainer\n\u001b[1;32m     11\u001b[0m container \u001b[38;5;241m=\u001b[39m AppstoreContainer()\n\u001b[1;32m     12\u001b[0m container\u001b[38;5;241m.\u001b[39minit_resources()\n",
      "\u001b[0;31mModuleNotFoundError\u001b[0m: No module named 'appstore'"
     ]
    }
   ],
   "source": [
    "import os\n",
    "import sys\n",
    "sys.path.append(\"/home/john/projects/appstore/appstore\")\n",
    "\n",
    "import numpy as np\n",
    "import pandas as pd\n",
    "from IPython.display import HTML, display_html\n",
    "\n",
    "from appstore.container import AppstoreContainer\n",
    "\n",
    "container = AppstoreContainer()\n",
    "container.init_resources()\n",
    "pd.set_option(\"max_colwidth\", 400)"
   ]
  },
  {
   "cell_type": "code",
   "execution_count": null,
   "id": "70c1b835",
   "metadata": {},
   "outputs": [],
   "source": [
    "repo = container.data.review_repo()"
   ]
  },
  {
   "cell_type": "code",
   "execution_count": null,
   "id": "41cf136f",
   "metadata": {},
   "outputs": [],
   "source": [
    "repo.summary"
   ]
  },
  {
   "cell_type": "code",
   "execution_count": null,
   "id": "d87e1bd3",
   "metadata": {},
   "outputs": [],
   "source": [
    "repo.info()"
   ]
  },
  {
   "cell_type": "code",
   "execution_count": null,
   "id": "b0cf8a1f",
   "metadata": {},
   "outputs": [],
   "source": [
    "repo.sample()"
   ]
  },
  {
   "cell_type": "code",
   "execution_count": null,
   "id": "e3df5fe0",
   "metadata": {},
   "outputs": [],
   "source": [
    "review = repo.get(id=\"4937046803\")"
   ]
  },
  {
   "cell_type": "code",
   "execution_count": null,
   "id": "ed03f190",
   "metadata": {},
   "outputs": [],
   "source": [
    "print(review.__str__())"
   ]
  },
  {
   "cell_type": "code",
   "execution_count": null,
   "id": "174f91b5",
   "metadata": {},
   "outputs": [],
   "source": [
    "repo.archive()"
   ]
  }
 ],
 "metadata": {
  "jupytext": {
   "text_representation": {
    "extension": ".md",
    "format_name": "myst",
    "format_version": 0.13,
    "jupytext_version": "1.15.0"
   }
  },
  "kernelspec": {
   "display_name": "appstore",
   "language": "python",
   "name": "python3"
  },
  "language_info": {
   "codemirror_mode": {
    "name": "ipython",
    "version": 3
   },
   "file_extension": ".py",
   "mimetype": "text/x-python",
   "name": "python",
   "nbconvert_exporter": "python",
   "pygments_lexer": "ipython3",
   "version": "3.10.12"
  },
  "source_map": [
   12,
   16,
   32,
   36,
   40,
   44,
   48,
   52,
   56
  ]
 },
 "nbformat": 4,
 "nbformat_minor": 5
}