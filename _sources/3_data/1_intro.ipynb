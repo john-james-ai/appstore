{
 "cells": [
  {
   "cell_type": "markdown",
   "id": "30b23e9e",
   "metadata": {},
   "source": [
    "# Apple App Store Exploratory Data Analysis (EDA)\n",
    "As of May 2023, Apple's App Store offered over 1.76 million apps across 70 categories, accounting for over 62% of the global revenue share in 2022. This iterative, yet lean, exploratory data analysis (EDA) of over 300,000 apps across 26 categories aims to discover patterns, trends and clusters of opinion, and to generate actionable, high-impact insights for opportunity discover and analysis.\n",
    "\n",
    "> “Far better an approximate answer to the right question, which is often vague, than an exact answer to the wrong question, which can always be made precise.” — John Tukey\n",
    "\n",
    "The EDA is guided by the following nine, intentionally vague, yet provoking questions to stimulate discovery of the unknown, latent, yet high-impact/high-value, customer experience in an iterative, and likely chaotic learning process.\n",
    "\n",
    "1. What best characterizes the nature of customer opinion within the mobile app market today?\n",
    "2. What best characterizes the intensity of customer opinion?\n",
    "3. How does opinion and customer satisfaction vary within and across mobile app categories?\n",
    "4. Are their clusters exposed by the nature and intensity of opinion?\n",
    "5. What does the distribution of rating and rating volume reveal about app creators / developers?\n",
    "6. To what degree do these data suggest unmet customer needs, and fruitfull areas for opportunity discovery?\n",
    "\n",
    "## Datasets\n",
    "This effort centers around three datasets comprising data obtained from the Apple App Store during May of 2023.\n",
    "\n",
    "| Name         | Filename       | Description                                           | Examples     |\n",
    "|--------------|----------------|-------------------------------------------------------|--------------|\n",
    "| App Overview | appdata.csv.gz | Descriptive data, price, category, rating information |   475,132    |\n",
    "| App Rating   | ratings.csv.gz | Rating histogram and review counts                    |       9,999  |\n",
    "| App Reviews  | reviews.csv.gz | Customer reviews                                      |   999,999    |\n",
    "\n",
    "## EDA Approach\n",
    "Our analysis will traverse three stages, with three datasets, each providing progressively deeper insight into the voice of the mobile app customer.\n",
    "\n",
    "- [Stage one](../3_data/2_eda_stage_1.md) is a high-level examination of the basic product descriptive information, as well as price, average rating, rating count and developer data.\n",
    "- [stage two](../3_data/3_eda_stage_2.md), a subset of the data will provide review count and rating histograms of the distribution of ratings and rating counts, evincing the range and intensity of customer opinion.\n",
    "- [stage three](../3_data/4_eda_stage_3.md), the analysis turns qualitative as we analyze customer sentiment from reviews, vis-a-vis ratings."
   ]
  }
 ],
 "metadata": {
  "jupytext": {
   "text_representation": {
    "extension": ".md",
    "format_name": "myst",
    "format_version": 0.13,
    "jupytext_version": "1.15.0"
   }
  },
  "kernelspec": {
   "display_name": "appstore",
   "language": "python",
   "name": "python3"
  },
  "language_info": {
   "codemirror_mode": {
    "name": "ipython",
    "version": 3
   },
   "file_extension": ".py",
   "mimetype": "text/x-python",
   "name": "python",
   "nbconvert_exporter": "python",
   "pygments_lexer": "ipython3",
   "version": "3.10.12"
  },
  "source_map": [
   12
  ]
 },
 "nbformat": 4,
 "nbformat_minor": 5
}