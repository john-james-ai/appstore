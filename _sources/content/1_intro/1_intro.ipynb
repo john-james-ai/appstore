{
 "cells": [
  {
   "cell_type": "markdown",
   "id": "15bee63c",
   "metadata": {},
   "source": [
    "# Introduction\n",
    "\n",
    "Apple's App Store ecosystem, host to nearly 1.8 million apps as of May 2023{cite}`AppDataReport`, which were downloaded or redownloaded on average 1.5 billion times each week in 2022, facilitated $1.1 trillion in developer billings and sales last year{cite}`DevelopersGeneratedTrillion`."
   ]
  }
 ],
 "metadata": {
  "jupytext": {
   "text_representation": {
    "extension": ".md",
    "format_name": "myst",
    "format_version": 0.13,
    "jupytext_version": "1.15.0"
   }
  },
  "kernelspec": {
   "display_name": "appstore",
   "language": "python",
   "name": "python3"
  },
  "language_info": {
   "codemirror_mode": {
    "name": "ipython",
    "version": 3
   },
   "file_extension": ".py",
   "mimetype": "text/x-python",
   "name": "python",
   "nbconvert_exporter": "python",
   "pygments_lexer": "ipython3",
   "version": "3.10.12"
  },
  "source_map": [
   12
  ]
 },
 "nbformat": 4,
 "nbformat_minor": 5
}