{
 "cells": [
  {
   "cell_type": "markdown",
   "id": "f6b60511",
   "metadata": {},
   "source": [
    "# Exploratory Data Analysis\n",
    "\n",
    "## Stage II: Ratings\n",
    "\n",
    "| #  | Variable    | Description                      | Data Type   |\n",
    "| -- | ----------- | -------------------------------- | ----------- |\n",
    "| 1  | id          | App Identifier                   | Nominal     |\n",
    "| 2  | name        | App Name                         | Nominal     |\n",
    "| 3  | category_id | Four Digit Category Id           | Categorical |\n",
    "| 4  | category    | Category Name                    | Categorical |\n",
    "| 5  | rating      | Average Customer Rating          | Interval    |\n",
    "| 6  | reviews     | Total Number Of Customer Reviews | Discrete    |\n",
    "| 7  | ratings     | Rating Count                     | Discrete    |\n",
    "| 8  | onestar     | One Star Rating Count            | Discrete    |\n",
    "| 9  | twostar     | Two Star Rating Count            | Discrete    |\n",
    "| 10 | threestar   | Three Star Rating Count          | Discrete    |\n",
    "| 11 | fourstar    | Four Star Rating Count           | Discrete    |\n",
    "| 12 | fivestar    | Five Star Rating Count           | Discrete    |"
   ]
  },
  {
   "cell_type": "code",
   "execution_count": 1,
   "id": "c52365b9",
   "metadata": {},
   "outputs": [],
   "source": [
    "import numpy as np\n",
    "import pandas as pd\n",
    "from IPython.display import HTML, display_html\n",
    "\n",
    "from appstore.data.dataset.rating import RatingDataset\n",
    "from appstore.container import AppstoreContainer\n",
    "formatting = {\"thousands\":\",\", \"precision\":2}"
   ]
  },
  {
   "cell_type": "code",
   "execution_count": 2,
   "id": "28a824f8",
   "metadata": {},
   "outputs": [],
   "source": [
    "container = AppstoreContainer()\n",
    "container.init_resources()\n",
    "container.wire(packages=[\"appstore.data.dataset\"])"
   ]
  },
  {
   "cell_type": "code",
   "execution_count": 3,
   "id": "79acd297",
   "metadata": {},
   "outputs": [],
   "source": [
    "repo = container.data.rating_repo()\n",
    "dataset = repo.get_dataset()"
   ]
  },
  {
   "cell_type": "markdown",
   "id": "23dfd19c",
   "metadata": {},
   "source": [
    "### Structural Analysis\n",
    "\n",
    "The structure and characteristics of the Rating dataset are as follows:\n",
    "\n",
    "### Data Quality Analysis\n",
    "\n",
    "### Content Analysis"
   ]
  }
 ],
 "metadata": {
  "jupytext": {
   "text_representation": {
    "extension": ".md",
    "format_name": "myst",
    "format_version": 0.13,
    "jupytext_version": "1.15.0"
   }
  },
  "kernelspec": {
   "display_name": "appstore",
   "language": "python",
   "name": "python3"
  },
  "language_info": {
   "codemirror_mode": {
    "name": "ipython",
    "version": 3
   },
   "file_extension": ".py",
   "mimetype": "text/x-python",
   "name": "python",
   "nbconvert_exporter": "python",
   "pygments_lexer": "ipython3",
   "version": "3.10.12"
  },
  "source_map": [
   12,
   32,
   42,
   48,
   51
  ]
 },
 "nbformat": 4,
 "nbformat_minor": 5
}