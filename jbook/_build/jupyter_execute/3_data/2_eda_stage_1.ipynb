{
 "cells": [
  {
   "cell_type": "markdown",
   "id": "dae1a82f",
   "metadata": {},
   "source": [
    "# Exploratory Data Analysis\n",
    "\n",
    "## Stage One: App Performance Overview\n",
    "\n",
    "Stage one of our exploratory data analysis aims to expose patterns and yield insight into the nature and intensity of the customer experience within the IOS app user community.\n",
    "\n",
    "### The Dataset\n",
    "\n",
    "The dataset contains the following product descriptive, rating, price, and developer data for some 475,132 apps from the App Store.\n",
    "\n",
    "| #  | Variable     | Date Type  | Description                              |\n",
    "| -- | ------------ | ---------- | ---------------------------------------- |\n",
    "| 1  | id           | Nominal    | App Id from the App Store                |\n",
    "| 2  | name         | Nominal    | App Name                                 |\n",
    "| 3  | description  | Nominal    | App Description                          |\n",
    "| 4  | category_id  | Nominal    | Numeric category identifier              |\n",
    "| 5  | category     | Nominal    | Category name                            |\n",
    "| 6  | price        | Continuous | App Price                                |\n",
    "| 7  | developer_id | Nominal    | Identifier for the developer             |\n",
    "| 8  | developer    | Nominal    | Name of the developer                    |\n",
    "| 9  | rating       | Ordinal    | Average user rating since first released |\n",
    "| 10 | ratings      | Discrete   | Number of ratings since first release    |\n",
    "| 11 | released     | Continuous | Datetime of first release                |\n",
    "\n",
    "### EDA Approach\n",
    "\n",
    "Our exploration will comprise the following five analyses.\n",
    "\n",
    "1. Structural Analysis: Examine the overall shape, structure, and type of the data.\n",
    "2. Data Quality Analysis: Assess quality and suitability of the data in terms of missing values, outliers, duplication, cardinality, and feature values.\n",
    "3. Univariate Analysis: Explore the distributions of rating count, average rating, categories, and price.\n",
    "4. Bivariate Analysis: Evaluate ratings, rating count, reviews and correlation analysis between two variables.\n",
    "5. Multivariate Analysis: Cluster, factor, and correspondence analysis of three or more variables simultaneously.\n",
    "6. Conclusions, insights and questions for stage two."
   ]
  },
  {
   "cell_type": "markdown",
   "id": "b9cf2343",
   "metadata": {},
   "source": [
    "**Import Python Libraries and Provision Dependencies**"
   ]
  },
  {
   "cell_type": "code",
   "execution_count": 1,
   "id": "c7920f18",
   "metadata": {},
   "outputs": [
    {
     "ename": "TypeError",
     "evalue": "'NoneType' object is not iterable",
     "output_type": "error",
     "traceback": [
      "\u001b[0;31m---------------------------------------------------------------------------\u001b[0m",
      "\u001b[0;31mTypeError\u001b[0m                                 Traceback (most recent call last)",
      "Cell \u001b[0;32mIn[1], line 10\u001b[0m\n\u001b[1;32m      7\u001b[0m \u001b[38;5;28;01mimport\u001b[39;00m \u001b[38;5;21;01mseaborn\u001b[39;00m \u001b[38;5;28;01mas\u001b[39;00m \u001b[38;5;21;01msns\u001b[39;00m\n\u001b[1;32m      8\u001b[0m warnings\u001b[38;5;241m.\u001b[39mfilterwarnings(action\u001b[38;5;241m=\u001b[39m\u001b[38;5;124m'\u001b[39m\u001b[38;5;124mignore\u001b[39m\u001b[38;5;124m'\u001b[39m, category\u001b[38;5;241m=\u001b[39m\u001b[38;5;167;01mUserWarning\u001b[39;00m)\n\u001b[0;32m---> 10\u001b[0m \u001b[38;5;28;01mimport\u001b[39;00m \u001b[38;5;21;01md8analysis\u001b[39;00m \u001b[38;5;28;01mas\u001b[39;00m \u001b[38;5;21;01meda\u001b[39;00m\n\u001b[1;32m     11\u001b[0m \u001b[38;5;28;01mfrom\u001b[39;00m \u001b[38;5;21;01mappstore\u001b[39;00m\u001b[38;5;21;01m.\u001b[39;00m\u001b[38;5;21;01mcontainer\u001b[39;00m \u001b[38;5;28;01mimport\u001b[39;00m AppstoreContainer\n\u001b[1;32m     12\u001b[0m \u001b[38;5;28;01mfrom\u001b[39;00m \u001b[38;5;21;01mappstore\u001b[39;00m\u001b[38;5;21;01m.\u001b[39;00m\u001b[38;5;21;01mdata\u001b[39;00m\u001b[38;5;21;01m.\u001b[39;00m\u001b[38;5;21;01mdataset\u001b[39;00m\u001b[38;5;21;01m.\u001b[39;00m\u001b[38;5;21;01mappdata\u001b[39;00m \u001b[38;5;28;01mimport\u001b[39;00m AppDataDataset\n",
      "File \u001b[0;32m~/anaconda3/envs/appstore/lib/python3.10/site-packages/d8analysis/__init__.py:22\u001b[0m\n\u001b[1;32m     19\u001b[0m \u001b[38;5;28;01mfrom\u001b[39;00m \u001b[38;5;21;01md8analysis\u001b[39;00m\u001b[38;5;21;01m.\u001b[39;00m\u001b[38;5;21;01mcontainer\u001b[39;00m \u001b[38;5;28;01mimport\u001b[39;00m D8AnalysisContainer\n\u001b[1;32m     21\u001b[0m container \u001b[38;5;241m=\u001b[39m D8AnalysisContainer()\n\u001b[0;32m---> 22\u001b[0m \u001b[43mcontainer\u001b[49m\u001b[38;5;241;43m.\u001b[39;49m\u001b[43minit_resources\u001b[49m\u001b[43m(\u001b[49m\u001b[43m)\u001b[49m\n\u001b[1;32m     23\u001b[0m container\u001b[38;5;241m.\u001b[39mwire(packages\u001b[38;5;241m=\u001b[39m[\u001b[38;5;124m\"\u001b[39m\u001b[38;5;124md8analysis\u001b[39m\u001b[38;5;124m\"\u001b[39m])\n\u001b[1;32m     25\u001b[0m \u001b[38;5;66;03m# Data Package\u001b[39;00m\n\u001b[1;32m     26\u001b[0m \u001b[38;5;66;03m# Generation\u001b[39;00m\n",
      "File \u001b[0;32msrc/dependency_injector/containers.pyx:343\u001b[0m, in \u001b[0;36mdependency_injector.containers.DynamicContainer.init_resources\u001b[0;34m()\u001b[0m\n",
      "File \u001b[0;32msrc/dependency_injector/providers.pyx:3786\u001b[0m, in \u001b[0;36mdependency_injector.providers.Resource.init\u001b[0;34m()\u001b[0m\n",
      "File \u001b[0;32msrc/dependency_injector/providers.pyx:225\u001b[0m, in \u001b[0;36mdependency_injector.providers.Provider.__call__\u001b[0;34m()\u001b[0m\n",
      "File \u001b[0;32msrc/dependency_injector/providers.pyx:3894\u001b[0m, in \u001b[0;36mdependency_injector.providers.Resource._provide\u001b[0;34m()\u001b[0m\n",
      "File \u001b[0;32msrc/dependency_injector/providers.pxd:608\u001b[0m, in \u001b[0;36mdependency_injector.providers.__call\u001b[0;34m()\u001b[0m\n",
      "File \u001b[0;32m~/anaconda3/envs/appstore/lib/python3.10/logging/config.py:811\u001b[0m, in \u001b[0;36mdictConfig\u001b[0;34m(config)\u001b[0m\n\u001b[1;32m    809\u001b[0m \u001b[38;5;28;01mdef\u001b[39;00m \u001b[38;5;21mdictConfig\u001b[39m(config):\n\u001b[1;32m    810\u001b[0m \u001b[38;5;250m    \u001b[39m\u001b[38;5;124;03m\"\"\"Configure logging using a dictionary.\"\"\"\u001b[39;00m\n\u001b[0;32m--> 811\u001b[0m     \u001b[43mdictConfigClass\u001b[49m\u001b[43m(\u001b[49m\u001b[43mconfig\u001b[49m\u001b[43m)\u001b[49m\u001b[38;5;241m.\u001b[39mconfigure()\n",
      "File \u001b[0;32m~/anaconda3/envs/appstore/lib/python3.10/logging/config.py:375\u001b[0m, in \u001b[0;36mBaseConfigurator.__init__\u001b[0;34m(self, config)\u001b[0m\n\u001b[1;32m    374\u001b[0m \u001b[38;5;28;01mdef\u001b[39;00m \u001b[38;5;21m__init__\u001b[39m(\u001b[38;5;28mself\u001b[39m, config):\n\u001b[0;32m--> 375\u001b[0m     \u001b[38;5;28mself\u001b[39m\u001b[38;5;241m.\u001b[39mconfig \u001b[38;5;241m=\u001b[39m \u001b[43mConvertingDict\u001b[49m\u001b[43m(\u001b[49m\u001b[43mconfig\u001b[49m\u001b[43m)\u001b[49m\n\u001b[1;32m    376\u001b[0m     \u001b[38;5;28mself\u001b[39m\u001b[38;5;241m.\u001b[39mconfig\u001b[38;5;241m.\u001b[39mconfigurator \u001b[38;5;241m=\u001b[39m \u001b[38;5;28mself\u001b[39m\n",
      "\u001b[0;31mTypeError\u001b[0m: 'NoneType' object is not iterable"
     ]
    }
   ],
   "source": [
    "import os\n",
    "\n",
    "import numpy as np\n",
    "import pandas as pd\n",
    "from IPython.display import HTML, display_html\n",
    "import warnings\n",
    "import seaborn as sns\n",
    "warnings.filterwarnings(action='ignore', category=UserWarning)\n",
    "\n",
    "import d8analysis as eda\n",
    "from appstore.container import AppstoreContainer\n",
    "from appstore.data.dataset.appdata import AppDataDataset"
   ]
  },
  {
   "cell_type": "code",
   "execution_count": null,
   "id": "3fbadc1c",
   "metadata": {},
   "outputs": [],
   "source": [
    "container = AppstoreContainer()\n",
    "container.init_resources()"
   ]
  },
  {
   "cell_type": "markdown",
   "id": "2edd172e",
   "metadata": {},
   "source": [
    "**Obtain the Dataset**"
   ]
  },
  {
   "cell_type": "code",
   "execution_count": null,
   "id": "f2b731d3",
   "metadata": {},
   "outputs": [],
   "source": [
    "repo = container.data.appdata_repo()\n",
    "dataset = repo.get_dataset()"
   ]
  },
  {
   "cell_type": "markdown",
   "id": "da1ffe48",
   "metadata": {},
   "source": [
    "### Structural Analysis\n",
    "\n",
    "The structure and characteristics of the AppData dataset are as follows:"
   ]
  },
  {
   "cell_type": "code",
   "execution_count": null,
   "id": "38f1582a",
   "metadata": {},
   "outputs": [],
   "source": [
    "df1 = dataset.overview\n",
    "df2 = dataset.dtypes\n",
    "\n",
    "df1_style = df1.style.set_table_attributes(\"style='display:inline; margin-right:220px;'\").set_caption(\"Dataset Structure\")\n",
    "df2_style = df2.style.set_table_attributes(\"style='display:inline; margin-right:120px'\").set_caption(\"Dataset Data Types\")\n",
    "\n",
    "display_html(df1_style._repr_html_() + df2_style._repr_html_(), raw=True)"
   ]
  },
  {
   "cell_type": "markdown",
   "id": "b839b99f",
   "metadata": {},
   "source": [
    "As indicated above, we have approximately 475,000 apps in our dataset, described by 11 features. Let's take a quick look."
   ]
  },
  {
   "cell_type": "code",
   "execution_count": null,
   "id": "78ff88ac",
   "metadata": {},
   "outputs": [],
   "source": [
    "dataset.sample().style.hide(axis=\"index\")"
   ]
  },
  {
   "cell_type": "markdown",
   "id": "959c0a2e",
   "metadata": {},
   "source": [
    "Identity variables, specifically (app) id and developer_id will be retained for data processing purposes, but have no other value and will be largely ignored during this analysis.\n",
    "\n",
    "### Data Quality Analysis\n",
    "\n",
    "Data type, cardinality, validity, duplication, and size data are summarized at the variable level."
   ]
  },
  {
   "cell_type": "code",
   "execution_count": null,
   "id": "40be1b73",
   "metadata": {},
   "outputs": [],
   "source": [
    "dataset.info.style.hide(axis=\"index\")"
   ]
  },
  {
   "cell_type": "markdown",
   "id": "a20aee74",
   "metadata": {},
   "source": [
    "**Observations**\n",
    "\n",
    "- With the exception of released (date), we have no missing values.\n",
    "- Id's are unique and name, description, developer information, are all high-cardinality\n",
    "- Category id and label are low-cardinality with 26 unique values, each."
   ]
  },
  {
   "cell_type": "markdown",
   "id": "df6a6db2",
   "metadata": {},
   "source": [
    "#### Numeric Variable Data Quality\n",
    "\n",
    "Each feature has been cast to an appropriate data type and missing data are not extant for the dataset. Valid values for the numeric variables are:\n",
    "\n",
    "| Variable | Date Type  | Valid Values                                     |\n",
    "| -------- | ---------- | ------------------------------------------------ |\n",
    "| price    | Continuous | Non negative values                              |\n",
    "| rating   | Interval   | Real valued in [0,5]                             |\n",
    "| ratings  | Discrete   | Discrete and non-negative                        |\n",
    "| released | Continuous | Datetimes between June 10, 2008 and present day. |\n",
    "\n",
    "Let's check the ranges for these variables."
   ]
  },
  {
   "cell_type": "code",
   "execution_count": null,
   "id": "051396d6",
   "metadata": {},
   "outputs": [],
   "source": [
    "stats = dataset.describe(include=[np.number, np.datetime64])\n",
    "stats.numeric[['min','max']]"
   ]
  },
  {
   "cell_type": "markdown",
   "id": "542567e2",
   "metadata": {},
   "source": [
    "All numeric and datetime values are within range.\n",
    "\n",
    "#### Categorical Variable Data Quality\n",
    "\n",
    "The id, name, description, developer_id, and developer variables are nominal, high cardinality strings. Category and category_id; in contrast, must contain one of 26 category id / category values selected for this analysis."
   ]
  },
  {
   "cell_type": "code",
   "execution_count": null,
   "id": "2ff4098a",
   "metadata": {},
   "outputs": [],
   "source": [
    "columns = ['category_id', 'category']\n",
    "dataset.unique(columns=columns).style.hide(axis=\"index\")"
   ]
  },
  {
   "cell_type": "markdown",
   "id": "15c740dc",
   "metadata": {},
   "source": [
    "Category and category_id values are as expected."
   ]
  },
  {
   "cell_type": "markdown",
   "id": "fcafa35e",
   "metadata": {},
   "source": [
    "### Univariate Analysis\n",
    "\n",
    "#### Quantitative Data\n",
    "\n",
    "We'll begin the univariate analysis with an examination of the quantitative variables, namely:\n",
    "\n",
    "- Average User Rating\n",
    "- Rating Count\n",
    "- Price\n",
    "- Release Date\n",
    "\n",
    "Using quantitative and qualititative methods, we'll discover the central tendency of the data (arithmetic mean, median, mode), its spread (variance, standard deviation, interquartile range, maximum and minimum value) and some features of its distribution (skewness, kurtosis).\n",
    "\n",
    "##### Average User Rating"
   ]
  },
  {
   "cell_type": "code",
   "execution_count": null,
   "id": "a12066aa",
   "metadata": {},
   "outputs": [],
   "source": [
    "dataset.plot.pdfcdfplot(x='rating', title='Average User Rating Distribution')\n"
   ]
  },
  {
   "cell_type": "markdown",
   "id": "637f2a3c",
   "metadata": {},
   "source": [
    " Since the rating scale is in [1,5], its clear that the probability density and histogram above contain apps that have not been rated. To get a sense of the actual ratings, we'll create a new dataset without the non-reviewed apps."
   ]
  },
  {
   "cell_type": "code",
   "execution_count": null,
   "id": "2b627799",
   "metadata": {},
   "outputs": [],
   "source": [
    "df = dataset.as_df()\n",
    "df = df.loc[df['rating'] != 0]\n",
    "rated = AppDataDataset(df=df)"
   ]
  },
  {
   "cell_type": "markdown",
   "id": "ab58514a",
   "metadata": {},
   "source": [
    "Ok, let's examine the frequency distribution of the ratings."
   ]
  },
  {
   "cell_type": "code",
   "execution_count": null,
   "id": "b67ac9bc",
   "metadata": {},
   "outputs": [],
   "source": [
    "rated.frequency(x='rating', bins=4)\n",
    "stats = rated.describe(x='rating')\n",
    "stats.numeric\n",
    "rated.plot.pdfcdfplot(x='rating', bins=4, title='Distribution of User Ratings')\n",
    "rated.plot.histpdfplot(x='rating', title='Distribution of User Ratings')"
   ]
  },
  {
   "cell_type": "markdown",
   "id": "4e2105b3",
   "metadata": {},
   "source": [
    "**Key Observations:**\n",
    "\n",
    "- The long left tail reveals a tendency towards ratings in the 4-5 star range.\n",
    "- Five star ratings make up 67% of all ratings.\n",
    "- Multiple peaks are also observed at one star and three star ratings and to a lesser degree with two stars.\n",
    "- Ratings up to one, two, and three stars, correspond to approximately 8%, 20% and 33% of the cumulative ratings respectively.\n",
    "- There is no assumption of normality in the distribution of ratings.\n",
    "- In short, five star ratings dominate customer opinion at this level by a significant margin.\n",
    "- Note: Taking the average of ordinal values, such as user ratings, is not among the *permissible* statistical transformations whose meanings are preserved when applied to the data, according to measurement theorists, most notably, Harvard psychologist S.S Stevens, who coined the terms *nominal*, *ordinal*, *interval*, and *ratio*. Fortunately, permission is not required in data analysis"
   ]
  },
  {
   "cell_type": "markdown",
   "id": "5a0bb5f0",
   "metadata": {},
   "source": [
    "##### Rating Count\n",
    "\n",
    "Rating count can be a harbinger of the intensity of opinion. We'll use the same rated dataset as above."
   ]
  },
  {
   "cell_type": "code",
   "execution_count": null,
   "id": "065b66c5",
   "metadata": {},
   "outputs": [],
   "source": [
    "stats = rated.describe(x='ratings')\n",
    "stats.numeric\n",
    "rated.plot.histogram(x='ratings',bins=5, title='Distribution of User Rating Count')"
   ]
  },
  {
   "cell_type": "code",
   "execution_count": null,
   "id": "8b804bb4",
   "metadata": {},
   "outputs": [],
   "source": [
    "rated.top_n(x='ratings', n=10)"
   ]
  },
  {
   "cell_type": "code",
   "execution_count": null,
   "id": "0ce80278",
   "metadata": {},
   "outputs": [],
   "source": [
    "topn = np.array([10,20,35,50,75,100,200,500,1000])\n",
    "rated.plot.topn_plot(x='ratings', n=topn)"
   ]
  },
  {
   "cell_type": "markdown",
   "id": "4229d4fa",
   "metadata": {},
   "source": [
    "**Key Observations:**\n",
    "\n",
    "- The distribution of rating counts has a long right tail, with a range from 1 to nearly 31 m ratings.\n",
    "- The central tendency is placed at a median of 10 ratings per app. The average is pulled in the direction of the outliers.\n",
    "- Giants of big-tech, social-media, an e-commerce, such as YouTube, Tik-Tok, Spotify, WhatsApp and DoorDash are among the most rated apps in the App Store.\n",
    "- The top-10 most-rated apps account for nearly 14% of all ratings and less than 1/10th of a percent of all apps. Moreover, the most-rated 1000 apps, who represent 1/3rd of a percent of all apps, consume nearly 75% of all ratings.\n",
    "- Takeaway: Rating counts are vastly disproportionate.\n",
    "- Note: Apps with earlier release dates may have higher rating counts. Ratings per day since release will remove the temporal dimension from the rating counts."
   ]
  },
  {
   "cell_type": "code",
   "execution_count": null,
   "id": "935e2624",
   "metadata": {},
   "outputs": [],
   "source": []
  },
  {
   "cell_type": "code",
   "execution_count": null,
   "id": "dd88a86c",
   "metadata": {},
   "outputs": [],
   "source": [
    "with pd.option_context('format.precision',2):\n",
    "    df1_style = freq.style.set_table_attributes(\"style='display:inline; margin-right:220px;'\").set_caption(\"Average User Rating Frequency Distribution\")\n",
    "    df2_style = desc.style.set_table_attributes(\"style='display:inline; margin-right:120px'\").set_caption(\"Average User Rating Descriptive Statistics\")\n",
    "    display_html(df1_style._repr_html_() + df2_style._repr_html_(), raw=True)"
   ]
  },
  {
   "cell_type": "markdown",
   "id": "96bb8720",
   "metadata": {},
   "source": [
    "**Key Observations**\n",
    "\n",
    "- The five-star ratings represent 67% of nearly 291,000 ratings in the dataset.\n",
    "- Ratings up to four-star comprise just 33% of all ratings. Three stars and below make up approximately 20% of the data; whereas, one and two star ratings represent less than 10% of all ratings.\n",
    "- The mean of average user ratings, 4.09 stars, is influenced by the significant left skew. The median of 4.53 is a more robust measure of centrality, given the long left-tail in the distribution.\n",
    "- The assumption of a normal distribution is violated as shown in the histogram, and the probability density functions."
   ]
  },
  {
   "cell_type": "markdown",
   "id": "2c77f498",
   "metadata": {},
   "source": [
    "#### Ratings\n",
    "\n",
    "Next, we explore the distribution of rating counts in the dataset."
   ]
  },
  {
   "cell_type": "code",
   "execution_count": null,
   "id": "bf98d2f2",
   "metadata": {},
   "outputs": [],
   "source": [
    "p = eda.KDEPlot(data=df_ratings, x='ratings', title=\"Rating Count\\nProbability Density Function\")\n",
    "h = eda.Histogram(data=df_ratings, x='ratings', title=\"Rating Count\\nHistogram\")\n",
    "c = eda.ECDFPlot(data=df_ratings, x='ratings', title=\"Rating Count\\nCumulative Distribution Function\")\n",
    "v = eda.ViolinPlot(data=df_ratings,x='ratings', title=\"Rating Count Distribution\")\n",
    "plots = [p]\n",
    "\n",
    "visual = Visual()\n",
    "for plot in plots:\n",
    "    visual.add_plot(plot=plot)\n",
    "visual.visualize()"
   ]
  }
 ],
 "metadata": {
  "jupytext": {
   "text_representation": {
    "extension": ".md",
    "format_name": "myst",
    "format_version": 0.13,
    "jupytext_version": "1.15.0"
   }
  },
  "kernelspec": {
   "display_name": "appstore",
   "language": "python",
   "name": "python3"
  },
  "language_info": {
   "codemirror_mode": {
    "name": "ipython",
    "version": 3
   },
   "file_extension": ".py",
   "mimetype": "text/x-python",
   "name": "python",
   "nbconvert_exporter": "python",
   "pygments_lexer": "ipython3",
   "version": "3.10.12"
  },
  "source_map": [
   12,
   48,
   52,
   67,
   70,
   74,
   77,
   83,
   91,
   95,
   97,
   105,
   107,
   115,
   130,
   133,
   141,
   144,
   148,
   165,
   168,
   172,
   176,
   180,
   186,
   198,
   204,
   210,
   214,
   217,
   228,
   232,
   237,
   246,
   252
  ]
 },
 "nbformat": 4,
 "nbformat_minor": 5
}